{
 "cells": [
  {
   "cell_type": "code",
   "execution_count": 1,
   "metadata": {
    "collapsed": true
   },
   "outputs": [],
   "source": [
    "import pandas as pd\n",
    "import matplotlib.pyplot as plt\n",
    "import seaborn as sen\n",
    "import math \n",
    "from arabic import *\n",
    "import re\n",
    "import pyarabic.araby as ar\n",
    "\n",
    "%matplotlib inline"
   ]
  },
  {
   "cell_type": "markdown",
   "metadata": {},
   "source": [
    "# Arabic poetry  Dataset \n",
    "#### this data scraped from [الموسوعة الشعريه](poetry.tcaabudhabi.ae)"
   ]
  },
  {
   "cell_type": "markdown",
   "metadata": {},
   "source": [
    "## Read Data"
   ]
  },
  {
   "cell_type": "code",
   "execution_count": 2,
   "metadata": {},
   "outputs": [
    {
     "name": "stderr",
     "output_type": "stream",
     "text": [
      "/home/moroclash/anaconda3/lib/python3.6/site-packages/numpy/lib/arraysetops.py:395: FutureWarning: elementwise comparison failed; returning scalar instead, but in the future will perform elementwise comparison\n",
      "  mask |= (ar1 == a)\n"
     ]
    }
   ],
   "source": [
    "data_path = '../data/All_ksaied.csv'\n",
    "data = pd.read_csv(data_path,index_col=0)"
   ]
  },
  {
   "cell_type": "markdown",
   "metadata": {},
   "source": [
    "## dataset Info"
   ]
  },
  {
   "cell_type": "markdown",
   "metadata": {},
   "source": [
    "### sample from data"
   ]
  },
  {
   "cell_type": "code",
   "execution_count": 3,
   "metadata": {},
   "outputs": [
    {
     "data": {
      "text/html": [
       "<div>\n",
       "<style>\n",
       "    .dataframe thead tr:only-child th {\n",
       "        text-align: right;\n",
       "    }\n",
       "\n",
       "    .dataframe thead th {\n",
       "        text-align: left;\n",
       "    }\n",
       "\n",
       "    .dataframe tbody tr th {\n",
       "        vertical-align: top;\n",
       "    }\n",
       "</style>\n",
       "<table border=\"1\" class=\"dataframe\">\n",
       "  <thead>\n",
       "    <tr style=\"text-align: right;\">\n",
       "      <th></th>\n",
       "      <th>العصر</th>\n",
       "      <th>الشاعر</th>\n",
       "      <th>الديوان</th>\n",
       "      <th>القافية</th>\n",
       "      <th>البحر</th>\n",
       "      <th>الشطر الايسر</th>\n",
       "      <th>الشطر الايمن</th>\n",
       "      <th>البيت</th>\n",
       "    </tr>\n",
       "  </thead>\n",
       "  <tbody>\n",
       "    <tr>\n",
       "      <th>0</th>\n",
       "      <td>قبل الإسلام</td>\n",
       "      <td>عمرو بنِ قُمَيئَة</td>\n",
       "      <td>الديوان الرئيسي</td>\n",
       "      <td>د</td>\n",
       "      <td>الطويل</td>\n",
       "      <td>وَأَن تَــجـمَـعـا شَـمـلي وَتَـنـتَـظِـرا غَـدا</td>\n",
       "      <td>خَـليـلَيَّ لا تَـسـتَعجِلا أَن تَزَوَّدا</td>\n",
       "      <td>خَـليـلَيَّ لا تَـسـتَعجِلا أَن تَزَوَّدا    و...</td>\n",
       "    </tr>\n",
       "    <tr>\n",
       "      <th>1</th>\n",
       "      <td>قبل الإسلام</td>\n",
       "      <td>عمرو بنِ قُمَيئَة</td>\n",
       "      <td>الديوان الرئيسي</td>\n",
       "      <td>د</td>\n",
       "      <td>الطويل</td>\n",
       "      <td>وَلا سُــرعَـتـي يَـومـاً بِـسـابِـقَـةِ الرَدى</td>\n",
       "      <td>فَـمـا لَبَـثـٌ يَـومـاً بِسابِقٍ مَغنَمٍ</td>\n",
       "      <td>فَـمـا لَبَـثـٌ يَـومـاً بِسابِقٍ مَغنَمٍ    و...</td>\n",
       "    </tr>\n",
       "    <tr>\n",
       "      <th>2</th>\n",
       "      <td>قبل الإسلام</td>\n",
       "      <td>عمرو بنِ قُمَيئَة</td>\n",
       "      <td>الديوان الرئيسي</td>\n",
       "      <td>د</td>\n",
       "      <td>الطويل</td>\n",
       "      <td>وَتَــســتَــوجِــبــا مَــنّــاً عَـلَيَّ وَت...</td>\n",
       "      <td>وَإِن تُنظِراني اليَومَ أَقضِ لُبانَةً</td>\n",
       "      <td>وَإِن تُنظِراني اليَومَ أَقضِ لُبانَةً    وَتَ...</td>\n",
       "    </tr>\n",
       "    <tr>\n",
       "      <th>3</th>\n",
       "      <td>قبل الإسلام</td>\n",
       "      <td>عمرو بنِ قُمَيئَة</td>\n",
       "      <td>الديوان الرئيسي</td>\n",
       "      <td>د</td>\n",
       "      <td>الطويل</td>\n",
       "      <td>تُـــؤامِـــرُنـــي سِـــرّاً لِأَصــرِمَ مَــ...</td>\n",
       "      <td>لَعَـمـرُكَ مـا نَـفـسـٌ بِـجِـدٍ رَشيدَةٍ</td>\n",
       "      <td>لَعَـمـرُكَ مـا نَـفـسـٌ بِـجِـدٍ رَشيدَةٍ    ...</td>\n",
       "    </tr>\n",
       "    <tr>\n",
       "      <th>4</th>\n",
       "      <td>قبل الإسلام</td>\n",
       "      <td>عمرو بنِ قُمَيئَة</td>\n",
       "      <td>الديوان الرئيسي</td>\n",
       "      <td>د</td>\n",
       "      <td>الطويل</td>\n",
       "      <td>وَأَفــرَعَ فــي لَومــي مِــراراً وَأَصــعَــدا</td>\n",
       "      <td>وَإِن ظَــهَـرَت مِـنـهُ قَـوارِصُ جَـمَّةـٌ</td>\n",
       "      <td>وَإِن ظَــهَـرَت مِـنـهُ قَـوارِصُ جَـمَّةـٌ  ...</td>\n",
       "    </tr>\n",
       "  </tbody>\n",
       "</table>\n",
       "</div>"
      ],
      "text/plain": [
       "         العصر             الشاعر          الديوان القافية   البحر  \\\n",
       "0  قبل الإسلام  عمرو بنِ قُمَيئَة  الديوان الرئيسي       د  الطويل   \n",
       "1  قبل الإسلام  عمرو بنِ قُمَيئَة  الديوان الرئيسي       د  الطويل   \n",
       "2  قبل الإسلام  عمرو بنِ قُمَيئَة  الديوان الرئيسي       د  الطويل   \n",
       "3  قبل الإسلام  عمرو بنِ قُمَيئَة  الديوان الرئيسي       د  الطويل   \n",
       "4  قبل الإسلام  عمرو بنِ قُمَيئَة  الديوان الرئيسي       د  الطويل   \n",
       "\n",
       "                                        الشطر الايسر  \\\n",
       "0   وَأَن تَــجـمَـعـا شَـمـلي وَتَـنـتَـظِـرا غَـدا   \n",
       "1    وَلا سُــرعَـتـي يَـومـاً بِـسـابِـقَـةِ الرَدى   \n",
       "2  وَتَــســتَــوجِــبــا مَــنّــاً عَـلَيَّ وَت...   \n",
       "3  تُـــؤامِـــرُنـــي سِـــرّاً لِأَصــرِمَ مَــ...   \n",
       "4   وَأَفــرَعَ فــي لَومــي مِــراراً وَأَصــعَــدا   \n",
       "\n",
       "                                   الشطر الايمن  \\\n",
       "0     خَـليـلَيَّ لا تَـسـتَعجِلا أَن تَزَوَّدا   \n",
       "1     فَـمـا لَبَـثـٌ يَـومـاً بِسابِقٍ مَغنَمٍ   \n",
       "2        وَإِن تُنظِراني اليَومَ أَقضِ لُبانَةً   \n",
       "3    لَعَـمـرُكَ مـا نَـفـسـٌ بِـجِـدٍ رَشيدَةٍ   \n",
       "4  وَإِن ظَــهَـرَت مِـنـهُ قَـوارِصُ جَـمَّةـٌ   \n",
       "\n",
       "                                               البيت  \n",
       "0  خَـليـلَيَّ لا تَـسـتَعجِلا أَن تَزَوَّدا    و...  \n",
       "1  فَـمـا لَبَـثـٌ يَـومـاً بِسابِقٍ مَغنَمٍ    و...  \n",
       "2  وَإِن تُنظِراني اليَومَ أَقضِ لُبانَةً    وَتَ...  \n",
       "3  لَعَـمـرُكَ مـا نَـفـسـٌ بِـجِـدٍ رَشيدَةٍ    ...  \n",
       "4  وَإِن ظَــهَـرَت مِـنـهُ قَـوارِصُ جَـمَّةـٌ  ...  "
      ]
     },
     "execution_count": 3,
     "metadata": {},
     "output_type": "execute_result"
    }
   ],
   "source": [
    "data.head(5)"
   ]
  },
  {
   "cell_type": "markdown",
   "metadata": {},
   "source": [
    "### Data length  :: **1,831,770** verse"
   ]
  },
  {
   "cell_type": "code",
   "execution_count": 4,
   "metadata": {},
   "outputs": [
    {
     "data": {
      "text/plain": [
       "1831770"
      ]
     },
     "execution_count": 4,
     "metadata": {},
     "output_type": "execute_result"
    }
   ],
   "source": [
    "len(data)"
   ]
  },
  {
   "cell_type": "markdown",
   "metadata": {},
   "source": [
    "### Number of meters ::   **24**"
   ]
  },
  {
   "cell_type": "code",
   "execution_count": 9,
   "metadata": {},
   "outputs": [
    {
     "data": {
      "text/plain": [
       "24"
      ]
     },
     "execution_count": 9,
     "metadata": {},
     "output_type": "execute_result"
    }
   ],
   "source": [
    "meters = data['البحر'].unique()\n",
    "len(meters)"
   ]
  },
  {
   "cell_type": "code",
   "execution_count": 10,
   "metadata": {},
   "outputs": [
    {
     "data": {
      "text/plain": [
       "array(['الطويل', 'المنسرح', 'المتقارب', 'الخفيف', 'الكامل', 'السريع',\n",
       "       'الوافر', 'الرجز', 'البسيط', 'الرمل', 'المجتث', 'المديد', 'الهزج',\n",
       "       'المتدارك', 'المقتضب', 'المضارع', 'شعر التفعيلة', 'الدوبيت', 'موشح',\n",
       "       '&nbsp;', 'السلسلة', 'المواليا', 'شعر حر', 'عامي'], dtype=object)"
      ]
     },
     "execution_count": 10,
     "metadata": {},
     "output_type": "execute_result"
    }
   ],
   "source": [
    "meters"
   ]
  },
  {
   "cell_type": "markdown",
   "metadata": {},
   "source": [
    "### Info about every meter :: \n"
   ]
  },
  {
   "cell_type": "code",
   "execution_count": 13,
   "metadata": {},
   "outputs": [
    {
     "data": {
      "text/plain": [
       "الطويل          405378\n",
       "الكامل          363486\n",
       "البسيط          239974\n",
       "الخفيف          156049\n",
       "الوافر          140560\n",
       "الرجز           117572\n",
       "&nbsp;           92334\n",
       "الرمل            79015\n",
       "المتقارب         63818\n",
       "السريع           58084\n",
       "موشح             30060\n",
       "المنسرح          28357\n",
       "المجتث           17884\n",
       "المديد            7829\n",
       "الهزج             7541\n",
       "عامي              7074\n",
       "المتدارك          5037\n",
       "شعر التفعيلة      3232\n",
       "الدوبيت           2713\n",
       "شعر حر            2135\n",
       "المواليا          1644\n",
       "السلسلة            907\n",
       "المقتضب            799\n",
       "المضارع            288\n",
       "Name: البحر, dtype: int64"
      ]
     },
     "execution_count": 13,
     "metadata": {},
     "output_type": "execute_result"
    }
   ],
   "source": [
    "data['البحر'].value_counts()"
   ]
  },
  {
   "cell_type": "markdown",
   "metadata": {},
   "source": [
    "### number of 16 meters in Arbic 1,684,130"
   ]
  },
  {
   "cell_type": "markdown",
   "metadata": {},
   "source": [
    "### number of eras ::"
   ]
  },
  {
   "cell_type": "code",
   "execution_count": 17,
   "metadata": {},
   "outputs": [
    {
     "data": {
      "text/plain": [
       "12"
      ]
     },
     "execution_count": 17,
     "metadata": {},
     "output_type": "execute_result"
    }
   ],
   "source": [
    "eras = data['العصر'].unique()\n",
    "len(eras)"
   ]
  },
  {
   "cell_type": "code",
   "execution_count": 18,
   "metadata": {},
   "outputs": [
    {
     "data": {
      "text/plain": [
       "array(['قبل الإسلام', 'المخضرمين', 'العباسي', 'الأموي', 'المملوكي',\n",
       "       'المغرب والأندلس', 'بين الدولتين', 'الفاطمي', 'الأيوبي', 'الحديث',\n",
       "       'الإسلامي', 'العثماني'], dtype=object)"
      ]
     },
     "execution_count": 18,
     "metadata": {},
     "output_type": "execute_result"
    }
   ],
   "source": [
    "eras"
   ]
  },
  {
   "cell_type": "markdown",
   "metadata": {},
   "source": [
    "### Info about every era ::"
   ]
  },
  {
   "cell_type": "code",
   "execution_count": 20,
   "metadata": {},
   "outputs": [
    {
     "data": {
      "text/plain": [
       "الحديث             778723\n",
       "العباسي            234494\n",
       "المملوكي           164780\n",
       "العثماني           159576\n",
       "الفاطمي            124129\n",
       "الأيوبي            112350\n",
       "المغرب والأندلس    111011\n",
       "الأموي              63776\n",
       "المخضرمين           34005\n",
       "بين الدولتين        24077\n",
       "قبل الإسلام         21907\n",
       "الإسلامي             2942\n",
       "Name: العصر, dtype: int64"
      ]
     },
     "execution_count": 20,
     "metadata": {},
     "output_type": "execute_result"
    }
   ],
   "source": [
    "data['العصر'].value_counts()"
   ]
  },
  {
   "cell_type": "markdown",
   "metadata": {},
   "source": [
    "### number of poets ::"
   ]
  },
  {
   "cell_type": "code",
   "execution_count": 23,
   "metadata": {},
   "outputs": [
    {
     "data": {
      "text/plain": [
       "3569"
      ]
     },
     "execution_count": 23,
     "metadata": {},
     "output_type": "execute_result"
    }
   ],
   "source": [
    "len(data['الشاعر'].unique())"
   ]
  },
  {
   "cell_type": "markdown",
   "metadata": {},
   "source": [
    "### number of kafia in dataset ::"
   ]
  },
  {
   "cell_type": "code",
   "execution_count": 26,
   "metadata": {},
   "outputs": [
    {
     "data": {
      "text/plain": [
       "38"
      ]
     },
     "execution_count": 26,
     "metadata": {},
     "output_type": "execute_result"
    }
   ],
   "source": [
    "kafia = data['القافية'].unique()\n",
    "len(kafia)"
   ]
  },
  {
   "cell_type": "code",
   "execution_count": 27,
   "metadata": {},
   "outputs": [
    {
     "data": {
      "text/plain": [
       "array(['د', 'ح', 'م', 'ل', 'ف', 'ب', 'ر', 'ي', 'ء', 'ت', 'ن', 'ج', 'ذ',\n",
       "       'ز', 'س', 'ش', 'ض', 'ع', 'ق', 'ك', 'ه', 'ط', 'ث', 'و', 'ا', 'خ',\n",
       "       'غ', 'ص', 'ظ', 'ى', '&nbsp;', 'هـ', 'هن', '-', 'ة', 'لا', 'ؤ', 'طن'], dtype=object)"
      ]
     },
     "execution_count": 27,
     "metadata": {},
     "output_type": "execute_result"
    }
   ],
   "source": [
    "kafia"
   ]
  },
  {
   "cell_type": "markdown",
   "metadata": {},
   "source": [
    "### unique Alphabet in Dataset ::"
   ]
  },
  {
   "cell_type": "markdown",
   "metadata": {},
   "source": [
    "* #### number of alphabets : **101** character"
   ]
  },
  {
   "cell_type": "code",
   "execution_count": 58,
   "metadata": {},
   "outputs": [
    {
     "data": {
      "text/plain": [
       "101"
      ]
     },
     "execution_count": 58,
     "metadata": {},
     "output_type": "execute_result"
    }
   ],
   "source": [
    "alphabets = set() \n",
    "def f(x): \n",
    "    global alphabets\n",
    "    alphabets|=set(x)\n",
    "total = math.ceil(len(data)/100)\n",
    "for i in range(total):\n",
    "    s=i*100\n",
    "    e=(i*100)+100\n",
    "    if e>len(data):\n",
    "        e=len(data)\n",
    "    new = data[s:e]['البيت'].map(f)\n",
    "\n",
    "len(alphabets)"
   ]
  },
  {
   "cell_type": "markdown",
   "metadata": {},
   "source": [
    "* ##### Alphabets"
   ]
  },
  {
   "cell_type": "code",
   "execution_count": 62,
   "metadata": {},
   "outputs": [
    {
     "data": {
      "text/plain": [
       "{' ',\n",
       " '!',\n",
       " '\"',\n",
       " '&',\n",
       " '(',\n",
       " ')',\n",
       " '*',\n",
       " ',',\n",
       " '-',\n",
       " '.',\n",
       " '/',\n",
       " '0',\n",
       " '1',\n",
       " '2',\n",
       " '3',\n",
       " '4',\n",
       " '5',\n",
       " '6',\n",
       " '7',\n",
       " '8',\n",
       " '9',\n",
       " ':',\n",
       " '?',\n",
       " '@',\n",
       " 'H',\n",
       " '\\\\',\n",
       " '_',\n",
       " 'd',\n",
       " '£',\n",
       " '§',\n",
       " '«',\n",
       " '±',\n",
       " '´',\n",
       " '·',\n",
       " '»',\n",
       " '×',\n",
       " '÷',\n",
       " 'ˆ',\n",
       " '،',\n",
       " '؛',\n",
       " '؟',\n",
       " 'ء',\n",
       " 'آ',\n",
       " 'أ',\n",
       " 'ؤ',\n",
       " 'إ',\n",
       " 'ئ',\n",
       " 'ا',\n",
       " 'ب',\n",
       " 'ة',\n",
       " 'ت',\n",
       " 'ث',\n",
       " 'ج',\n",
       " 'ح',\n",
       " 'خ',\n",
       " 'د',\n",
       " 'ذ',\n",
       " 'ر',\n",
       " 'ز',\n",
       " 'س',\n",
       " 'ش',\n",
       " 'ص',\n",
       " 'ض',\n",
       " 'ط',\n",
       " 'ظ',\n",
       " 'ع',\n",
       " 'غ',\n",
       " 'ـ',\n",
       " 'ف',\n",
       " 'ق',\n",
       " 'ك',\n",
       " 'ل',\n",
       " 'م',\n",
       " 'ن',\n",
       " 'ه',\n",
       " 'و',\n",
       " 'ى',\n",
       " 'ي',\n",
       " 'ً',\n",
       " 'ٌ',\n",
       " 'ٍ',\n",
       " 'َ',\n",
       " 'ُ',\n",
       " 'ِ',\n",
       " 'ّ',\n",
       " 'ْ',\n",
       " 'ٲ',\n",
       " 'ٹ',\n",
       " '\\u200c',\n",
       " '\\u200d',\n",
       " '–',\n",
       " '‘',\n",
       " '“',\n",
       " '”',\n",
       " '„',\n",
       " '†',\n",
       " '…',\n",
       " '\\uf020',\n",
       " '\\uf02d',\n",
       " '\\uf02e',\n",
       " '\\uf03a'}"
      ]
     },
     "execution_count": 62,
     "metadata": {},
     "output_type": "execute_result"
    }
   ],
   "source": [
    "alphabets"
   ]
  },
  {
   "cell_type": "code",
   "execution_count": 83,
   "metadata": {},
   "outputs": [
    {
     "data": {
      "text/html": [
       "<div>\n",
       "<style>\n",
       "    .dataframe thead tr:only-child th {\n",
       "        text-align: right;\n",
       "    }\n",
       "\n",
       "    .dataframe thead th {\n",
       "        text-align: left;\n",
       "    }\n",
       "\n",
       "    .dataframe tbody tr th {\n",
       "        vertical-align: top;\n",
       "    }\n",
       "</style>\n",
       "<table border=\"1\" class=\"dataframe\">\n",
       "  <thead>\n",
       "    <tr style=\"text-align: right;\">\n",
       "      <th></th>\n",
       "      <th>العصر</th>\n",
       "      <th>الشاعر</th>\n",
       "      <th>الديوان</th>\n",
       "      <th>القافية</th>\n",
       "      <th>البحر</th>\n",
       "      <th>الشطر الايسر</th>\n",
       "      <th>الشطر الايمن</th>\n",
       "      <th>البيت</th>\n",
       "    </tr>\n",
       "  </thead>\n",
       "  <tbody>\n",
       "    <tr>\n",
       "      <th>0</th>\n",
       "      <td>قبل الإسلام</td>\n",
       "      <td>عمرو بنِ قُمَيئَة</td>\n",
       "      <td>الديوان الرئيسي</td>\n",
       "      <td>د</td>\n",
       "      <td>الطويل</td>\n",
       "      <td>وَأَن تَــجـمَـعـا شَـمـلي وَتَـنـتَـظِـرا غَـدا</td>\n",
       "      <td>خَـليـلَيَّ لا تَـسـتَعجِلا أَن تَزَوَّدا</td>\n",
       "      <td>خَـليـلَيَّ لا تَـسـتَعجِلا أَن تَزَوَّدا    و...</td>\n",
       "    </tr>\n",
       "  </tbody>\n",
       "</table>\n",
       "</div>"
      ],
      "text/plain": [
       "         العصر             الشاعر          الديوان القافية   البحر  \\\n",
       "0  قبل الإسلام  عمرو بنِ قُمَيئَة  الديوان الرئيسي       د  الطويل   \n",
       "\n",
       "                                       الشطر الايسر  \\\n",
       "0  وَأَن تَــجـمَـعـا شَـمـلي وَتَـنـتَـظِـرا غَـدا   \n",
       "\n",
       "                                الشطر الايمن  \\\n",
       "0  خَـليـلَيَّ لا تَـسـتَعجِلا أَن تَزَوَّدا   \n",
       "\n",
       "                                               البيت  \n",
       "0  خَـليـلَيَّ لا تَـسـتَعجِلا أَن تَزَوَّدا    و...  "
      ]
     },
     "execution_count": 83,
     "metadata": {},
     "output_type": "execute_result"
    }
   ],
   "source": [
    "data.head(1)"
   ]
  },
  {
   "cell_type": "markdown",
   "metadata": {},
   "source": [
    "# Clean Data from strange characters :"
   ]
  },
  {
   "cell_type": "code",
   "execution_count": 3,
   "metadata": {},
   "outputs": [],
   "source": [
    "a = data.copy()"
   ]
  },
  {
   "cell_type": "code",
   "execution_count": 5,
   "metadata": {
    "collapsed": true
   },
   "outputs": [],
   "source": [
    "our_alphabets = alphabet + \"\".join(tashkeel)+\" \""
   ]
  },
  {
   "cell_type": "code",
   "execution_count": 8,
   "metadata": {},
   "outputs": [],
   "source": [
    "\n",
    "a['البيت'] = a['البيت'].apply(lambda x: re.sub(r'[^'+our_alphabets+']','',str(x))).apply(\n",
    "                                          lambda x: re.sub(r'  *',\" \",x))"
   ]
  },
  {
   "cell_type": "code",
   "execution_count": 115,
   "metadata": {},
   "outputs": [
    {
     "data": {
      "text/plain": [
       "24"
      ]
     },
     "execution_count": 115,
     "metadata": {},
     "output_type": "execute_result"
    }
   ],
   "source": [
    "alphabets = set() \n",
    "def f(x): \n",
    "    global alphabets\n",
    "    alphabets|=set(str(x))\n",
    "    \n",
    "total = math.ceil(len(a)/100)\n",
    "for i in range(total):\n",
    "    s=i*100\n",
    "    e=(i*100)+100\n",
    "    if e>len(a):\n",
    "        e=len(a)\n",
    "    new = a[s:e]['العصر'].map(f)\n",
    "\n",
    "len(alphabets)"
   ]
  },
  {
   "cell_type": "code",
   "execution_count": 10,
   "metadata": {},
   "outputs": [],
   "source": [
    "#save clean data\n",
    "a.to_csv('../data/All_clean_data.csv',encoding='utf-8')"
   ]
  },
  {
   "cell_type": "markdown",
   "metadata": {},
   "source": [
    "# merge with diwan"
   ]
  },
  {
   "cell_type": "code",
   "execution_count": 2,
   "metadata": {},
   "outputs": [
    {
     "name": "stderr",
     "output_type": "stream",
     "text": [
      "/home/moroclash/anaconda3/lib/python3.6/site-packages/numpy/lib/arraysetops.py:395: FutureWarning: elementwise comparison failed; returning scalar instead, but in the future will perform elementwise comparison\n",
      "  mask |= (ar1 == a)\n"
     ]
    }
   ],
   "source": [
    "Diwan_Data = pd.read_csv('../data/All_Data.csv')\n",
    "Clean_Data = pd.read_csv('../data/All_clean_data.csv',index_col=0)"
   ]
  },
  {
   "cell_type": "code",
   "execution_count": 3,
   "metadata": {},
   "outputs": [
    {
     "data": {
      "text/html": [
       "<div>\n",
       "<style>\n",
       "    .dataframe thead tr:only-child th {\n",
       "        text-align: right;\n",
       "    }\n",
       "\n",
       "    .dataframe thead th {\n",
       "        text-align: left;\n",
       "    }\n",
       "\n",
       "    .dataframe tbody tr th {\n",
       "        vertical-align: top;\n",
       "    }\n",
       "</style>\n",
       "<table border=\"1\" class=\"dataframe\">\n",
       "  <thead>\n",
       "    <tr style=\"text-align: right;\">\n",
       "      <th></th>\n",
       "      <th>البيت</th>\n",
       "      <th>الشطر الأيسر</th>\n",
       "      <th>الشطر الأيمن</th>\n",
       "      <th>البحر</th>\n",
       "      <th>الشاعر</th>\n",
       "    </tr>\n",
       "  </thead>\n",
       "  <tbody>\n",
       "    <tr>\n",
       "      <th>0</th>\n",
       "      <td>حاشا اهتمامك من إسداء مكرمة وأن يرى لك بين الن...</td>\n",
       "      <td>وأن يرى لك بين الناس إكرام</td>\n",
       "      <td>حاشا اهتمامك من إسداء مكرمة</td>\n",
       "      <td>البسيط</td>\n",
       "      <td>بلبل الغرام الحاجري</td>\n",
       "    </tr>\n",
       "  </tbody>\n",
       "</table>\n",
       "</div>"
      ],
      "text/plain": [
       "                                               البيت  \\\n",
       "0  حاشا اهتمامك من إسداء مكرمة وأن يرى لك بين الن...   \n",
       "\n",
       "                 الشطر الأيسر                 الشطر الأيمن   البحر  \\\n",
       "0  وأن يرى لك بين الناس إكرام  حاشا اهتمامك من إسداء مكرمة  البسيط   \n",
       "\n",
       "                الشاعر  \n",
       "0  بلبل الغرام الحاجري  "
      ]
     },
     "execution_count": 3,
     "metadata": {},
     "output_type": "execute_result"
    }
   ],
   "source": [
    "Diwan_Data.head(1)"
   ]
  },
  {
   "cell_type": "code",
   "execution_count": 6,
   "metadata": {},
   "outputs": [],
   "source": [
    "Diwan_Data['البيت']=Diwan_Data['البيت'].apply(lambda x: re.sub(r'[^'+our_alphabets+']','',str(x))).apply(\n",
    "                                          lambda x: re.sub(r'  *',\" \",x))\n",
    "Diwan_Data['الشطر الأيسر']=Diwan_Data['الشطر الأيسر'].apply(lambda x: re.sub(r'[^'+our_alphabets+']','',str(x))).apply(\n",
    "                                          lambda x: re.sub(r'  *',\" \",x))\n",
    "Diwan_Data['الشطر الأيمن']=Diwan_Data['الشطر الأيمن'].apply(lambda x: re.sub(r'[^'+our_alphabets+']','',str(x))).apply(\n",
    "                                          lambda x: re.sub(r'  *',\" \",x))\n",
    "Diwan_Data['الشاعر']=Diwan_Data['الشاعر'].apply(lambda x: re.sub(r'[^'+our_alphabets+']','',str(x))).apply(\n",
    "                                          lambda x: re.sub(r'  *',\" \",x))\n",
    "Diwan_Data['البحر']=Diwan_Data['البحر'].apply(lambda x: re.sub(r'[^'+our_alphabets+']','',str(x))).apply(\n",
    "                                          lambda x: re.sub(r'  *',\" \",x))"
   ]
  },
  {
   "cell_type": "code",
   "execution_count": 8,
   "metadata": {},
   "outputs": [
    {
     "name": "stdout",
     "output_type": "stream",
     "text": [
      "0     227615\n"
     ]
    }
   ],
   "source": [
    "import difflib as df\n",
    "ll =  Clean_Data['الشاعر'].apply(lambda x: re.sub(r'[^'+our_alphabets+']','',str(x))).apply(\n",
    "                                          lambda x: re.sub(r'  *',\" \",x))\n",
    "uu = Diwan_Data['الشاعر'].apply(lambda x: re.sub(r'[^'+our_alphabets+']','',str(x))).apply(\n",
    "                                          lambda x: re.sub(r'  *',\" \",x))\n",
    "t=0\n",
    "f=0\n",
    "for i in uu:\n",
    "    if i in ll:\n",
    "        t+=1\n",
    "    else:\n",
    "        f+=1\n",
    "print(t,\"   \",f)\n"
   ]
  },
  {
   "cell_type": "code",
   "execution_count": 9,
   "metadata": {},
   "outputs": [
    {
     "data": {
      "text/html": [
       "<div>\n",
       "<style>\n",
       "    .dataframe thead tr:only-child th {\n",
       "        text-align: right;\n",
       "    }\n",
       "\n",
       "    .dataframe thead th {\n",
       "        text-align: left;\n",
       "    }\n",
       "\n",
       "    .dataframe tbody tr th {\n",
       "        vertical-align: top;\n",
       "    }\n",
       "</style>\n",
       "<table border=\"1\" class=\"dataframe\">\n",
       "  <thead>\n",
       "    <tr style=\"text-align: right;\">\n",
       "      <th></th>\n",
       "      <th>البيت</th>\n",
       "      <th>الشطر الأيسر</th>\n",
       "      <th>الشطر الأيمن</th>\n",
       "      <th>البحر</th>\n",
       "      <th>الشاعر</th>\n",
       "    </tr>\n",
       "  </thead>\n",
       "  <tbody>\n",
       "    <tr>\n",
       "      <th>0</th>\n",
       "      <td>حاشا اهتمامك من إسداء مكرمة وأن يرى لك بين الن...</td>\n",
       "      <td>وأن يرى لك بين الناس إكرام</td>\n",
       "      <td>حاشا اهتمامك من إسداء مكرمة</td>\n",
       "      <td>البسيط</td>\n",
       "      <td>بلبل الغرام الحاجري</td>\n",
       "    </tr>\n",
       "  </tbody>\n",
       "</table>\n",
       "</div>"
      ],
      "text/plain": [
       "                                               البيت  \\\n",
       "0  حاشا اهتمامك من إسداء مكرمة وأن يرى لك بين الن...   \n",
       "\n",
       "                 الشطر الأيسر                 الشطر الأيمن   البحر  \\\n",
       "0  وأن يرى لك بين الناس إكرام  حاشا اهتمامك من إسداء مكرمة  البسيط   \n",
       "\n",
       "                الشاعر  \n",
       "0  بلبل الغرام الحاجري  "
      ]
     },
     "execution_count": 9,
     "metadata": {},
     "output_type": "execute_result"
    }
   ],
   "source": [
    "Diwan_Data.head(1)"
   ]
  },
  {
   "cell_type": "code",
   "execution_count": 11,
   "metadata": {},
   "outputs": [
    {
     "name": "stdout",
     "output_type": "stream",
     "text": [
      "307\n",
      "0\n"
     ]
    }
   ],
   "source": [
    "# print(Clean_Data.duplicated().sum())\n",
    "# Clean_Data.drop_duplicates(inplace=True)\n",
    "# print(Clean_Data.duplicated().sum())\n",
    "print(Diwan_Data.duplicated().sum())\n",
    "Diwan_Data.drop_duplicates(inplace=True)\n",
    "print(Diwan_Data.duplicated().sum())"
   ]
  },
  {
   "cell_type": "code",
   "execution_count": 13,
   "metadata": {},
   "outputs": [],
   "source": [
    "dd = pd.DataFrame(columns=['العصر','الشاعر','الديوان','القافية','البحر','الشطر الايسر','الشطر الايمن','البيت'])\n",
    "dd[\"الشطر الايمن\"] = Diwan_Data['الشطر الأيمن']\n",
    "dd[\"الشطر الايسر\"] = Diwan_Data['الشطر الأيسر']\n",
    "dd[\"البيت\"] = Diwan_Data['البيت']\n",
    "dd[\"البحر\"] = Diwan_Data['البحر']\n",
    "dd[\"الشاعر\"] = Diwan_Data['الشاعر']"
   ]
  },
  {
   "cell_type": "code",
   "execution_count": 14,
   "metadata": {},
   "outputs": [
    {
     "data": {
      "text/html": [
       "<div>\n",
       "<style>\n",
       "    .dataframe thead tr:only-child th {\n",
       "        text-align: right;\n",
       "    }\n",
       "\n",
       "    .dataframe thead th {\n",
       "        text-align: left;\n",
       "    }\n",
       "\n",
       "    .dataframe tbody tr th {\n",
       "        vertical-align: top;\n",
       "    }\n",
       "</style>\n",
       "<table border=\"1\" class=\"dataframe\">\n",
       "  <thead>\n",
       "    <tr style=\"text-align: right;\">\n",
       "      <th></th>\n",
       "      <th>العصر</th>\n",
       "      <th>الشاعر</th>\n",
       "      <th>الديوان</th>\n",
       "      <th>القافية</th>\n",
       "      <th>البحر</th>\n",
       "      <th>الشطر الايسر</th>\n",
       "      <th>الشطر الايمن</th>\n",
       "      <th>البيت</th>\n",
       "    </tr>\n",
       "  </thead>\n",
       "  <tbody>\n",
       "    <tr>\n",
       "      <th>0</th>\n",
       "      <td>NaN</td>\n",
       "      <td>بلبل الغرام الحاجري</td>\n",
       "      <td>NaN</td>\n",
       "      <td>NaN</td>\n",
       "      <td>البسيط</td>\n",
       "      <td>وأن يرى لك بين الناس إكرام</td>\n",
       "      <td>حاشا اهتمامك من إسداء مكرمة</td>\n",
       "      <td>حاشا اهتمامك من إسداء مكرمة وأن يرى لك بين الن...</td>\n",
       "    </tr>\n",
       "    <tr>\n",
       "      <th>1</th>\n",
       "      <td>NaN</td>\n",
       "      <td>بلبل الغرام الحاجري</td>\n",
       "      <td>NaN</td>\n",
       "      <td>NaN</td>\n",
       "      <td>البسيط</td>\n",
       "      <td>للأريحية والإحسان أقوام</td>\n",
       "      <td>دع مقصراً ليس بدَّاعاً ولا عجبٌ</td>\n",
       "      <td>دع مقصراً ليس بدَّاعاً ولا عجبٌ للأريحية والإح...</td>\n",
       "    </tr>\n",
       "    <tr>\n",
       "      <th>2</th>\n",
       "      <td>NaN</td>\n",
       "      <td>أبو العلاء المعري</td>\n",
       "      <td>NaN</td>\n",
       "      <td>NaN</td>\n",
       "      <td>البسيط</td>\n",
       "      <td>شَرخي قَد مَرَّ وَاِكتِهالي</td>\n",
       "      <td>أَيَّتُها النَفسُ لا تُهالي</td>\n",
       "      <td>أَيَّتُها النَفسُ لا تُهالي شَرخي قَد مَرَّ وَ...</td>\n",
       "    </tr>\n",
       "    <tr>\n",
       "      <th>3</th>\n",
       "      <td>NaN</td>\n",
       "      <td>أبو العلاء المعري</td>\n",
       "      <td>NaN</td>\n",
       "      <td>NaN</td>\n",
       "      <td>البسيط</td>\n",
       "      <td>قَرَّبَ مِن مَورِدي نِهالي</td>\n",
       "      <td>لَم يَبقَ إِلّا شَفاً يَسيرٌ</td>\n",
       "      <td>لَم يَبقَ إِلّا شَفاً يَسيرٌ قَرَّبَ مِن مَورِ...</td>\n",
       "    </tr>\n",
       "    <tr>\n",
       "      <th>4</th>\n",
       "      <td>NaN</td>\n",
       "      <td>أبو العلاء المعري</td>\n",
       "      <td>NaN</td>\n",
       "      <td>NaN</td>\n",
       "      <td>البسيط</td>\n",
       "      <td>وَكانَ في الباطِلِ اِبتِهالي</td>\n",
       "      <td>وَاِبتَهَلَ الدَهرُ في أَذاتي</td>\n",
       "      <td>وَاِبتَهَلَ الدَهرُ في أَذاتي وَكانَ في الباطِ...</td>\n",
       "    </tr>\n",
       "  </tbody>\n",
       "</table>\n",
       "</div>"
      ],
      "text/plain": [
       "  العصر               الشاعر الديوان القافية   البحر  \\\n",
       "0   NaN  بلبل الغرام الحاجري     NaN     NaN  البسيط   \n",
       "1   NaN  بلبل الغرام الحاجري     NaN     NaN  البسيط   \n",
       "2   NaN    أبو العلاء المعري     NaN     NaN  البسيط   \n",
       "3   NaN    أبو العلاء المعري     NaN     NaN  البسيط   \n",
       "4   NaN    أبو العلاء المعري     NaN     NaN  البسيط   \n",
       "\n",
       "                   الشطر الايسر                     الشطر الايمن  \\\n",
       "0    وأن يرى لك بين الناس إكرام      حاشا اهتمامك من إسداء مكرمة   \n",
       "1       للأريحية والإحسان أقوام  دع مقصراً ليس بدَّاعاً ولا عجبٌ   \n",
       "2   شَرخي قَد مَرَّ وَاِكتِهالي      أَيَّتُها النَفسُ لا تُهالي   \n",
       "3    قَرَّبَ مِن مَورِدي نِهالي     لَم يَبقَ إِلّا شَفاً يَسيرٌ   \n",
       "4  وَكانَ في الباطِلِ اِبتِهالي    وَاِبتَهَلَ الدَهرُ في أَذاتي   \n",
       "\n",
       "                                               البيت  \n",
       "0  حاشا اهتمامك من إسداء مكرمة وأن يرى لك بين الن...  \n",
       "1  دع مقصراً ليس بدَّاعاً ولا عجبٌ للأريحية والإح...  \n",
       "2  أَيَّتُها النَفسُ لا تُهالي شَرخي قَد مَرَّ وَ...  \n",
       "3  لَم يَبقَ إِلّا شَفاً يَسيرٌ قَرَّبَ مِن مَورِ...  \n",
       "4  وَاِبتَهَلَ الدَهرُ في أَذاتي وَكانَ في الباطِ...  "
      ]
     },
     "execution_count": 14,
     "metadata": {},
     "output_type": "execute_result"
    }
   ],
   "source": [
    "dd.head()"
   ]
  },
  {
   "cell_type": "code",
   "execution_count": 15,
   "metadata": {
    "collapsed": true
   },
   "outputs": [],
   "source": [
    "Clean_Data = Clean_Data.append(dd,ignore_index=True)"
   ]
  },
  {
   "cell_type": "code",
   "execution_count": 16,
   "metadata": {},
   "outputs": [
    {
     "name": "stdout",
     "output_type": "stream",
     "text": [
      "2057843\n",
      "2057843\n",
      "1862046\n"
     ]
    }
   ],
   "source": [
    "print(len(Clean_Data))\n",
    "print(len(Clean_Data.drop_duplicates()))\n",
    "print(len(Clean_Data['البيت'].drop_duplicates()))"
   ]
  },
  {
   "cell_type": "code",
   "execution_count": 17,
   "metadata": {},
   "outputs": [
    {
     "name": "stdout",
     "output_type": "stream",
     "text": [
      "195797\n",
      "209813\n",
      "266391\n"
     ]
    }
   ],
   "source": [
    "# معناه ان ممكن الشطر يتكرر في القصيدة\n",
    "print(Clean_Data['البيت'].duplicated().sum())\n",
    "print(Clean_Data['الشطر الايمن'].duplicated().sum())\n",
    "print(Clean_Data['الشطر الايسر'].duplicated().sum())"
   ]
  },
  {
   "cell_type": "code",
   "execution_count": 67,
   "metadata": {},
   "outputs": [
    {
     "data": {
      "text/plain": [
       "2057843"
      ]
     },
     "execution_count": 67,
     "metadata": {},
     "output_type": "execute_result"
    }
   ],
   "source": [
    "len(Clean_Data)"
   ]
  },
  {
   "cell_type": "code",
   "execution_count": 66,
   "metadata": {},
   "outputs": [
    {
     "ename": "ValueError",
     "evalue": "Wrong number of items passed 1862046, placement implies 2057843",
     "output_type": "error",
     "traceback": [
      "\u001b[0;31m---------------------------------------------------------------------------\u001b[0m",
      "\u001b[0;31mValueError\u001b[0m                                Traceback (most recent call last)",
      "\u001b[0;32m<ipython-input-66-b2ecc69f59c8>\u001b[0m in \u001b[0;36m<module>\u001b[0;34m()\u001b[0m\n\u001b[0;32m----> 1\u001b[0;31m \u001b[0mClean_Data\u001b[0m\u001b[0;34m.\u001b[0m\u001b[0mdrop_duplicates\u001b[0m\u001b[0;34m(\u001b[0m\u001b[0msubset\u001b[0m\u001b[0;34m=\u001b[0m\u001b[0;34m'البيت'\u001b[0m\u001b[0;34m,\u001b[0m\u001b[0minplace\u001b[0m\u001b[0;34m=\u001b[0m\u001b[0;32mTrue\u001b[0m\u001b[0;34m)\u001b[0m\u001b[0;34m\u001b[0m\u001b[0m\n\u001b[0m",
      "\u001b[0;32m/home/moroclash/anaconda3/lib/python3.6/site-packages/pandas/core/frame.py\u001b[0m in \u001b[0;36mdrop_duplicates\u001b[0;34m(self, subset, keep, inplace)\u001b[0m\n\u001b[1;32m   3194\u001b[0m         \"\"\"\n\u001b[1;32m   3195\u001b[0m         \u001b[0minplace\u001b[0m \u001b[0;34m=\u001b[0m \u001b[0mvalidate_bool_kwarg\u001b[0m\u001b[0;34m(\u001b[0m\u001b[0minplace\u001b[0m\u001b[0;34m,\u001b[0m \u001b[0;34m'inplace'\u001b[0m\u001b[0;34m)\u001b[0m\u001b[0;34m\u001b[0m\u001b[0m\n\u001b[0;32m-> 3196\u001b[0;31m         \u001b[0mduplicated\u001b[0m \u001b[0;34m=\u001b[0m \u001b[0mself\u001b[0m\u001b[0;34m.\u001b[0m\u001b[0mduplicated\u001b[0m\u001b[0;34m(\u001b[0m\u001b[0msubset\u001b[0m\u001b[0;34m,\u001b[0m \u001b[0mkeep\u001b[0m\u001b[0;34m=\u001b[0m\u001b[0mkeep\u001b[0m\u001b[0;34m)\u001b[0m\u001b[0;34m\u001b[0m\u001b[0m\n\u001b[0m\u001b[1;32m   3197\u001b[0m \u001b[0;34m\u001b[0m\u001b[0m\n\u001b[1;32m   3198\u001b[0m         \u001b[0;32mif\u001b[0m \u001b[0minplace\u001b[0m\u001b[0;34m:\u001b[0m\u001b[0;34m\u001b[0m\u001b[0m\n",
      "\u001b[0;32m/home/moroclash/anaconda3/lib/python3.6/site-packages/pandas/core/frame.py\u001b[0m in \u001b[0;36mduplicated\u001b[0;34m(self, subset, keep)\u001b[0m\n\u001b[1;32m   3243\u001b[0m \u001b[0;34m\u001b[0m\u001b[0m\n\u001b[1;32m   3244\u001b[0m         \u001b[0mids\u001b[0m \u001b[0;34m=\u001b[0m \u001b[0mget_group_index\u001b[0m\u001b[0;34m(\u001b[0m\u001b[0mlabels\u001b[0m\u001b[0;34m,\u001b[0m \u001b[0mshape\u001b[0m\u001b[0;34m,\u001b[0m \u001b[0msort\u001b[0m\u001b[0;34m=\u001b[0m\u001b[0;32mFalse\u001b[0m\u001b[0;34m,\u001b[0m \u001b[0mxnull\u001b[0m\u001b[0;34m=\u001b[0m\u001b[0;32mFalse\u001b[0m\u001b[0;34m)\u001b[0m\u001b[0;34m\u001b[0m\u001b[0m\n\u001b[0;32m-> 3245\u001b[0;31m         \u001b[0;32mreturn\u001b[0m \u001b[0mSeries\u001b[0m\u001b[0;34m(\u001b[0m\u001b[0mduplicated_int64\u001b[0m\u001b[0;34m(\u001b[0m\u001b[0mids\u001b[0m\u001b[0;34m,\u001b[0m \u001b[0mkeep\u001b[0m\u001b[0;34m)\u001b[0m\u001b[0;34m,\u001b[0m \u001b[0mindex\u001b[0m\u001b[0;34m=\u001b[0m\u001b[0mself\u001b[0m\u001b[0;34m.\u001b[0m\u001b[0mindex\u001b[0m\u001b[0;34m)\u001b[0m\u001b[0;34m\u001b[0m\u001b[0m\n\u001b[0m\u001b[1;32m   3246\u001b[0m \u001b[0;34m\u001b[0m\u001b[0m\n\u001b[1;32m   3247\u001b[0m     \u001b[0;31m# ----------------------------------------------------------------------\u001b[0m\u001b[0;34m\u001b[0m\u001b[0;34m\u001b[0m\u001b[0m\n",
      "\u001b[0;32m/home/moroclash/anaconda3/lib/python3.6/site-packages/pandas/core/series.py\u001b[0m in \u001b[0;36m__init__\u001b[0;34m(self, data, index, dtype, name, copy, fastpath)\u001b[0m\n\u001b[1;32m    248\u001b[0m                                        raise_cast_failure=True)\n\u001b[1;32m    249\u001b[0m \u001b[0;34m\u001b[0m\u001b[0m\n\u001b[0;32m--> 250\u001b[0;31m                 \u001b[0mdata\u001b[0m \u001b[0;34m=\u001b[0m \u001b[0mSingleBlockManager\u001b[0m\u001b[0;34m(\u001b[0m\u001b[0mdata\u001b[0m\u001b[0;34m,\u001b[0m \u001b[0mindex\u001b[0m\u001b[0;34m,\u001b[0m \u001b[0mfastpath\u001b[0m\u001b[0;34m=\u001b[0m\u001b[0;32mTrue\u001b[0m\u001b[0;34m)\u001b[0m\u001b[0;34m\u001b[0m\u001b[0m\n\u001b[0m\u001b[1;32m    251\u001b[0m \u001b[0;34m\u001b[0m\u001b[0m\n\u001b[1;32m    252\u001b[0m         \u001b[0mgeneric\u001b[0m\u001b[0;34m.\u001b[0m\u001b[0mNDFrame\u001b[0m\u001b[0;34m.\u001b[0m\u001b[0m__init__\u001b[0m\u001b[0;34m(\u001b[0m\u001b[0mself\u001b[0m\u001b[0;34m,\u001b[0m \u001b[0mdata\u001b[0m\u001b[0;34m,\u001b[0m \u001b[0mfastpath\u001b[0m\u001b[0;34m=\u001b[0m\u001b[0;32mTrue\u001b[0m\u001b[0;34m)\u001b[0m\u001b[0;34m\u001b[0m\u001b[0m\n",
      "\u001b[0;32m/home/moroclash/anaconda3/lib/python3.6/site-packages/pandas/core/internals.py\u001b[0m in \u001b[0;36m__init__\u001b[0;34m(self, block, axis, do_integrity_check, fastpath)\u001b[0m\n\u001b[1;32m   4115\u001b[0m         \u001b[0;32mif\u001b[0m \u001b[0;32mnot\u001b[0m \u001b[0misinstance\u001b[0m\u001b[0;34m(\u001b[0m\u001b[0mblock\u001b[0m\u001b[0;34m,\u001b[0m \u001b[0mBlock\u001b[0m\u001b[0;34m)\u001b[0m\u001b[0;34m:\u001b[0m\u001b[0;34m\u001b[0m\u001b[0m\n\u001b[1;32m   4116\u001b[0m             block = make_block(block, placement=slice(0, len(axis)), ndim=1,\n\u001b[0;32m-> 4117\u001b[0;31m                                fastpath=True)\n\u001b[0m\u001b[1;32m   4118\u001b[0m \u001b[0;34m\u001b[0m\u001b[0m\n\u001b[1;32m   4119\u001b[0m         \u001b[0mself\u001b[0m\u001b[0;34m.\u001b[0m\u001b[0mblocks\u001b[0m \u001b[0;34m=\u001b[0m \u001b[0;34m[\u001b[0m\u001b[0mblock\u001b[0m\u001b[0;34m]\u001b[0m\u001b[0;34m\u001b[0m\u001b[0m\n",
      "\u001b[0;32m/home/moroclash/anaconda3/lib/python3.6/site-packages/pandas/core/internals.py\u001b[0m in \u001b[0;36mmake_block\u001b[0;34m(values, placement, klass, ndim, dtype, fastpath)\u001b[0m\n\u001b[1;32m   2717\u001b[0m                      placement=placement, dtype=dtype)\n\u001b[1;32m   2718\u001b[0m \u001b[0;34m\u001b[0m\u001b[0m\n\u001b[0;32m-> 2719\u001b[0;31m     \u001b[0;32mreturn\u001b[0m \u001b[0mklass\u001b[0m\u001b[0;34m(\u001b[0m\u001b[0mvalues\u001b[0m\u001b[0;34m,\u001b[0m \u001b[0mndim\u001b[0m\u001b[0;34m=\u001b[0m\u001b[0mndim\u001b[0m\u001b[0;34m,\u001b[0m \u001b[0mfastpath\u001b[0m\u001b[0;34m=\u001b[0m\u001b[0mfastpath\u001b[0m\u001b[0;34m,\u001b[0m \u001b[0mplacement\u001b[0m\u001b[0;34m=\u001b[0m\u001b[0mplacement\u001b[0m\u001b[0;34m)\u001b[0m\u001b[0;34m\u001b[0m\u001b[0m\n\u001b[0m\u001b[1;32m   2720\u001b[0m \u001b[0;34m\u001b[0m\u001b[0m\n\u001b[1;32m   2721\u001b[0m \u001b[0;31m# TODO: flexible with index=None and/or items=None\u001b[0m\u001b[0;34m\u001b[0m\u001b[0;34m\u001b[0m\u001b[0m\n",
      "\u001b[0;32m/home/moroclash/anaconda3/lib/python3.6/site-packages/pandas/core/internals.py\u001b[0m in \u001b[0;36m__init__\u001b[0;34m(self, values, placement, ndim, fastpath)\u001b[0m\n\u001b[1;32m    113\u001b[0m             raise ValueError('Wrong number of items passed %d, placement '\n\u001b[1;32m    114\u001b[0m                              'implies %d' % (len(self.values),\n\u001b[0;32m--> 115\u001b[0;31m                                              len(self.mgr_locs)))\n\u001b[0m\u001b[1;32m    116\u001b[0m \u001b[0;34m\u001b[0m\u001b[0m\n\u001b[1;32m    117\u001b[0m     \u001b[0;34m@\u001b[0m\u001b[0mproperty\u001b[0m\u001b[0;34m\u001b[0m\u001b[0m\n",
      "\u001b[0;31mValueError\u001b[0m: Wrong number of items passed 1862046, placement implies 2057843"
     ]
    }
   ],
   "source": [
    "Clean_Data.drop_duplicates(subset='البيت',inplace=True)"
   ]
  },
  {
   "cell_type": "code",
   "execution_count": 20,
   "metadata": {},
   "outputs": [
    {
     "data": {
      "text/plain": [
       "2057843"
      ]
     },
     "execution_count": 20,
     "metadata": {},
     "output_type": "execute_result"
    }
   ],
   "source": [
    "len(Clean_Data)"
   ]
  },
  {
   "cell_type": "code",
   "execution_count": 48,
   "metadata": {},
   "outputs": [],
   "source": [
    "Clean_Data"
   ]
  },
  {
   "cell_type": "code",
   "execution_count": 36,
   "metadata": {},
   "outputs": [
    {
     "data": {
      "text/html": [
       "<div>\n",
       "<style>\n",
       "    .dataframe thead tr:only-child th {\n",
       "        text-align: right;\n",
       "    }\n",
       "\n",
       "    .dataframe thead th {\n",
       "        text-align: left;\n",
       "    }\n",
       "\n",
       "    .dataframe tbody tr th {\n",
       "        vertical-align: top;\n",
       "    }\n",
       "</style>\n",
       "<table border=\"1\" class=\"dataframe\">\n",
       "  <thead>\n",
       "    <tr style=\"text-align: right;\">\n",
       "      <th></th>\n",
       "      <th>العصر</th>\n",
       "      <th>الشاعر</th>\n",
       "      <th>الديوان</th>\n",
       "      <th>القافية</th>\n",
       "      <th>البحر</th>\n",
       "      <th>الشطر الايسر</th>\n",
       "      <th>الشطر الايمن</th>\n",
       "      <th>البيت</th>\n",
       "    </tr>\n",
       "  </thead>\n",
       "  <tbody>\n",
       "    <tr>\n",
       "      <th>123483</th>\n",
       "      <td>العباسي</td>\n",
       "      <td>صريع الغواني</td>\n",
       "      <td>الديوان الرئيسي</td>\n",
       "      <td>ل</td>\n",
       "      <td>الكامل</td>\n",
       "      <td>NaN</td>\n",
       "      <td>كادَت لَهُ مُهَجُ الأَنامِ تَسيلُ</td>\n",
       "      <td>كادَت لَهُ مُهَجُ الأَنامِ تَسيلُ</td>\n",
       "    </tr>\n",
       "    <tr>\n",
       "      <th>153936</th>\n",
       "      <td>المملوكي</td>\n",
       "      <td>صَفِيِّ الدينِ الحِلِّي</td>\n",
       "      <td>الديوان الرئيسي</td>\n",
       "      <td>ل</td>\n",
       "      <td>الطويل</td>\n",
       "      <td>NaN</td>\n",
       "      <td>فَكُلُّ رِداءٍ يَرتَديهِ جَميلُ</td>\n",
       "      <td>فَكُلُّ رِداءٍ يَرتَديهِ جَميلُ</td>\n",
       "    </tr>\n",
       "    <tr>\n",
       "      <th>153963</th>\n",
       "      <td>المملوكي</td>\n",
       "      <td>صَفِيِّ الدينِ الحِلِّي</td>\n",
       "      <td>الديوان الرئيسي</td>\n",
       "      <td>ل</td>\n",
       "      <td>الطويل</td>\n",
       "      <td>NaN</td>\n",
       "      <td>وَتَكرَهُهُ آجالُهُم فَتَطولُ</td>\n",
       "      <td>وَتَكرَهُهُ آجالُهُم فَتَطولُ</td>\n",
       "    </tr>\n",
       "    <tr>\n",
       "      <th>153972</th>\n",
       "      <td>المملوكي</td>\n",
       "      <td>صَفِيِّ الدينِ الحِلِّي</td>\n",
       "      <td>الديوان الرئيسي</td>\n",
       "      <td>ل</td>\n",
       "      <td>الطويل</td>\n",
       "      <td>NaN</td>\n",
       "      <td>إِناثٌ أَطابَت حَملَنا وَفُحولُ</td>\n",
       "      <td>إِناثٌ أَطابَت حَملَنا وَفُحولُ</td>\n",
       "    </tr>\n",
       "    <tr>\n",
       "      <th>153981</th>\n",
       "      <td>المملوكي</td>\n",
       "      <td>صَفِيِّ الدينِ الحِلِّي</td>\n",
       "      <td>الديوان الرئيسي</td>\n",
       "      <td>ل</td>\n",
       "      <td>الطويل</td>\n",
       "      <td>NaN</td>\n",
       "      <td>وَلا يُنكِرونَ القَولَ حينَ نَقولُ</td>\n",
       "      <td>وَلا يُنكِرونَ القَولَ حينَ نَقولُ</td>\n",
       "    </tr>\n",
       "    <tr>\n",
       "      <th>158090</th>\n",
       "      <td>المملوكي</td>\n",
       "      <td>صَفِيِّ الدينِ الحِلِّي</td>\n",
       "      <td>الديوان الرئيسي</td>\n",
       "      <td>ن</td>\n",
       "      <td>البسيط</td>\n",
       "      <td>NaN</td>\n",
       "      <td>وَنابَ عَن طيبِ لُقيانا تَجافينا</td>\n",
       "      <td>وَنابَ عَن طيبِ لُقيانا تَجافينا</td>\n",
       "    </tr>\n",
       "    <tr>\n",
       "      <th>158099</th>\n",
       "      <td>المملوكي</td>\n",
       "      <td>صَفِيِّ الدينِ الحِلِّي</td>\n",
       "      <td>الديوان الرئيسي</td>\n",
       "      <td>ن</td>\n",
       "      <td>البسيط</td>\n",
       "      <td>NaN</td>\n",
       "      <td>سوداً وَكانَت بِكُم بيضاً لَيالينا</td>\n",
       "      <td>سوداً وَكانَت بِكُم بيضاً لَيالينا</td>\n",
       "    </tr>\n",
       "    <tr>\n",
       "      <th>191320</th>\n",
       "      <td>المخضرمين</td>\n",
       "      <td>عبد الله بن رواحة</td>\n",
       "      <td>الديوان الرئيسي</td>\n",
       "      <td>ت</td>\n",
       "      <td>الرجز</td>\n",
       "      <td>NaN</td>\n",
       "      <td>وَفي سَبيلِ اللَهِ ما لَقيتِ</td>\n",
       "      <td>وَفي سَبيلِ اللَهِ ما لَقيتِ</td>\n",
       "    </tr>\n",
       "    <tr>\n",
       "      <th>191338</th>\n",
       "      <td>المخضرمين</td>\n",
       "      <td>عبد الله بن رواحة</td>\n",
       "      <td>الديوان الرئيسي</td>\n",
       "      <td>ر</td>\n",
       "      <td>الرجز</td>\n",
       "      <td>NaN</td>\n",
       "      <td>عِندَ الصَباحِ يَحمَدُ القَومُ السُرى</td>\n",
       "      <td>عِندَ الصَباحِ يَحمَدُ القَومُ السُرى</td>\n",
       "    </tr>\n",
       "    <tr>\n",
       "      <th>191339</th>\n",
       "      <td>المخضرمين</td>\n",
       "      <td>عبد الله بن رواحة</td>\n",
       "      <td>الديوان الرئيسي</td>\n",
       "      <td>ر</td>\n",
       "      <td>الرجز</td>\n",
       "      <td>NaN</td>\n",
       "      <td>وَتَنجَلي عَنهُم غَياباتُ الكَرى</td>\n",
       "      <td>وَتَنجَلي عَنهُم غَياباتُ الكَرى</td>\n",
       "    </tr>\n",
       "    <tr>\n",
       "      <th>201564</th>\n",
       "      <td>الحديث</td>\n",
       "      <td>أحمد شوقي</td>\n",
       "      <td>الديوان الرئيسي</td>\n",
       "      <td>ب</td>\n",
       "      <td>المتدارك</td>\n",
       "      <td>NaN</td>\n",
       "      <td>NaN</td>\n",
       "      <td></td>\n",
       "    </tr>\n",
       "    <tr>\n",
       "      <th>213263</th>\n",
       "      <td>الحديث</td>\n",
       "      <td>أحمد شوقي</td>\n",
       "      <td>الديوان الرئيسي</td>\n",
       "      <td>ر</td>\n",
       "      <td>الخفيف</td>\n",
       "      <td>NaN</td>\n",
       "      <td>كل سار وسامر</td>\n",
       "      <td>كل سار وسامر</td>\n",
       "    </tr>\n",
       "    <tr>\n",
       "      <th>221330</th>\n",
       "      <td>الحديث</td>\n",
       "      <td>حافظ ابراهيم</td>\n",
       "      <td>الديوان الرئيسي</td>\n",
       "      <td>ء</td>\n",
       "      <td>الوافر</td>\n",
       "      <td>NaN</td>\n",
       "      <td>فَكُلُّ العالَمينَ إِلى فَناءِ</td>\n",
       "      <td>فَكُلُّ العالَمينَ إِلى فَناءِ</td>\n",
       "    </tr>\n",
       "    <tr>\n",
       "      <th>221333</th>\n",
       "      <td>الحديث</td>\n",
       "      <td>حافظ ابراهيم</td>\n",
       "      <td>الديوان الرئيسي</td>\n",
       "      <td>ء</td>\n",
       "      <td>الوافر</td>\n",
       "      <td>NaN</td>\n",
       "      <td>بِنَظرَةِ واجِدٍ قَلِقِ الرَجاءِ</td>\n",
       "      <td>بِنَظرَةِ واجِدٍ قَلِقِ الرَجاءِ</td>\n",
       "    </tr>\n",
       "    <tr>\n",
       "      <th>221336</th>\n",
       "      <td>الحديث</td>\n",
       "      <td>حافظ ابراهيم</td>\n",
       "      <td>الديوان الرئيسي</td>\n",
       "      <td>ء</td>\n",
       "      <td>الوافر</td>\n",
       "      <td>NaN</td>\n",
       "      <td>وَلا قَوماً كَقَومِكِ في الدَهاءِ</td>\n",
       "      <td>وَلا قَوماً كَقَومِكِ في الدَهاءِ</td>\n",
       "    </tr>\n",
       "    <tr>\n",
       "      <th>221339</th>\n",
       "      <td>الحديث</td>\n",
       "      <td>حافظ ابراهيم</td>\n",
       "      <td>الديوان الرئيسي</td>\n",
       "      <td>ء</td>\n",
       "      <td>الوافر</td>\n",
       "      <td>NaN</td>\n",
       "      <td>سُعودَ البَدرِ في بُرجِ الهَناءِ</td>\n",
       "      <td>سُعودَ البَدرِ في بُرجِ الهَناءِ</td>\n",
       "    </tr>\n",
       "    <tr>\n",
       "      <th>221342</th>\n",
       "      <td>الحديث</td>\n",
       "      <td>حافظ ابراهيم</td>\n",
       "      <td>الديوان الرئيسي</td>\n",
       "      <td>ء</td>\n",
       "      <td>الوافر</td>\n",
       "      <td>NaN</td>\n",
       "      <td>وَذَرَّيتِ المَعاقِلَ في الهَواءِ</td>\n",
       "      <td>وَذَرَّيتِ المَعاقِلَ في الهَواءِ</td>\n",
       "    </tr>\n",
       "    <tr>\n",
       "      <th>221345</th>\n",
       "      <td>الحديث</td>\n",
       "      <td>حافظ ابراهيم</td>\n",
       "      <td>الديوان الرئيسي</td>\n",
       "      <td>ء</td>\n",
       "      <td>الوافر</td>\n",
       "      <td>NaN</td>\n",
       "      <td>وَظَلَّلَ تَحتَهُ أَهلَ الوَلاءِ</td>\n",
       "      <td>وَظَلَّلَ تَحتَهُ أَهلَ الوَلاءِ</td>\n",
       "    </tr>\n",
       "    <tr>\n",
       "      <th>221348</th>\n",
       "      <td>الحديث</td>\n",
       "      <td>حافظ ابراهيم</td>\n",
       "      <td>الديوان الرئيسي</td>\n",
       "      <td>ء</td>\n",
       "      <td>الوافر</td>\n",
       "      <td>NaN</td>\n",
       "      <td>لَهيبُ الصَيفِ أَو قُرُّ الشِتاءِ</td>\n",
       "      <td>لَهيبُ الصَيفِ أَو قُرُّ الشِتاءِ</td>\n",
       "    </tr>\n",
       "    <tr>\n",
       "      <th>223448</th>\n",
       "      <td>المخضرمين</td>\n",
       "      <td>النمر بن تولب</td>\n",
       "      <td>الديوان الرئيسي</td>\n",
       "      <td>ر</td>\n",
       "      <td>الرجز</td>\n",
       "      <td>NaN</td>\n",
       "      <td>نُطعِمُها اللَحمَ إِذا عَزَّ الشَجَر</td>\n",
       "      <td>نُطعِمُها اللَحمَ إِذا عَزَّ الشَجَر</td>\n",
       "    </tr>\n",
       "    <tr>\n",
       "      <th>243489</th>\n",
       "      <td>العباسي</td>\n",
       "      <td>ابن الرومي</td>\n",
       "      <td>الديوان الرئيسي</td>\n",
       "      <td>ث</td>\n",
       "      <td>الرجز</td>\n",
       "      <td>NaN</td>\n",
       "      <td>NaN</td>\n",
       "      <td></td>\n",
       "    </tr>\n",
       "    <tr>\n",
       "      <th>280866</th>\n",
       "      <td>العباسي</td>\n",
       "      <td>مهيار الديلمي</td>\n",
       "      <td>الديوان الرئيسي</td>\n",
       "      <td>ف</td>\n",
       "      <td>الرجز</td>\n",
       "      <td>NaN</td>\n",
       "      <td>NaN</td>\n",
       "      <td></td>\n",
       "    </tr>\n",
       "    <tr>\n",
       "      <th>304666</th>\n",
       "      <td>المغرب والأندلس</td>\n",
       "      <td>ابن شرف القيرواني</td>\n",
       "      <td>الديوان الرئيسي</td>\n",
       "      <td>ل</td>\n",
       "      <td>الخفيف</td>\n",
       "      <td>NaN</td>\n",
       "      <td>NaN</td>\n",
       "      <td></td>\n",
       "    </tr>\n",
       "    <tr>\n",
       "      <th>312477</th>\n",
       "      <td>الفاطمي</td>\n",
       "      <td>نجم الدين النسفي</td>\n",
       "      <td>الديوان الرئيسي</td>\n",
       "      <td>ظ</td>\n",
       "      <td>الكامل</td>\n",
       "      <td>NaN</td>\n",
       "      <td>NaN</td>\n",
       "      <td></td>\n",
       "    </tr>\n",
       "    <tr>\n",
       "      <th>316597</th>\n",
       "      <td>الأيوبي</td>\n",
       "      <td>محيي الدين بن عربي</td>\n",
       "      <td>الديوان الرئيسي</td>\n",
       "      <td>ن</td>\n",
       "      <td>موشح</td>\n",
       "      <td>NaN</td>\n",
       "      <td>في العالمين</td>\n",
       "      <td>في العالمين</td>\n",
       "    </tr>\n",
       "    <tr>\n",
       "      <th>316617</th>\n",
       "      <td>الأيوبي</td>\n",
       "      <td>محيي الدين بن عربي</td>\n",
       "      <td>الديوان الرئيسي</td>\n",
       "      <td>ن</td>\n",
       "      <td>موشح</td>\n",
       "      <td>NaN</td>\n",
       "      <td>في الغابرين</td>\n",
       "      <td>في الغابرين</td>\n",
       "    </tr>\n",
       "    <tr>\n",
       "      <th>319084</th>\n",
       "      <td>الأيوبي</td>\n",
       "      <td>محيي الدين بن عربي</td>\n",
       "      <td>الديوان الرئيسي</td>\n",
       "      <td>ا</td>\n",
       "      <td>موشح</td>\n",
       "      <td>NaN</td>\n",
       "      <td>NaN</td>\n",
       "      <td></td>\n",
       "    </tr>\n",
       "    <tr>\n",
       "      <th>371854</th>\n",
       "      <td>العباسي</td>\n",
       "      <td>خلف الأحمر</td>\n",
       "      <td>الديوان الرئيسي</td>\n",
       "      <td>ل</td>\n",
       "      <td>الرجز</td>\n",
       "      <td>NaN</td>\n",
       "      <td>تَهزَأُ مِنّي أُختُ آلِ طَيسَلَه</td>\n",
       "      <td>تَهزَأُ مِنّي أُختُ آلِ طَيسَلَه</td>\n",
       "    </tr>\n",
       "    <tr>\n",
       "      <th>371857</th>\n",
       "      <td>العباسي</td>\n",
       "      <td>خلف الأحمر</td>\n",
       "      <td>الديوان الرئيسي</td>\n",
       "      <td>ل</td>\n",
       "      <td>الرجز</td>\n",
       "      <td>NaN</td>\n",
       "      <td>قالَت أَراهُ دالِفاً قَد دُنيَ لَه</td>\n",
       "      <td>قالَت أَراهُ دالِفاً قَد دُنيَ لَه</td>\n",
       "    </tr>\n",
       "    <tr>\n",
       "      <th>371863</th>\n",
       "      <td>العباسي</td>\n",
       "      <td>خلف الأحمر</td>\n",
       "      <td>الديوان الرئيسي</td>\n",
       "      <td>ل</td>\n",
       "      <td>الرجز</td>\n",
       "      <td>NaN</td>\n",
       "      <td>مِثلَ الأَتانِ نَصَفاً جَنَعدَلَه</td>\n",
       "      <td>مِثلَ الأَتانِ نَصَفاً جَنَعدَلَه</td>\n",
       "    </tr>\n",
       "    <tr>\n",
       "      <th>...</th>\n",
       "      <td>...</td>\n",
       "      <td>...</td>\n",
       "      <td>...</td>\n",
       "      <td>...</td>\n",
       "      <td>...</td>\n",
       "      <td>...</td>\n",
       "      <td>...</td>\n",
       "      <td>...</td>\n",
       "    </tr>\n",
       "    <tr>\n",
       "      <th>1931432</th>\n",
       "      <td>NaN</td>\n",
       "      <td>جرير</td>\n",
       "      <td>NaN</td>\n",
       "      <td>NaN</td>\n",
       "      <td>الكامل</td>\n",
       "      <td>لا يَشبَعونَ وَأُمُّهُم لا تَشبَعُ</td>\n",
       "      <td>أَشكو إِلَيكَ فَأَشكِني ذُرِّيَّةً</td>\n",
       "      <td>أَشكو إِلَيكَ فَأَشكِني ذُرِّيَّةً لا يَشبَعون...</td>\n",
       "    </tr>\n",
       "    <tr>\n",
       "      <th>1931433</th>\n",
       "      <td>NaN</td>\n",
       "      <td>جرير</td>\n",
       "      <td>NaN</td>\n",
       "      <td>NaN</td>\n",
       "      <td>الكامل</td>\n",
       "      <td>حَتّى الحِسابِ وَلا الصَغيرُ المُرضَعُ</td>\n",
       "      <td>كَثُروا عَلَيَّ فَما يَموتُ كَبيرُهُم</td>\n",
       "      <td>كَثُروا عَلَيَّ فَما يَموتُ كَبيرُهُم حَتّى ال...</td>\n",
       "    </tr>\n",
       "    <tr>\n",
       "      <th>1931676</th>\n",
       "      <td>NaN</td>\n",
       "      <td>ابن زيدون</td>\n",
       "      <td>NaN</td>\n",
       "      <td>NaN</td>\n",
       "      <td>الكامل</td>\n",
       "      <td>حَتّى يُراقَ عَلى جَوانِبِهِ الدَمُ</td>\n",
       "      <td>لا يَسلَمُ الشَرَفُ الرَفيعُ مِنَ الأَذى</td>\n",
       "      <td>لا يَسلَمُ الشَرَفُ الرَفيعُ مِنَ الأَذى حَتّى...</td>\n",
       "    </tr>\n",
       "    <tr>\n",
       "      <th>1934943</th>\n",
       "      <td>NaN</td>\n",
       "      <td>المتلمس الضبعي</td>\n",
       "      <td>NaN</td>\n",
       "      <td>NaN</td>\n",
       "      <td>الكامل</td>\n",
       "      <td>وَالبَدوُ مِن عانٍ وَمُطلَق</td>\n",
       "      <td>وَالثَعلَبِيَّةُ كُلُّها</td>\n",
       "      <td>وَالثَعلَبِيَّةُ كُلُّها وَالبَدوُ مِن عانٍ وَ...</td>\n",
       "    </tr>\n",
       "    <tr>\n",
       "      <th>1954827</th>\n",
       "      <td>NaN</td>\n",
       "      <td>القاضي الفاضل</td>\n",
       "      <td>NaN</td>\n",
       "      <td>NaN</td>\n",
       "      <td>الكامل</td>\n",
       "      <td>وَلَقَد أَتى فَعَجَزنَ عَن نُظَرائِهِ</td>\n",
       "      <td>مَضَتِ الدُهورُ وَما أَتَينَ بِمِثلِهِ</td>\n",
       "      <td>مَضَتِ الدُهورُ وَما أَتَينَ بِمِثلِهِ وَلَقَد...</td>\n",
       "    </tr>\n",
       "    <tr>\n",
       "      <th>1959743</th>\n",
       "      <td>NaN</td>\n",
       "      <td>الأسود النهشلي</td>\n",
       "      <td>NaN</td>\n",
       "      <td>NaN</td>\n",
       "      <td>الكامل</td>\n",
       "      <td>الكامل</td>\n",
       "      <td>وقال أيضاً</td>\n",
       "      <td>وقال أيضاً الكامل</td>\n",
       "    </tr>\n",
       "    <tr>\n",
       "      <th>1961165</th>\n",
       "      <td>NaN</td>\n",
       "      <td>ابن حيوس</td>\n",
       "      <td>NaN</td>\n",
       "      <td>NaN</td>\n",
       "      <td>الكامل</td>\n",
       "      <td>وَالشِعرُ طِرفٌ خاطِري مَيدانُهُ</td>\n",
       "      <td>لِمَ لا أُبالِغُ في مَديحِكَ مُطنِباً</td>\n",
       "      <td>لِمَ لا أُبالِغُ في مَديحِكَ مُطنِباً وَالشِعر...</td>\n",
       "    </tr>\n",
       "    <tr>\n",
       "      <th>1964776</th>\n",
       "      <td>NaN</td>\n",
       "      <td>الراعي النميري</td>\n",
       "      <td>NaN</td>\n",
       "      <td>NaN</td>\n",
       "      <td>الكامل</td>\n",
       "      <td>قَمَرُ المَجَرَّةِ أَو سِراجُ نَهارِ</td>\n",
       "      <td>كَم مِن أَبٍ لي يا جَريرُ كَأَنَّهُ</td>\n",
       "      <td>كَم مِن أَبٍ لي يا جَريرُ كَأَنَّهُ قَمَرُ الم...</td>\n",
       "    </tr>\n",
       "    <tr>\n",
       "      <th>1964878</th>\n",
       "      <td>NaN</td>\n",
       "      <td>الخنساء</td>\n",
       "      <td>NaN</td>\n",
       "      <td>NaN</td>\n",
       "      <td>الكامل</td>\n",
       "      <td>حُيِّيتَ غَيرَ مُقَبَّحٍ مِكبابِ</td>\n",
       "      <td>يا اِبنَ الشَريدِ عَلى تَنائي بَينِنا</td>\n",
       "      <td>يا اِبنَ الشَريدِ عَلى تَنائي بَينِنا حُيِّيتَ...</td>\n",
       "    </tr>\n",
       "    <tr>\n",
       "      <th>1964879</th>\n",
       "      <td>NaN</td>\n",
       "      <td>الخنساء</td>\n",
       "      <td>NaN</td>\n",
       "      <td>NaN</td>\n",
       "      <td>الكامل</td>\n",
       "      <td>شَهباءُ تَقطَعُ بالِيَ الأَطنابِ</td>\n",
       "      <td>فَكِهٌ عَلى خَيرِ الغِذاءِ إِذا غَدَت</td>\n",
       "      <td>فَكِهٌ عَلى خَيرِ الغِذاءِ إِذا غَدَت شَهباءُ ...</td>\n",
       "    </tr>\n",
       "    <tr>\n",
       "      <th>1964880</th>\n",
       "      <td>NaN</td>\n",
       "      <td>الخنساء</td>\n",
       "      <td>NaN</td>\n",
       "      <td>NaN</td>\n",
       "      <td>الكامل</td>\n",
       "      <td>مُتَسَهِّلٌ في الأَهلِ وَالأَجنابِ</td>\n",
       "      <td>أَرِجُ العِطافِ مُهَفهَفٌ نِعمَ الفَتى</td>\n",
       "      <td>أَرِجُ العِطافِ مُهَفهَفٌ نِعمَ الفَتى مُتَسَه...</td>\n",
       "    </tr>\n",
       "    <tr>\n",
       "      <th>1964881</th>\n",
       "      <td>NaN</td>\n",
       "      <td>الخنساء</td>\n",
       "      <td>NaN</td>\n",
       "      <td>NaN</td>\n",
       "      <td>الكامل</td>\n",
       "      <td>أَسَداً بِبيشَةَ كاشِرَ الأَنيابِ</td>\n",
       "      <td>حامي الحَقيقِ تَخالُهُ عِندَ الوَغى</td>\n",
       "      <td>حامي الحَقيقِ تَخالُهُ عِندَ الوَغى أَسَداً بِ...</td>\n",
       "    </tr>\n",
       "    <tr>\n",
       "      <th>1964882</th>\n",
       "      <td>NaN</td>\n",
       "      <td>الخنساء</td>\n",
       "      <td>NaN</td>\n",
       "      <td>NaN</td>\n",
       "      <td>الكامل</td>\n",
       "      <td>شَثنَ البَراثِنِ لاحِقَ الأَقرابِ</td>\n",
       "      <td>أَسَداً تَناذَرَهُ الرِفاقُ ضُبارِماً</td>\n",
       "      <td>أَسَداً تَناذَرَهُ الرِفاقُ ضُبارِماً شَثنَ ال...</td>\n",
       "    </tr>\n",
       "    <tr>\n",
       "      <th>1964883</th>\n",
       "      <td>NaN</td>\n",
       "      <td>الخنساء</td>\n",
       "      <td>NaN</td>\n",
       "      <td>NaN</td>\n",
       "      <td>الكامل</td>\n",
       "      <td>مَحضَ الضَريبَةِ طَيِّبَ الأَثوابِ</td>\n",
       "      <td>فَلَئِن هَلَكتَ لَقَد غَنيتَ سَمَيذَعاً</td>\n",
       "      <td>فَلَئِن هَلَكتَ لَقَد غَنيتَ سَمَيذَعاً مَحضَ ...</td>\n",
       "    </tr>\n",
       "    <tr>\n",
       "      <th>1964884</th>\n",
       "      <td>NaN</td>\n",
       "      <td>الخنساء</td>\n",
       "      <td>NaN</td>\n",
       "      <td>NaN</td>\n",
       "      <td>الكامل</td>\n",
       "      <td>مَأوى اليَتيمِ وَغايَةَ المُنتابِ</td>\n",
       "      <td>ضَخمَ الدَسيعَةِ بِالنَدى مُتَدَفِّقاً</td>\n",
       "      <td>ضَخمَ الدَسيعَةِ بِالنَدى مُتَدَفِّقاً مَأوى ا...</td>\n",
       "    </tr>\n",
       "    <tr>\n",
       "      <th>1990369</th>\n",
       "      <td>NaN</td>\n",
       "      <td>المسيب بن علس</td>\n",
       "      <td>NaN</td>\n",
       "      <td>NaN</td>\n",
       "      <td>الطويل</td>\n",
       "      <td>بِناجٍ عَلَيهِ الصَيعَرِيَّةُ مُكدَمِ</td>\n",
       "      <td>وَقَد أَتَناسى الهَمَّ عِندَ اِحتِضارِهِ</td>\n",
       "      <td>وَقَد أَتَناسى الهَمَّ عِندَ اِحتِضارِهِ بِناج...</td>\n",
       "    </tr>\n",
       "    <tr>\n",
       "      <th>1990838</th>\n",
       "      <td>NaN</td>\n",
       "      <td>المثقب العبدي</td>\n",
       "      <td>NaN</td>\n",
       "      <td>NaN</td>\n",
       "      <td>الطويل</td>\n",
       "      <td>إِذا لَم يَثِب لِلأَمرِ إِلّا بِقائِدِ</td>\n",
       "      <td>وَلَلمَوتُ خَيرٌ لِلفَتى مِن حَياتِهِ</td>\n",
       "      <td>وَلَلمَوتُ خَيرٌ لِلفَتى مِن حَياتِهِ إِذا لَم...</td>\n",
       "    </tr>\n",
       "    <tr>\n",
       "      <th>1990844</th>\n",
       "      <td>NaN</td>\n",
       "      <td>المثقب العبدي</td>\n",
       "      <td>NaN</td>\n",
       "      <td>NaN</td>\n",
       "      <td>الطويل</td>\n",
       "      <td>وَلا عِندَ خَيرٍ إِن رَجاهُ بِواحِدِ</td>\n",
       "      <td>وَلَيسَ أَخونا عِندَ شَرٍّ يَخافُهُ</td>\n",
       "      <td>وَلَيسَ أَخونا عِندَ شَرٍّ يَخافُهُ وَلا عِندَ...</td>\n",
       "    </tr>\n",
       "    <tr>\n",
       "      <th>1990845</th>\n",
       "      <td>NaN</td>\n",
       "      <td>المثقب العبدي</td>\n",
       "      <td>NaN</td>\n",
       "      <td>NaN</td>\n",
       "      <td>الطويل</td>\n",
       "      <td>عِظامُ اللُهى مِنّا طِوالُ السَواعِدِ</td>\n",
       "      <td>إِذا قيلَ مَن لِلمُعضِلاتِ أَجابَهُ</td>\n",
       "      <td>إِذا قيلَ مَن لِلمُعضِلاتِ أَجابَهُ عِظامُ الل...</td>\n",
       "    </tr>\n",
       "    <tr>\n",
       "      <th>1990853</th>\n",
       "      <td>NaN</td>\n",
       "      <td>القاضي الفاضل</td>\n",
       "      <td>NaN</td>\n",
       "      <td>NaN</td>\n",
       "      <td>الطويل</td>\n",
       "      <td>إِلى كُلِّ غَضبانٍ عَلى الدَهرِ عاتِبِ</td>\n",
       "      <td>قَدِمتَ فَأَقدَمتَ النَدى يَحمِلُ الرِضا</td>\n",
       "      <td>قَدِمتَ فَأَقدَمتَ النَدى يَحمِلُ الرِضا إِلى ...</td>\n",
       "    </tr>\n",
       "    <tr>\n",
       "      <th>1995187</th>\n",
       "      <td>NaN</td>\n",
       "      <td>ابن المقرب العيوني</td>\n",
       "      <td>NaN</td>\n",
       "      <td>NaN</td>\n",
       "      <td>الطويل</td>\n",
       "      <td>الطويل</td>\n",
       "      <td>وقال أيضاً</td>\n",
       "      <td>وقال أيضاً الطويل</td>\n",
       "    </tr>\n",
       "    <tr>\n",
       "      <th>2001845</th>\n",
       "      <td>NaN</td>\n",
       "      <td>الشنفرى</td>\n",
       "      <td>NaN</td>\n",
       "      <td>NaN</td>\n",
       "      <td>الطويل</td>\n",
       "      <td>الطويل</td>\n",
       "      <td>وقال أيضاً</td>\n",
       "      <td>وقال أيضاً الطويل</td>\n",
       "    </tr>\n",
       "    <tr>\n",
       "      <th>2008542</th>\n",
       "      <td>NaN</td>\n",
       "      <td>أوس بن حجر</td>\n",
       "      <td>NaN</td>\n",
       "      <td>NaN</td>\n",
       "      <td>الطويل</td>\n",
       "      <td>يَخُبُّ بِها هادٍ لِإِثرِيَ قائِفُ</td>\n",
       "      <td>إِذاً لَأَتَتني حَيثُ كُنتُ مَنِيَّتي</td>\n",
       "      <td>إِذاً لَأَتَتني حَيثُ كُنتُ مَنِيَّتي يَخُبُّ ...</td>\n",
       "    </tr>\n",
       "    <tr>\n",
       "      <th>2012171</th>\n",
       "      <td>NaN</td>\n",
       "      <td>أوس بن حجر</td>\n",
       "      <td>NaN</td>\n",
       "      <td>NaN</td>\n",
       "      <td>الطويل</td>\n",
       "      <td>الطويل</td>\n",
       "      <td>وقال أيضاً</td>\n",
       "      <td>وقال أيضاً الطويل</td>\n",
       "    </tr>\n",
       "    <tr>\n",
       "      <th>2019420</th>\n",
       "      <td>NaN</td>\n",
       "      <td>أوس بن حجر</td>\n",
       "      <td>NaN</td>\n",
       "      <td>NaN</td>\n",
       "      <td>الطويل</td>\n",
       "      <td>وَفَروَةَ ضِرغامٍ مِنَ الأُسدِ ضَيغَمِ</td>\n",
       "      <td>يَرى الناسُ مِنّا جِلدَ أَسوَدَ سالِخٍ</td>\n",
       "      <td>يَرى الناسُ مِنّا جِلدَ أَسوَدَ سالِخٍ وَفَروَ...</td>\n",
       "    </tr>\n",
       "    <tr>\n",
       "      <th>2025560</th>\n",
       "      <td>NaN</td>\n",
       "      <td>الفرزدق</td>\n",
       "      <td>NaN</td>\n",
       "      <td>NaN</td>\n",
       "      <td>الطويل</td>\n",
       "      <td>بِهِ يَشتَفي مَن ظَنَّ أَن لا تَلاقِيا</td>\n",
       "      <td>فَقُلتُ لَها إِنَّ البُكاءَ لَراحَةٌ</td>\n",
       "      <td>فَقُلتُ لَها إِنَّ البُكاءَ لَراحَةٌ بِهِ يَشت...</td>\n",
       "    </tr>\n",
       "    <tr>\n",
       "      <th>2027954</th>\n",
       "      <td>NaN</td>\n",
       "      <td>الملك الأمجد</td>\n",
       "      <td>NaN</td>\n",
       "      <td>NaN</td>\n",
       "      <td>الطويل</td>\n",
       "      <td>الطويل</td>\n",
       "      <td>وقال أيضاً</td>\n",
       "      <td>وقال أيضاً الطويل</td>\n",
       "    </tr>\n",
       "    <tr>\n",
       "      <th>2037411</th>\n",
       "      <td>NaN</td>\n",
       "      <td>الحطيئة</td>\n",
       "      <td>NaN</td>\n",
       "      <td>NaN</td>\n",
       "      <td>الطويل</td>\n",
       "      <td>الطويل</td>\n",
       "      <td>وقال أيضاً</td>\n",
       "      <td>وقال أيضاً الطويل</td>\n",
       "    </tr>\n",
       "    <tr>\n",
       "      <th>2037493</th>\n",
       "      <td>NaN</td>\n",
       "      <td>الشنفرى</td>\n",
       "      <td>NaN</td>\n",
       "      <td>NaN</td>\n",
       "      <td>الطويل</td>\n",
       "      <td>وَغودِرَ عِندَ المُلتَقى ثَمَّ سائِري</td>\n",
       "      <td>إِذا ضَرَبوا رَأسي وَفي الرَأسِ أَكثَري</td>\n",
       "      <td>إِذا ضَرَبوا رَأسي وَفي الرَأسِ أَكثَري وَغودِ...</td>\n",
       "    </tr>\n",
       "    <tr>\n",
       "      <th>2046229</th>\n",
       "      <td>NaN</td>\n",
       "      <td>أبو ذؤيب الهذلي</td>\n",
       "      <td>NaN</td>\n",
       "      <td>NaN</td>\n",
       "      <td>الطويل</td>\n",
       "      <td>وَهِزَّةُ أَجمالٍ لَهُنَّ وَسيجُ</td>\n",
       "      <td>إِلى ظُعُنٍ كَالدَومِ فيها تَزايُلٌ</td>\n",
       "      <td>إِلى ظُعُنٍ كَالدَومِ فيها تَزايُلٌ وَهِزَّةُ ...</td>\n",
       "    </tr>\n",
       "  </tbody>\n",
       "</table>\n",
       "<p>724 rows × 8 columns</p>\n",
       "</div>"
      ],
      "text/plain": [
       "                   العصر                   الشاعر          الديوان القافية  \\\n",
       "123483           العباسي             صريع الغواني  الديوان الرئيسي       ل   \n",
       "153936          المملوكي  صَفِيِّ الدينِ الحِلِّي  الديوان الرئيسي       ل   \n",
       "153963          المملوكي  صَفِيِّ الدينِ الحِلِّي  الديوان الرئيسي       ل   \n",
       "153972          المملوكي  صَفِيِّ الدينِ الحِلِّي  الديوان الرئيسي       ل   \n",
       "153981          المملوكي  صَفِيِّ الدينِ الحِلِّي  الديوان الرئيسي       ل   \n",
       "158090          المملوكي  صَفِيِّ الدينِ الحِلِّي  الديوان الرئيسي       ن   \n",
       "158099          المملوكي  صَفِيِّ الدينِ الحِلِّي  الديوان الرئيسي       ن   \n",
       "191320         المخضرمين        عبد الله بن رواحة  الديوان الرئيسي       ت   \n",
       "191338         المخضرمين        عبد الله بن رواحة  الديوان الرئيسي       ر   \n",
       "191339         المخضرمين        عبد الله بن رواحة  الديوان الرئيسي       ر   \n",
       "201564            الحديث                أحمد شوقي  الديوان الرئيسي       ب   \n",
       "213263            الحديث                أحمد شوقي  الديوان الرئيسي       ر   \n",
       "221330            الحديث             حافظ ابراهيم  الديوان الرئيسي       ء   \n",
       "221333            الحديث             حافظ ابراهيم  الديوان الرئيسي       ء   \n",
       "221336            الحديث             حافظ ابراهيم  الديوان الرئيسي       ء   \n",
       "221339            الحديث             حافظ ابراهيم  الديوان الرئيسي       ء   \n",
       "221342            الحديث             حافظ ابراهيم  الديوان الرئيسي       ء   \n",
       "221345            الحديث             حافظ ابراهيم  الديوان الرئيسي       ء   \n",
       "221348            الحديث             حافظ ابراهيم  الديوان الرئيسي       ء   \n",
       "223448         المخضرمين            النمر بن تولب  الديوان الرئيسي       ر   \n",
       "243489           العباسي               ابن الرومي  الديوان الرئيسي       ث   \n",
       "280866           العباسي            مهيار الديلمي  الديوان الرئيسي       ف   \n",
       "304666   المغرب والأندلس        ابن شرف القيرواني  الديوان الرئيسي       ل   \n",
       "312477           الفاطمي         نجم الدين النسفي  الديوان الرئيسي       ظ   \n",
       "316597           الأيوبي       محيي الدين بن عربي  الديوان الرئيسي       ن   \n",
       "316617           الأيوبي       محيي الدين بن عربي  الديوان الرئيسي       ن   \n",
       "319084           الأيوبي       محيي الدين بن عربي  الديوان الرئيسي       ا   \n",
       "371854           العباسي               خلف الأحمر  الديوان الرئيسي       ل   \n",
       "371857           العباسي               خلف الأحمر  الديوان الرئيسي       ل   \n",
       "371863           العباسي               خلف الأحمر  الديوان الرئيسي       ل   \n",
       "...                  ...                      ...              ...     ...   \n",
       "1931432              NaN                     جرير              NaN     NaN   \n",
       "1931433              NaN                     جرير              NaN     NaN   \n",
       "1931676              NaN                ابن زيدون              NaN     NaN   \n",
       "1934943              NaN           المتلمس الضبعي              NaN     NaN   \n",
       "1954827              NaN            القاضي الفاضل              NaN     NaN   \n",
       "1959743              NaN           الأسود النهشلي              NaN     NaN   \n",
       "1961165              NaN                 ابن حيوس              NaN     NaN   \n",
       "1964776              NaN           الراعي النميري              NaN     NaN   \n",
       "1964878              NaN                  الخنساء              NaN     NaN   \n",
       "1964879              NaN                  الخنساء              NaN     NaN   \n",
       "1964880              NaN                  الخنساء              NaN     NaN   \n",
       "1964881              NaN                  الخنساء              NaN     NaN   \n",
       "1964882              NaN                  الخنساء              NaN     NaN   \n",
       "1964883              NaN                  الخنساء              NaN     NaN   \n",
       "1964884              NaN                  الخنساء              NaN     NaN   \n",
       "1990369              NaN            المسيب بن علس              NaN     NaN   \n",
       "1990838              NaN            المثقب العبدي              NaN     NaN   \n",
       "1990844              NaN            المثقب العبدي              NaN     NaN   \n",
       "1990845              NaN            المثقب العبدي              NaN     NaN   \n",
       "1990853              NaN            القاضي الفاضل              NaN     NaN   \n",
       "1995187              NaN       ابن المقرب العيوني              NaN     NaN   \n",
       "2001845              NaN                  الشنفرى              NaN     NaN   \n",
       "2008542              NaN               أوس بن حجر              NaN     NaN   \n",
       "2012171              NaN               أوس بن حجر              NaN     NaN   \n",
       "2019420              NaN               أوس بن حجر              NaN     NaN   \n",
       "2025560              NaN                  الفرزدق              NaN     NaN   \n",
       "2027954              NaN             الملك الأمجد              NaN     NaN   \n",
       "2037411              NaN                  الحطيئة              NaN     NaN   \n",
       "2037493              NaN                  الشنفرى              NaN     NaN   \n",
       "2046229              NaN          أبو ذؤيب الهذلي              NaN     NaN   \n",
       "\n",
       "            البحر                            الشطر الايسر  \\\n",
       "123483     الكامل                                     NaN   \n",
       "153936     الطويل                                     NaN   \n",
       "153963     الطويل                                     NaN   \n",
       "153972     الطويل                                     NaN   \n",
       "153981     الطويل                                     NaN   \n",
       "158090     البسيط                                     NaN   \n",
       "158099     البسيط                                     NaN   \n",
       "191320      الرجز                                     NaN   \n",
       "191338      الرجز                                     NaN   \n",
       "191339      الرجز                                     NaN   \n",
       "201564   المتدارك                                     NaN   \n",
       "213263     الخفيف                                     NaN   \n",
       "221330     الوافر                                     NaN   \n",
       "221333     الوافر                                     NaN   \n",
       "221336     الوافر                                     NaN   \n",
       "221339     الوافر                                     NaN   \n",
       "221342     الوافر                                     NaN   \n",
       "221345     الوافر                                     NaN   \n",
       "221348     الوافر                                     NaN   \n",
       "223448      الرجز                                     NaN   \n",
       "243489      الرجز                                     NaN   \n",
       "280866      الرجز                                     NaN   \n",
       "304666     الخفيف                                     NaN   \n",
       "312477     الكامل                                     NaN   \n",
       "316597       موشح                                     NaN   \n",
       "316617       موشح                                     NaN   \n",
       "319084       موشح                                     NaN   \n",
       "371854      الرجز                                     NaN   \n",
       "371857      الرجز                                     NaN   \n",
       "371863      الرجز                                     NaN   \n",
       "...           ...                                     ...   \n",
       "1931432    الكامل      لا يَشبَعونَ وَأُمُّهُم لا تَشبَعُ   \n",
       "1931433    الكامل  حَتّى الحِسابِ وَلا الصَغيرُ المُرضَعُ   \n",
       "1931676    الكامل     حَتّى يُراقَ عَلى جَوانِبِهِ الدَمُ   \n",
       "1934943    الكامل             وَالبَدوُ مِن عانٍ وَمُطلَق   \n",
       "1954827    الكامل   وَلَقَد أَتى فَعَجَزنَ عَن نُظَرائِهِ   \n",
       "1959743    الكامل                                  الكامل   \n",
       "1961165    الكامل        وَالشِعرُ طِرفٌ خاطِري مَيدانُهُ   \n",
       "1964776    الكامل    قَمَرُ المَجَرَّةِ أَو سِراجُ نَهارِ   \n",
       "1964878    الكامل        حُيِّيتَ غَيرَ مُقَبَّحٍ مِكبابِ   \n",
       "1964879    الكامل        شَهباءُ تَقطَعُ بالِيَ الأَطنابِ   \n",
       "1964880    الكامل      مُتَسَهِّلٌ في الأَهلِ وَالأَجنابِ   \n",
       "1964881    الكامل       أَسَداً بِبيشَةَ كاشِرَ الأَنيابِ   \n",
       "1964882    الكامل       شَثنَ البَراثِنِ لاحِقَ الأَقرابِ   \n",
       "1964883    الكامل      مَحضَ الضَريبَةِ طَيِّبَ الأَثوابِ   \n",
       "1964884    الكامل       مَأوى اليَتيمِ وَغايَةَ المُنتابِ   \n",
       "1990369    الطويل   بِناجٍ عَلَيهِ الصَيعَرِيَّةُ مُكدَمِ   \n",
       "1990838    الطويل  إِذا لَم يَثِب لِلأَمرِ إِلّا بِقائِدِ   \n",
       "1990844    الطويل    وَلا عِندَ خَيرٍ إِن رَجاهُ بِواحِدِ   \n",
       "1990845    الطويل   عِظامُ اللُهى مِنّا طِوالُ السَواعِدِ   \n",
       "1990853    الطويل  إِلى كُلِّ غَضبانٍ عَلى الدَهرِ عاتِبِ   \n",
       "1995187    الطويل                                  الطويل   \n",
       "2001845    الطويل                                  الطويل   \n",
       "2008542    الطويل      يَخُبُّ بِها هادٍ لِإِثرِيَ قائِفُ   \n",
       "2012171    الطويل                                  الطويل   \n",
       "2019420    الطويل  وَفَروَةَ ضِرغامٍ مِنَ الأُسدِ ضَيغَمِ   \n",
       "2025560    الطويل  بِهِ يَشتَفي مَن ظَنَّ أَن لا تَلاقِيا   \n",
       "2027954    الطويل                                  الطويل   \n",
       "2037411    الطويل                                  الطويل   \n",
       "2037493    الطويل   وَغودِرَ عِندَ المُلتَقى ثَمَّ سائِري   \n",
       "2046229    الطويل        وَهِزَّةُ أَجمالٍ لَهُنَّ وَسيجُ   \n",
       "\n",
       "                                     الشطر الايمن  \\\n",
       "123483          كادَت لَهُ مُهَجُ الأَنامِ تَسيلُ   \n",
       "153936            فَكُلُّ رِداءٍ يَرتَديهِ جَميلُ   \n",
       "153963              وَتَكرَهُهُ آجالُهُم فَتَطولُ   \n",
       "153972            إِناثٌ أَطابَت حَملَنا وَفُحولُ   \n",
       "153981         وَلا يُنكِرونَ القَولَ حينَ نَقولُ   \n",
       "158090           وَنابَ عَن طيبِ لُقيانا تَجافينا   \n",
       "158099         سوداً وَكانَت بِكُم بيضاً لَيالينا   \n",
       "191320               وَفي سَبيلِ اللَهِ ما لَقيتِ   \n",
       "191338      عِندَ الصَباحِ يَحمَدُ القَومُ السُرى   \n",
       "191339           وَتَنجَلي عَنهُم غَياباتُ الكَرى   \n",
       "201564                                        NaN   \n",
       "213263                               كل سار وسامر   \n",
       "221330             فَكُلُّ العالَمينَ إِلى فَناءِ   \n",
       "221333           بِنَظرَةِ واجِدٍ قَلِقِ الرَجاءِ   \n",
       "221336          وَلا قَوماً كَقَومِكِ في الدَهاءِ   \n",
       "221339           سُعودَ البَدرِ في بُرجِ الهَناءِ   \n",
       "221342          وَذَرَّيتِ المَعاقِلَ في الهَواءِ   \n",
       "221345           وَظَلَّلَ تَحتَهُ أَهلَ الوَلاءِ   \n",
       "221348          لَهيبُ الصَيفِ أَو قُرُّ الشِتاءِ   \n",
       "223448       نُطعِمُها اللَحمَ إِذا عَزَّ الشَجَر   \n",
       "243489                                        NaN   \n",
       "280866                                        NaN   \n",
       "304666                                        NaN   \n",
       "312477                                        NaN   \n",
       "316597                                في العالمين   \n",
       "316617                                في الغابرين   \n",
       "319084                                        NaN   \n",
       "371854           تَهزَأُ مِنّي أُختُ آلِ طَيسَلَه   \n",
       "371857         قالَت أَراهُ دالِفاً قَد دُنيَ لَه   \n",
       "371863          مِثلَ الأَتانِ نَصَفاً جَنَعدَلَه   \n",
       "...                                           ...   \n",
       "1931432        أَشكو إِلَيكَ فَأَشكِني ذُرِّيَّةً   \n",
       "1931433     كَثُروا عَلَيَّ فَما يَموتُ كَبيرُهُم   \n",
       "1931676  لا يَسلَمُ الشَرَفُ الرَفيعُ مِنَ الأَذى   \n",
       "1934943                  وَالثَعلَبِيَّةُ كُلُّها   \n",
       "1954827    مَضَتِ الدُهورُ وَما أَتَينَ بِمِثلِهِ   \n",
       "1959743                                وقال أيضاً   \n",
       "1961165     لِمَ لا أُبالِغُ في مَديحِكَ مُطنِباً   \n",
       "1964776       كَم مِن أَبٍ لي يا جَريرُ كَأَنَّهُ   \n",
       "1964878     يا اِبنَ الشَريدِ عَلى تَنائي بَينِنا   \n",
       "1964879     فَكِهٌ عَلى خَيرِ الغِذاءِ إِذا غَدَت   \n",
       "1964880    أَرِجُ العِطافِ مُهَفهَفٌ نِعمَ الفَتى   \n",
       "1964881       حامي الحَقيقِ تَخالُهُ عِندَ الوَغى   \n",
       "1964882     أَسَداً تَناذَرَهُ الرِفاقُ ضُبارِماً   \n",
       "1964883   فَلَئِن هَلَكتَ لَقَد غَنيتَ سَمَيذَعاً   \n",
       "1964884    ضَخمَ الدَسيعَةِ بِالنَدى مُتَدَفِّقاً   \n",
       "1990369  وَقَد أَتَناسى الهَمَّ عِندَ اِحتِضارِهِ   \n",
       "1990838     وَلَلمَوتُ خَيرٌ لِلفَتى مِن حَياتِهِ   \n",
       "1990844       وَلَيسَ أَخونا عِندَ شَرٍّ يَخافُهُ   \n",
       "1990845       إِذا قيلَ مَن لِلمُعضِلاتِ أَجابَهُ   \n",
       "1990853  قَدِمتَ فَأَقدَمتَ النَدى يَحمِلُ الرِضا   \n",
       "1995187                                وقال أيضاً   \n",
       "2001845                                وقال أيضاً   \n",
       "2008542     إِذاً لَأَتَتني حَيثُ كُنتُ مَنِيَّتي   \n",
       "2012171                                وقال أيضاً   \n",
       "2019420    يَرى الناسُ مِنّا جِلدَ أَسوَدَ سالِخٍ   \n",
       "2025560      فَقُلتُ لَها إِنَّ البُكاءَ لَراحَةٌ   \n",
       "2027954                                وقال أيضاً   \n",
       "2037411                                وقال أيضاً   \n",
       "2037493   إِذا ضَرَبوا رَأسي وَفي الرَأسِ أَكثَري   \n",
       "2046229       إِلى ظُعُنٍ كَالدَومِ فيها تَزايُلٌ   \n",
       "\n",
       "                                                     البيت  \n",
       "123483                  كادَت لَهُ مُهَجُ الأَنامِ تَسيلُ   \n",
       "153936                    فَكُلُّ رِداءٍ يَرتَديهِ جَميلُ   \n",
       "153963                      وَتَكرَهُهُ آجالُهُم فَتَطولُ   \n",
       "153972                    إِناثٌ أَطابَت حَملَنا وَفُحولُ   \n",
       "153981                 وَلا يُنكِرونَ القَولَ حينَ نَقولُ   \n",
       "158090                   وَنابَ عَن طيبِ لُقيانا تَجافينا   \n",
       "158099                 سوداً وَكانَت بِكُم بيضاً لَيالينا   \n",
       "191320                       وَفي سَبيلِ اللَهِ ما لَقيتِ   \n",
       "191338              عِندَ الصَباحِ يَحمَدُ القَومُ السُرى   \n",
       "191339                   وَتَنجَلي عَنهُم غَياباتُ الكَرى   \n",
       "201564                                                      \n",
       "213263                                       كل سار وسامر   \n",
       "221330                     فَكُلُّ العالَمينَ إِلى فَناءِ   \n",
       "221333                   بِنَظرَةِ واجِدٍ قَلِقِ الرَجاءِ   \n",
       "221336                  وَلا قَوماً كَقَومِكِ في الدَهاءِ   \n",
       "221339                   سُعودَ البَدرِ في بُرجِ الهَناءِ   \n",
       "221342                  وَذَرَّيتِ المَعاقِلَ في الهَواءِ   \n",
       "221345                   وَظَلَّلَ تَحتَهُ أَهلَ الوَلاءِ   \n",
       "221348                  لَهيبُ الصَيفِ أَو قُرُّ الشِتاءِ   \n",
       "223448               نُطعِمُها اللَحمَ إِذا عَزَّ الشَجَر   \n",
       "243489                                                      \n",
       "280866                                                      \n",
       "304666                                                      \n",
       "312477                                                      \n",
       "316597                                        في العالمين   \n",
       "316617                                        في الغابرين   \n",
       "319084                                                      \n",
       "371854                   تَهزَأُ مِنّي أُختُ آلِ طَيسَلَه   \n",
       "371857                 قالَت أَراهُ دالِفاً قَد دُنيَ لَه   \n",
       "371863                  مِثلَ الأَتانِ نَصَفاً جَنَعدَلَه   \n",
       "...                                                    ...  \n",
       "1931432  أَشكو إِلَيكَ فَأَشكِني ذُرِّيَّةً لا يَشبَعون...  \n",
       "1931433  كَثُروا عَلَيَّ فَما يَموتُ كَبيرُهُم حَتّى ال...  \n",
       "1931676  لا يَسلَمُ الشَرَفُ الرَفيعُ مِنَ الأَذى حَتّى...  \n",
       "1934943  وَالثَعلَبِيَّةُ كُلُّها وَالبَدوُ مِن عانٍ وَ...  \n",
       "1954827  مَضَتِ الدُهورُ وَما أَتَينَ بِمِثلِهِ وَلَقَد...  \n",
       "1959743                                  وقال أيضاً الكامل  \n",
       "1961165  لِمَ لا أُبالِغُ في مَديحِكَ مُطنِباً وَالشِعر...  \n",
       "1964776  كَم مِن أَبٍ لي يا جَريرُ كَأَنَّهُ قَمَرُ الم...  \n",
       "1964878  يا اِبنَ الشَريدِ عَلى تَنائي بَينِنا حُيِّيتَ...  \n",
       "1964879  فَكِهٌ عَلى خَيرِ الغِذاءِ إِذا غَدَت شَهباءُ ...  \n",
       "1964880  أَرِجُ العِطافِ مُهَفهَفٌ نِعمَ الفَتى مُتَسَه...  \n",
       "1964881  حامي الحَقيقِ تَخالُهُ عِندَ الوَغى أَسَداً بِ...  \n",
       "1964882  أَسَداً تَناذَرَهُ الرِفاقُ ضُبارِماً شَثنَ ال...  \n",
       "1964883  فَلَئِن هَلَكتَ لَقَد غَنيتَ سَمَيذَعاً مَحضَ ...  \n",
       "1964884  ضَخمَ الدَسيعَةِ بِالنَدى مُتَدَفِّقاً مَأوى ا...  \n",
       "1990369  وَقَد أَتَناسى الهَمَّ عِندَ اِحتِضارِهِ بِناج...  \n",
       "1990838  وَلَلمَوتُ خَيرٌ لِلفَتى مِن حَياتِهِ إِذا لَم...  \n",
       "1990844  وَلَيسَ أَخونا عِندَ شَرٍّ يَخافُهُ وَلا عِندَ...  \n",
       "1990845  إِذا قيلَ مَن لِلمُعضِلاتِ أَجابَهُ عِظامُ الل...  \n",
       "1990853  قَدِمتَ فَأَقدَمتَ النَدى يَحمِلُ الرِضا إِلى ...  \n",
       "1995187                                  وقال أيضاً الطويل  \n",
       "2001845                                  وقال أيضاً الطويل  \n",
       "2008542  إِذاً لَأَتَتني حَيثُ كُنتُ مَنِيَّتي يَخُبُّ ...  \n",
       "2012171                                  وقال أيضاً الطويل  \n",
       "2019420  يَرى الناسُ مِنّا جِلدَ أَسوَدَ سالِخٍ وَفَروَ...  \n",
       "2025560  فَقُلتُ لَها إِنَّ البُكاءَ لَراحَةٌ بِهِ يَشت...  \n",
       "2027954                                  وقال أيضاً الطويل  \n",
       "2037411                                  وقال أيضاً الطويل  \n",
       "2037493  إِذا ضَرَبوا رَأسي وَفي الرَأسِ أَكثَري وَغودِ...  \n",
       "2046229  إِلى ظُعُنٍ كَالدَومِ فيها تَزايُلٌ وَهِزَّةُ ...  \n",
       "\n",
       "[724 rows x 8 columns]"
      ]
     },
     "execution_count": 36,
     "metadata": {},
     "output_type": "execute_result"
    }
   ],
   "source": [
    "a = Clean_Data.loc[Clean_Data['البيت'].duplicated(keep='last')]\n",
    "a[a.isnull().any(axis=1)]"
   ]
  },
  {
   "cell_type": "code",
   "execution_count": 16,
   "metadata": {},
   "outputs": [],
   "source": []
  },
  {
   "cell_type": "code",
   "execution_count": 4,
   "metadata": {},
   "outputs": [
    {
     "name": "stderr",
     "output_type": "stream",
     "text": [
      "/home/moroclash/anaconda3/lib/python3.6/site-packages/IPython/core/interactiveshell.py:2717: DtypeWarning: Columns (1,3,4) have mixed types. Specify dtype option on import or set low_memory=False.\n",
      "  interactivity=interactivity, compiler=compiler, result=result)\n",
      "/home/moroclash/anaconda3/lib/python3.6/site-packages/numpy/lib/arraysetops.py:395: FutureWarning: elementwise comparison failed; returning scalar instead, but in the future will perform elementwise comparison\n",
      "  mask |= (ar1 == a)\n"
     ]
    }
   ],
   "source": [
    "Clean_Data = pd.read_csv('../data/test.csv',encoding='utf-8',index_col=0)"
   ]
  },
  {
   "cell_type": "code",
   "execution_count": 6,
   "metadata": {},
   "outputs": [
    {
     "data": {
      "text/plain": [
       "2057843"
      ]
     },
     "execution_count": 6,
     "metadata": {},
     "output_type": "execute_result"
    }
   ],
   "source": [
    "len(Clean_Data)"
   ]
  },
  {
   "cell_type": "code",
   "execution_count": 16,
   "metadata": {
    "collapsed": true
   },
   "outputs": [],
   "source": [
    "l = pd.DataFrame({'a':[1,2,3,3],'b':[4,5,3,3],'c':[4,5,7,3]})"
   ]
  },
  {
   "cell_type": "code",
   "execution_count": 11,
   "metadata": {},
   "outputs": [],
   "source": [
    "test = Clean_Data.copy()"
   ]
  },
  {
   "cell_type": "code",
   "execution_count": 22,
   "metadata": {},
   "outputs": [
    {
     "data": {
      "text/plain": [
       "2057843"
      ]
     },
     "execution_count": 22,
     "metadata": {},
     "output_type": "execute_result"
    }
   ],
   "source": [
    "len(test)"
   ]
  },
  {
   "cell_type": "code",
   "execution_count": 23,
   "metadata": {},
   "outputs": [],
   "source": [
    "test.drop(test.loc[test['البيت'].duplicated()].index,inplace=True)"
   ]
  },
  {
   "cell_type": "code",
   "execution_count": 24,
   "metadata": {},
   "outputs": [
    {
     "data": {
      "text/plain": [
       "1862046"
      ]
     },
     "execution_count": 24,
     "metadata": {},
     "output_type": "execute_result"
    }
   ],
   "source": [
    "len(test)"
   ]
  },
  {
   "cell_type": "code",
   "execution_count": 26,
   "metadata": {},
   "outputs": [
    {
     "data": {
      "text/plain": [
       "0"
      ]
     },
     "execution_count": 26,
     "metadata": {},
     "output_type": "execute_result"
    }
   ],
   "source": [
    "test['البيت'].duplicated().sum()"
   ]
  },
  {
   "cell_type": "code",
   "execution_count": 2,
   "metadata": {},
   "outputs": [
    {
     "name": "stderr",
     "output_type": "stream",
     "text": [
      "/home/moroclash/anaconda3/lib/python3.6/site-packages/IPython/core/interactiveshell.py:2717: DtypeWarning: Columns (1,3,4) have mixed types. Specify dtype option on import or set low_memory=False.\n",
      "  interactivity=interactivity, compiler=compiler, result=result)\n",
      "/home/moroclash/anaconda3/lib/python3.6/site-packages/numpy/lib/arraysetops.py:395: FutureWarning: elementwise comparison failed; returning scalar instead, but in the future will perform elementwise comparison\n",
      "  mask |= (ar1 == a)\n"
     ]
    }
   ],
   "source": [
    "Cleae_data = pd.read_csv('../data/test.csv',encoding='utf-8',index_col=0)"
   ]
  },
  {
   "cell_type": "markdown",
   "metadata": {},
   "source": [
    "## Nan Columns "
   ]
  },
  {
   "cell_type": "code",
   "execution_count": 12,
   "metadata": {},
   "outputs": [
    {
     "data": {
      "text/plain": [
       "العصر           33350\n",
       "الشاعر              0\n",
       "الديوان         33377\n",
       "القافية         33350\n",
       "البحر               0\n",
       "الشطر الايسر    56964\n",
       "الشطر الايمن        0\n",
       "البيت               0\n",
       "dtype: int64"
      ]
     },
     "execution_count": 12,
     "metadata": {},
     "output_type": "execute_result"
    }
   ],
   "source": [
    "pd.isnull(Cleae_data).sum()"
   ]
  },
  {
   "cell_type": "code",
   "execution_count": null,
   "metadata": {},
   "outputs": [],
   "source": []
  },
  {
   "cell_type": "code",
   "execution_count": 24,
   "metadata": {},
   "outputs": [
    {
     "data": {
      "text/plain": [
       "45"
      ]
     },
     "execution_count": 24,
     "metadata": {},
     "output_type": "execute_result"
    }
   ],
   "source": []
  },
  {
   "cell_type": "code",
   "execution_count": null,
   "metadata": {
    "collapsed": true
   },
   "outputs": [],
   "source": []
  }
 ],
 "metadata": {
  "kernelspec": {
   "display_name": "Python 3",
   "language": "python",
   "name": "python3"
  },
  "language_info": {
   "codemirror_mode": {
    "name": "ipython",
    "version": 3
   },
   "file_extension": ".py",
   "mimetype": "text/x-python",
   "name": "python",
   "nbconvert_exporter": "python",
   "pygments_lexer": "ipython3",
   "version": "3.6.1"
  }
 },
 "nbformat": 4,
 "nbformat_minor": 2
}
