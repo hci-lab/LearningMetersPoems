{
 "cells": [
  {
   "cell_type": "code",
   "execution_count": null,
   "metadata": {
    "collapsed": true
   },
   "outputs": [],
   "source": [
    "import tensorflow as tf\n",
    "from sklearn.cross_validation import train_test_split\n",
    "import sys\n",
    "from sklearn.utils import shuffle\n",
    "import h5py\n",
    "import time\n",
    "import seaborn as ses\n",
    "\n",
    "from IPython import display\n",
    "import pylab as pl\n",
    "\n",
    "%matplotlib inline"
   ]
  },
  {
   "cell_type": "markdown",
   "metadata": {},
   "source": [
    "# Model of one layer LSTM\n"
   ]
  },
  {
   "cell_type": "markdown",
   "metadata": {},
   "source": [
    "### load X,Y Data from folder /Data"
   ]
  },
  {
   "cell_type": "code",
   "execution_count": null,
   "metadata": {
    "collapsed": true
   },
   "outputs": [],
   "source": [
    "def restore (nameOfFile,nameOfDataset):\n",
    "    h5f = h5py.File(nameOfFile,'r')\n",
    "    matrix = h5f[nameOfDataset][:]\n",
    "    h5f.close()\n",
    "    return matrix"
   ]
  },
  {
   "cell_type": "code",
   "execution_count": null,
   "metadata": {
    "collapsed": true
   },
   "outputs": [],
   "source": [
    "X = restore(\"Data/data_matrix_X.h5\",\"X\")\n",
    "Y = restore(\"Data/data_matrix_Y.h5\",\"Y\")\n",
    "\n",
    "x_train,x_test,y_train,y_test = train_test_split(X,Y,test_size=0.40,random_state=42)\n",
    "x_validate,x_test,y_validate,y_test = train_test_split(x_test,y_test,test_size=0.50,random_state=42)"
   ]
  },
  {
   "cell_type": "code",
   "execution_count": null,
   "metadata": {
    "collapsed": true
   },
   "outputs": [],
   "source": [
    "print(x_train.shape)\n",
    "print(y_train.shape)\n",
    "print(x_test.shape)\n",
    "print(y_test.shape)\n",
    "print(x_validate.shape)\n",
    "print(y_validate.shape)"
   ]
  },
  {
   "cell_type": "markdown",
   "metadata": {},
   "source": [
    "### model tuning parameters"
   ]
  },
  {
   "cell_type": "code",
   "execution_count": null,
   "metadata": {
    "collapsed": true
   },
   "outputs": [],
   "source": [
    "# size of input vector\n",
    "input_size = 27\n",
    "# nimber of hidden unit\n",
    "hidden_size = 80\n",
    "# number of output vector\n",
    "output_size = 2\n",
    "\n",
    "learn_rate = 0.001\n",
    "\n",
    "batch_size = 700\n",
    "epoch_number = 1200"
   ]
  },
  {
   "cell_type": "markdown",
   "metadata": {},
   "source": [
    "## Design of LSTM cell"
   ]
  },
  {
   "cell_type": "code",
   "execution_count": null,
   "metadata": {
    "collapsed": true
   },
   "outputs": [],
   "source": [
    "class LstmCell(object):\n",
    "    \n",
    "    def __init__(self,input_size , hidden_size , output_size):\n",
    "        self.input_size = input_size\n",
    "        self.hidden_size = hidden_size\n",
    "        self.output_size = output_size\n",
    "        \n",
    "        # Weights and Bias for input gate\n",
    "        self.wig = tf.Variable(tf.random_normal([self.input_size, self.hidden_size],mean=0,stddev=0.01))\n",
    "        self.uig = tf.Variable(tf.random_normal([self.hidden_size, self.hidden_size],mean=0,stddev=0.01))\n",
    "        self.big = tf.Variable(tf.ones([self.hidden_size]))\n",
    "\n",
    "        # Weights and Bias for forget gate\n",
    "        self.wfg = tf.Variable(tf.random_normal([self.input_size, self.hidden_size],mean=0,stddev=0.01))\n",
    "        self.ufg = tf.Variable(tf.random_normal([self.hidden_size, self.hidden_size],mean=0,stddev=0.01))\n",
    "        self.bfg = tf.Variable(tf.ones([self.hidden_size]))                \n",
    "        \n",
    "        # Weights and Bias for output gate\n",
    "        self.wog = tf.Variable(tf.random_normal([self.input_size, self.hidden_size],mean=0,stddev=0.01))\n",
    "        self.uog = tf.Variable(tf.random_normal([self.hidden_size, self.hidden_size],mean=0,stddev=0.01))\n",
    "        self.bog = tf.Variable(tf.ones([self.hidden_size]))        \n",
    "        \n",
    "        # Weights and Bias for new memory gate\n",
    "        self.wcg = tf.Variable(tf.random_normal([self.input_size, self.hidden_size],mean=0,stddev=0.01))\n",
    "        self.ucg = tf.Variable(tf.random_normal([self.hidden_size, self.hidden_size],mean=0,stddev=0.01))\n",
    "        self.bcg = tf.Variable(tf.ones([self.hidden_size]))\n",
    "        \n",
    "        # Weights and Bias for output layer\n",
    "        self.vo = tf.Variable(tf.random_normal([self.hidden_size,output_size],mean=0,stddev=0.01))\n",
    "        self.bo = tf.Variable(tf.ones([self.output_size]))\n",
    "        \n",
    "        #define shape of input matrix \n",
    "        self.inputs_matrix = tf.placeholder(dtype=tf.float32 ,shape=[None,None,self.input_size])\n",
    "        \n",
    "        #prepare input matrix to feed model \n",
    "        # it will make matrix as [m,t,n] --> [t,m,n]\n",
    "        # t : number of time\n",
    "        # n : length of input vector\n",
    "        # m : number of sentences\n",
    "        self.feed_marix = tf.transpose(self.inputs_matrix,perm=[1,0,2])\n",
    "        \n",
    "        #prepare initial state as matrix of zerose (batch_size,hidden_size)\n",
    "        self.initial_state_ = tf.matmul(self.feed_marix[0],tf.zeros([self.input_size,self.hidden_size]))\n",
    "        self.initial_state = tf.stack([self.initial_state_,self.initial_state_])\n",
    "        \n",
    "       \n",
    "    \n",
    "    def lstm(self, previous_hidden_memory_tuple, x):\n",
    "        \"\"\"lstm cell that compute  curent state at time t using\n",
    "           previous state at t-1 and input vector x and previous memory\n",
    "    \n",
    "        Args:\n",
    "            previous_hidden_state (tuple): \n",
    "                        ( previous_memory_state at (t-1) , previous_state at (t-1) ) .\n",
    "            x (vector): input vector of char.\n",
    "\n",
    "        Returns:\n",
    "            prev_memory_and_state: tuple of \n",
    "                        ( curent_memory at time (t) , state at time (t) )\n",
    "        \"\"\"\n",
    "        \n",
    "        previous_memory,previous_hidden_state=tf.unstack(previous_hidden_memory_tuple)\n",
    "        #Input Gate\n",
    "        i= tf.sigmoid(tf.matmul(x,self.wig)+tf.matmul(previous_hidden_state,self.uig) + self.big)\n",
    "        #Forget Gate\n",
    "        f= tf.sigmoid(tf.matmul(x,self.wfg)+tf.matmul(previous_hidden_state,self.ufg) + self.bfg)\n",
    "        #Output Gate\n",
    "        o= tf.sigmoid(tf.matmul(x,self.wog)+tf.matmul(previous_hidden_state,self.uog) + self.bog)\n",
    "        #New Memory Cell\n",
    "        c_= tf.nn.tanh(tf.matmul(x,self.wcg)+tf.matmul(previous_hidden_state,self.ucg) + self.bcg) \n",
    "        #Final Memory cell\n",
    "        c= f*previous_memory + i*c_\n",
    "        #Current Hidden state\n",
    "        current_hidden_state = o*tf.nn.tanh(c)\n",
    "        #stake previous memory and state in tuple\n",
    "        prev_memory_and_state = tf.stack([c,current_hidden_state]) \n",
    "        return prev_memory_and_state\n",
    "        \n",
    "        \n",
    "    def get_states(self):\n",
    "        \"\"\"get all state of batch_number example it accumulate \n",
    "           all states of one sentence matrix like :\n",
    "           S0 = initial_state + x0\n",
    "           S1 = S0 + x1\n",
    "           S2 = S1 + x2\n",
    "                .\n",
    "                .\n",
    "           Sn = Sn-1 + xn\n",
    "           \n",
    "           and for batch_number\n",
    "    \n",
    "        Returns:\n",
    "            all_stats: all state of m example\n",
    "\n",
    "        Note:\n",
    "            returned matrix size (number_time_steps ,batch_number , input_size )\n",
    "        \"\"\"\n",
    "        # apply gru function on all matrix of all batch like\n",
    "        #   state_0 =  gru(initial_state,feed_marix[0])\n",
    "        #   state_1 =  gru(state_0,feed_matrix[1])\n",
    "        all_stats = tf.scan(self.lstm,self.feed_marix,self.initial_state,name=\"stats\")\n",
    "        return all_stats        \n",
    "        \n",
    "    def get_output(self,hidden_stat):\n",
    "        \"\"\"apply the hidden_state on RELU activation \n",
    "           function to compute output\n",
    "        \n",
    "        Args:\n",
    "            hidden_stat (tuple): (memory at time t, state at time t)\n",
    "        \n",
    "        Returns:\n",
    "            output: output matrix\n",
    "\n",
    "        Note:\n",
    "            returned matrix size (batch_number , output_size )\n",
    "        \"\"\"\n",
    "        hide_memory,hide_state = tf.unstack(hidden_stat)\n",
    "        output = tf.nn.relu(tf.matmul(hide_state,self.vo)+self.bo)\n",
    "        return output\n",
    "    \n",
    "        \n",
    "    def get_outputs(self):\n",
    "        \"\"\"get all output for all states\n",
    "    \n",
    "        Returns:\n",
    "            all_outputs: output matrix for all state  \n",
    "\n",
    "        Note:\n",
    "            returned matrix size (state_numbers , batch_number , output_size )\n",
    "        \"\"\"\n",
    "        #get all states for every time step \n",
    "        all_stats = self.get_states()\n",
    "        #compute output matrix for all states\n",
    "        all_outputs = tf.map_fn(self.get_output,all_stats)\n",
    "        return all_outputs"
   ]
  },
  {
   "cell_type": "markdown",
   "metadata": {},
   "source": [
    "## Define Model"
   ]
  },
  {
   "cell_type": "code",
   "execution_count": null,
   "metadata": {
    "collapsed": true
   },
   "outputs": [],
   "source": [
    "# define GruCell class\n",
    "rnn = LstmCell(hidden_size=hidden_size,input_size=input_size,output_size=output_size)\n",
    "\n",
    "#get all outputs \n",
    "outputs = rnn.get_outputs()\n",
    "\n",
    "#get last state for batch\n",
    "last_output = outputs[-1]\n",
    "\n",
    "#apply softmax on all last states\n",
    "output = tf.nn.softmax(last_output)\n",
    "\n",
    "#define shape of y\n",
    "y = tf.placeholder(tf.float32,shape=[None,output_size])\n",
    "\n",
    "#compute Cost_function \n",
    "cross_entropy = -tf.reduce_sum(y * tf.log(output))/batch_size\n",
    "\n",
    "#use AdamOptmizer to reduece error\n",
    "optmizer_step = tf.train.AdamOptimizer().minimize(cross_entropy)\n",
    "\n",
    "#compute accuracy\n",
    "correct_prediction = tf.equal(tf.argmax(y,1),tf.argmax(output,1))\n",
    "accuracy = (tf.reduce_sum(tf.cast(correct_prediction,tf.float32)))*100"
   ]
  },
  {
   "cell_type": "markdown",
   "metadata": {},
   "source": [
    "## Train Model"
   ]
  },
  {
   "cell_type": "code",
   "execution_count": null,
   "metadata": {
    "collapsed": true
   },
   "outputs": [],
   "source": [
    "sess = tf.Session()\n",
    "sess.run(tf.initialize_all_variables())"
   ]
  },
  {
   "cell_type": "code",
   "execution_count": null,
   "metadata": {
    "collapsed": true
   },
   "outputs": [],
   "source": [
    "start_time = time.time()\n",
    "loss_fig=[]\n",
    "test_accuracy_fig=[]\n",
    "train_accuracy_fig=[]\n",
    "validate_accuracy_fig=[]\n",
    "epoch_fig=[]\n",
    "\n",
    "def print_info():\n",
    "    pl.figure(figsize=(15,6))\n",
    "    pl.plot(epoch_fig,loss_fig,'b')\n",
    "    pl.plot(epoch_fig,train_accuracy_fig,'r')\n",
    "    pl.plot(epoch_fig,validate_accuracy_fig,'g')\n",
    "    pl.plot(epoch_fig,test_accuracy_fig,'y')\n",
    "    pl.show()\n",
    "\n",
    "    sys.stdout.flush()\n",
    "    print(\"\\r         Iteration:      %s \\n\" \n",
    "          \"               Loss:      %s \\n\"  \n",
    "          \"     Train-Accuracy:      %s \\n\"\n",
    "          \"  Validate-Accuracy:      %s \\n\"\n",
    "          \"      test-Accuracy:      %s \\n\"%(epoch,loss,train_accuracy,validate_acuuracy,test_acuuracy))\n",
    "    sys.stdout.flush()\n",
    "\n",
    "\n",
    "\n",
    "pl.ion() \n",
    "for epoch in range(epoch_number):\n",
    "    start = 0\n",
    "    end = batch_size\n",
    "    batchs_num = int(X.shape[0]/batch_size)\n",
    "    for i in range(batchs_num):\n",
    "        X = x_train[start:end]\n",
    "        Y = y_train[start:end]\n",
    "        start=end\n",
    "        end=end+batch_size\n",
    "        sess.run(optmizer_step,feed_dict={rnn.inputs_matrix:X,y:Y})\n",
    "    \n",
    "    loss = sess.run(cross_entropy,feed_dict={rnn.inputs_matrix:X,y:Y})*100\n",
    "    train_accuracy = sess.run(accuracy,feed_dict={rnn.inputs_matrix:x_train,y:y_train}) / len(x_train)\n",
    "    validate_acuuracy = sess.run(accuracy,feed_dict={rnn.inputs_matrix:x_validate,y:y_validate}) / len(x_validate)\n",
    "    test_acuuracy = sess.run(accuracy,feed_dict={rnn.inputs_matrix:x_test,y:y_test}) / len(x_test)\n",
    "\n",
    "    epoch_fig.append(epoch)\n",
    "    loss_fig.append(loss)\n",
    "    train_accuracy_fig.append(train_accuracy)\n",
    "    validate_accuracy_fig.append(validate_acuuracy)\n",
    "    test_accuracy_fig.append(test_acuuracy)\n",
    "    \n",
    "\n",
    "    print_info()\n",
    "    display.clear_output(wait=True)\n",
    "\n",
    "    \n",
    "print_info()\n",
    "print(\"\\n--- %s minute ---\" % ((time.time() - start_time)/60))"
   ]
  },
  {
   "cell_type": "markdown",
   "metadata": {},
   "source": [
    "## Test model "
   ]
  },
  {
   "cell_type": "code",
   "execution_count": null,
   "metadata": {
    "collapsed": true
   },
   "outputs": [],
   "source": [
    "#get all outputs of test set\n",
    "test_outputs = rnn.get_outputs()\n",
    "sess.run(test_outputs,feed_dict={rnn.inputs_matrix:x_test})\n",
    "#get last state of last time step\n",
    "last_test_output = test_outputs[-1]\n"
   ]
  },
  {
   "cell_type": "code",
   "execution_count": null,
   "metadata": {
    "collapsed": true
   },
   "outputs": [],
   "source": [
    "#apply softmax on last_test_output\n",
    "y_predict = sess.run(tf.nn.softmax(last_test_output),feed_dict={rnn.inputs_matrix:x_test})"
   ]
  },
  {
   "cell_type": "code",
   "execution_count": null,
   "metadata": {
    "collapsed": true
   },
   "outputs": [],
   "source": [
    "#compute accuracy\n",
    "correct_prediction = tf.equal(tf.argmax(y_predict,1),tf.argmax(y_test,1))\n",
    "accuracy = (tf.reduce_sum(tf.cast(correct_prediction,tf.float32))*100)/len(x_test)\n",
    "print(\"Accuracy of test set :: %s \"%(sess.run(accuracy)))\n"
   ]
  },
  {
   "cell_type": "code",
   "execution_count": null,
   "metadata": {
    "collapsed": true
   },
   "outputs": [],
   "source": [
    "num = 10\n",
    "print(y_test[num])\n",
    "print(y_predict[num])"
   ]
  }
 ],
 "metadata": {
  "kernelspec": {
   "display_name": "Python 3",
   "language": "python",
   "name": "python3"
  },
  "language_info": {
   "codemirror_mode": {
    "name": "ipython",
    "version": 3
   },
   "file_extension": ".py",
   "mimetype": "text/x-python",
   "name": "python",
   "nbconvert_exporter": "python",
   "pygments_lexer": "ipython3",
   "version": "3.6.1"
  }
 },
 "nbformat": 4,
 "nbformat_minor": 2
}
