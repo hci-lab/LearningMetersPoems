{
 "cells": [
  {
   "cell_type": "markdown",
   "metadata": {},
   "source": [
    "## 1 Ensuring that the following have different unicodes"
   ]
  },
  {
   "cell_type": "code",
   "execution_count": 22,
   "metadata": {},
   "outputs": [
    {
     "name": "stdout",
     "output_type": "stream",
     "text": [
      "b'\\xd8\\xa6'\n",
      "b'\\xd9\\x8a'\n",
      "b'\\xd9\\x89'\n",
      "\n",
      "\n",
      "b'\\xd8\\xa1'\n",
      "b'\\xd8\\xa3'\n",
      "b'\\xd8\\xa5'\n",
      "b'\\xd9\\xb1'\n",
      "b'\\xd8\\xa2'\n",
      "\n",
      "\n",
      "b'\\xd9\\x88'\n",
      "b'\\xd8\\xa4'\n"
     ]
    }
   ],
   "source": [
    "# * ever letter has its own unicode.\n",
    "print('ئ'.encode())\n",
    "print('ي'.encode())\n",
    "print('ى'.encode())\n",
    "\n",
    "print('\\n')\n",
    "\n",
    "print('ء'.encode())\n",
    "print('أ'.encode())\n",
    "print('إ'.encode())\n",
    "print('ٱ'.encode()) # ألف بعلامة الوصل\n",
    "print('آ'.encode()) # ألف مد\n",
    "\n",
    "print('\\n')\n",
    "\n",
    "print('و'.encode())\n",
    "print('ؤ'.encode())"
   ]
  },
  {
   "cell_type": "code",
   "execution_count": 14,
   "metadata": {},
   "outputs": [
    {
     "name": "stdout",
     "output_type": "stream",
     "text": [
      "are not equal :D\n"
     ]
    }
   ],
   "source": [
    "if 'ئ' == 'ي':\n",
    "    print('are equal')\n",
    "else:\n",
    "    print('are not equal :D')"
   ]
  },
  {
   "cell_type": "markdown",
   "metadata": {},
   "source": [
    "## 2 PyArabic\n",
    "Using `python3` "
   ]
  },
  {
   "cell_type": "code",
   "execution_count": 27,
   "metadata": {
    "collapsed": true
   },
   "outputs": [],
   "source": [
    "# Importing PyArabic\n",
    "import pyarabic.araby as arabic"
   ]
  },
  {
   "cell_type": "markdown",
   "metadata": {},
   "source": [
    "### Useful functions"
   ]
  },
  {
   "cell_type": "code",
   "execution_count": 73,
   "metadata": {},
   "outputs": [
    {
     "name": "stdout",
     "output_type": "stream",
     "text": [
      "1 وخفض العرض لوذ فاسمعونا\n",
      "2 لهنّ مصنّفا\n",
      "3 إن ربكم الله\n",
      "4 الحَمْد\n",
      "5 شَدَةٌ شَدَةٌ\n",
      "6 سءل ءحد الءءمة\n",
      "7 ءءن\n"
     ]
    }
   ],
   "source": [
    "# coding: utf-8 \n",
    "x0 = 'وخَفْضِ العَرْضِ لَوْذٌ فَاسْمَعونا'\n",
    "\n",
    "# اختزال التشكيل كله\n",
    "print(\"1 \" +  arabic.strip_tashkeel(x0))\n",
    "# اختزال التشكيل عدا الشدة\n",
    "print(\"2 \" + arabic.strip_harakat(\"لَهُنّ مُصَنِّفًا\"))\n",
    "# اختزال التطويل\n",
    "print(\"3 \" + arabic.strip_tatweel(\"إن ربـــكم اللـــــه\")) \n",
    "# اختزال تشكيل اخر حرف من كلمة\n",
    "print(\"4 \" + arabic.strip_lastharaka(\"الحَمْدُ\")) \n",
    "# اختزال الشدات \n",
    "print(\"5 \" + arabic.strip_shadda(\"شَدَّةٌ شَدَّةٌ\"))\n",
    "# توحيد الهمزات\n",
    "print(\"6 \" + arabic.normalize_hamza(\"سئل أحد الأئمة\"))  \n",
    "# المد بهمزتين في التوحيد\n",
    "print(\"7 \" + arabic.normalize_hamza(\"آن\"))\n"
   ]
  }
 ],
 "metadata": {
  "kernelspec": {
   "display_name": "Python 3",
   "language": "python",
   "name": "python3"
  },
  "language_info": {
   "codemirror_mode": {
    "name": "ipython",
    "version": 3
   },
   "file_extension": ".py",
   "mimetype": "text/x-python",
   "name": "python",
   "nbconvert_exporter": "python",
   "pygments_lexer": "ipython3",
   "version": "3.5.2"
  }
 },
 "nbformat": 4,
 "nbformat_minor": 2
}
