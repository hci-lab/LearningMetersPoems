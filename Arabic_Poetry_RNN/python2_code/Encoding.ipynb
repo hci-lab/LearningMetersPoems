{
 "cells": [
  {
   "cell_type": "code",
   "execution_count": 11,
   "metadata": {},
   "outputs": [],
   "source": [
    "import pandas as pd\n",
    "import arabic\n",
    "import pyarabic\n",
    "import helpers\n",
    "from sklearn.preprocessing import LabelEncoder, OneHotEncoder\n",
    "#########################\n",
    "from numpy import array, argmax\n",
    "import numpy as np\n",
    "import re\n",
    "##########################"
   ]
  },
  {
   "cell_type": "code",
   "execution_count": 46,
   "metadata": {},
   "outputs": [],
   "source": [
    "old_data_flag = 1 # 1 only if old data, 0 otherwise"
   ]
  },
  {
   "cell_type": "code",
   "execution_count": 47,
   "metadata": {},
   "outputs": [
    {
     "name": "stdout",
     "output_type": "stream",
     "text": [
      "working into old data sample \n"
     ]
    }
   ],
   "source": [
    "if (old_data_flag == 1):\n",
    "    data = pd.read_csv('All_OldData_cleaned.csv',encoding='utf-8', index_col=0)\n",
    "    print(\"working into old data sample \")\n",
    "    cols = [1,2,4]\n",
    "    data.drop(data.columns[cols], axis=1,inplace=True)\n",
    "    data.columns = [u'البيت',u'البحر']\n",
    "    our_alphabets = \"\".join(arabic.alphabet) + \"\".join(arabic.tashkeel)+\" \"\n",
    "    our_alphabets = \"\".join(our_alphabets)\n",
    "    data[u'البيت'] = data[u'البيت'].apply(lambda x: re.sub(u'(^'+our_alphabets+')',u'',x)).apply(lambda x: re.sub(u'  *',u\" \",x)).apply(lambda x: re.sub(u'ّ+', u'ّ', x)).apply(lambda x: x.strip())\n",
    "    data[u'البيت'] = data[u'البيت'].apply(pyarabic.araby.strip_tashkeel).apply(pyarabic.araby.strip_tatweel)\n",
    "elif (old_data_flag == 0):\n",
    "    print(\"working on new data sample\")\n",
    "    data = pd.read_csv('All_NewData_cleaned.csv', encoding='utf-8',index_col=0)\n",
    "    bahr = u'البحر'\n",
    "    bayt = u'البيت'\n",
    "    data  = data[[bayt, bahr]]\n",
    "    our_alphabets = \"\".join(arabic.alphabet) + \"\".join(arabic.tashkeel)+\" \"\n",
    "    our_alphabets = \"\".join(our_alphabets)\n",
    "    data[u'البيت'] = data[u'البيت'].apply(lambda x: re.sub(u'(^'+our_alphabets+')',u'',x)).apply(lambda x: re.sub(u'  *',u\" \",x)).apply(lambda x: re.sub(u'ّ+', u'ّ', x)).apply(lambda x: x.strip())\n",
    "    data[u'البيت'] = data[u'البيت'].apply(pyarabic.araby.strip_tashkeel).apply(pyarabic.araby.strip_tatweel)"
   ]
  },
  {
   "cell_type": "code",
   "execution_count": 48,
   "metadata": {},
   "outputs": [
    {
     "data": {
      "text/plain": [
       "Index([u'العصر', u'الشاعر', u'الديوان', u'القافية', u'البحر', u'الشطر الايسر',\n",
       "       u'الشطر الايمن', u'البيت'],\n",
       "      dtype='object')"
      ]
     },
     "execution_count": 48,
     "metadata": {},
     "output_type": "execute_result"
    }
   ],
   "source": [
    "data.columns"
   ]
  },
  {
   "cell_type": "code",
   "execution_count": 49,
   "metadata": {},
   "outputs": [
    {
     "data": {
      "text/plain": [
       "(1000, 2)"
      ]
     },
     "execution_count": 49,
     "metadata": {},
     "output_type": "execute_result"
    }
   ],
   "source": [
    "bahr = u'البحر'\n",
    "bayt = u'البيت'\n",
    "data  = data[[bayt, bahr]]\n",
    "data.shape"
   ]
  },
  {
   "cell_type": "code",
   "execution_count": 50,
   "metadata": {},
   "outputs": [
    {
     "data": {
      "text/plain": [
       "الطويل      291\n",
       "الوافر      208\n",
       "المتقارب    158\n",
       "الكامل      146\n",
       "البسيط      101\n",
       "الخفيف       50\n",
       "الرجز        13\n",
       "السريع       13\n",
       "المنسرح      11\n",
       "الرمل         9\n",
       "Name: البحر, dtype: int64"
      ]
     },
     "execution_count": 50,
     "metadata": {},
     "output_type": "execute_result"
    }
   ],
   "source": [
    "data.iloc[:, 1].value_counts()"
   ]
  },
  {
   "cell_type": "markdown",
   "metadata": {},
   "source": [
    "# Getting Unique Bohor"
   ]
  },
  {
   "cell_type": "code",
   "execution_count": 53,
   "metadata": {},
   "outputs": [
    {
     "name": "stdout",
     "output_type": "stream",
     "text": [
      "الطويل\n",
      "المنسرح\n",
      "المتقارب\n",
      "الخفيف\n",
      "الكامل\n",
      "السريع\n",
      "الوافر\n",
      "الرجز\n",
      "البسيط\n",
      "الرمل\n"
     ]
    }
   ],
   "source": [
    "classic_bohor = list(data[u'البحر'].unique()[0:11])\n",
    "for i in classic_bohor:\n",
    "    print i"
   ]
  },
  {
   "cell_type": "markdown",
   "metadata": {},
   "source": [
    "# Filtering Data"
   ]
  },
  {
   "cell_type": "code",
   "execution_count": 67,
   "metadata": {},
   "outputs": [
    {
     "data": {
      "text/html": [
       "<div>\n",
       "<style scoped>\n",
       "    .dataframe tbody tr th:only-of-type {\n",
       "        vertical-align: middle;\n",
       "    }\n",
       "\n",
       "    .dataframe tbody tr th {\n",
       "        vertical-align: top;\n",
       "    }\n",
       "\n",
       "    .dataframe thead th {\n",
       "        text-align: right;\n",
       "    }\n",
       "</style>\n",
       "<table border=\"1\" class=\"dataframe\">\n",
       "  <thead>\n",
       "    <tr style=\"text-align: right;\">\n",
       "      <th></th>\n",
       "      <th>البيت</th>\n",
       "      <th>البحر</th>\n",
       "    </tr>\n",
       "  </thead>\n",
       "  <tbody>\n",
       "    <tr>\n",
       "      <th>0</th>\n",
       "      <td>خليلي لا تستعجلا أن تزودا وأن تجمعا شملي وتنتظ...</td>\n",
       "      <td>الطويل</td>\n",
       "    </tr>\n",
       "    <tr>\n",
       "      <th>1</th>\n",
       "      <td>فما لبث يوما بسابق مغنم ولا سرعتي يوما بسابقة ...</td>\n",
       "      <td>الطويل</td>\n",
       "    </tr>\n",
       "    <tr>\n",
       "      <th>2</th>\n",
       "      <td>وإن تنظراني اليوم أقض لبانة وتستوجبا منا علي و...</td>\n",
       "      <td>الطويل</td>\n",
       "    </tr>\n",
       "    <tr>\n",
       "      <th>3</th>\n",
       "      <td>لعمرك ما نفس بجد رشيدة تؤامرني سرا لأصرم مرثدا</td>\n",
       "      <td>الطويل</td>\n",
       "    </tr>\n",
       "    <tr>\n",
       "      <th>4</th>\n",
       "      <td>وإن ظهرت منه قوارص جمة وأفرع في لومي مرارا وأصعدا</td>\n",
       "      <td>الطويل</td>\n",
       "    </tr>\n",
       "    <tr>\n",
       "      <th>5</th>\n",
       "      <td>على غير ذنب أن أكون جنيته سوى قول باغ كادني فت...</td>\n",
       "      <td>الطويل</td>\n",
       "    </tr>\n",
       "    <tr>\n",
       "      <th>6</th>\n",
       "      <td>لعمري لنعم المرء تدعو بحبله إذا ما المنادي في ...</td>\n",
       "      <td>الطويل</td>\n",
       "    </tr>\n",
       "    <tr>\n",
       "      <th>7</th>\n",
       "      <td>عظيم رماد القدر لا متعبس ولا مؤيس منها إذا هو ...</td>\n",
       "      <td>الطويل</td>\n",
       "    </tr>\n",
       "    <tr>\n",
       "      <th>8</th>\n",
       "      <td>وإن صرحت كحل وهبت عرية من الريح لم تترك لذي ال...</td>\n",
       "      <td>الطويل</td>\n",
       "    </tr>\n",
       "    <tr>\n",
       "      <th>9</th>\n",
       "      <td>صبرت على وطء الموالي وحطمهم إذا ضن ذو القربى ع...</td>\n",
       "      <td>الطويل</td>\n",
       "    </tr>\n",
       "    <tr>\n",
       "      <th>10</th>\n",
       "      <td>ولم يحم فرج الحي إلا محافظ كريم المحيا ماجد غي...</td>\n",
       "      <td>الطويل</td>\n",
       "    </tr>\n",
       "    <tr>\n",
       "      <th>11</th>\n",
       "      <td>أرى جارتي خفت وخف نصيحها وحب بها لولا النوى وط...</td>\n",
       "      <td>الطويل</td>\n",
       "    </tr>\n",
       "    <tr>\n",
       "      <th>12</th>\n",
       "      <td>فبيني على نجم شخيس نحوسه وأشأم طير الزاجرين سن...</td>\n",
       "      <td>الطويل</td>\n",
       "    </tr>\n",
       "    <tr>\n",
       "      <th>13</th>\n",
       "      <td>فإن تشغبي فالشغب مني سجية إذا شيمتي لم يؤت منه...</td>\n",
       "      <td>الطويل</td>\n",
       "    </tr>\n",
       "    <tr>\n",
       "      <th>14</th>\n",
       "      <td>أقارض أقواما فأوفي قروضهم وعف إذا أردى النفوس ...</td>\n",
       "      <td>الطويل</td>\n",
       "    </tr>\n",
       "    <tr>\n",
       "      <th>15</th>\n",
       "      <td>على أن قومي أشقذوني فأصبحت دياري بأرض غير دان ...</td>\n",
       "      <td>الطويل</td>\n",
       "    </tr>\n",
       "    <tr>\n",
       "      <th>16</th>\n",
       "      <td>تنفذ منهم نافذات فسؤنني وأضمر أضغانا علي كشوحها</td>\n",
       "      <td>الطويل</td>\n",
       "    </tr>\n",
       "    <tr>\n",
       "      <th>17</th>\n",
       "      <td>فقلت فراق الدار أجمل بيننا وقد ينتئي عن دار سو...</td>\n",
       "      <td>الطويل</td>\n",
       "    </tr>\n",
       "    <tr>\n",
       "      <th>18</th>\n",
       "      <td>على أنني قد أدعي بأبيهم إذا عمت الدعوى وثاب صر...</td>\n",
       "      <td>الطويل</td>\n",
       "    </tr>\n",
       "    <tr>\n",
       "      <th>19</th>\n",
       "      <td>وأني أرى ديني يوافق دينهم إذا نسكوا أفراعها وذ...</td>\n",
       "      <td>الطويل</td>\n",
       "    </tr>\n",
       "    <tr>\n",
       "      <th>20</th>\n",
       "      <td>ومنزلة بالحج أخرى عرفتها لها بقعة لا يستطاع بر...</td>\n",
       "      <td>الطويل</td>\n",
       "    </tr>\n",
       "    <tr>\n",
       "      <th>21</th>\n",
       "      <td>بودك ما قومي على أن تركتهم سليمى إذا هبت شمال ...</td>\n",
       "      <td>الطويل</td>\n",
       "    </tr>\n",
       "    <tr>\n",
       "      <th>22</th>\n",
       "      <td>إذا النجم أمسى مغرب الشمس رائبا ولم يك برق في ...</td>\n",
       "      <td>الطويل</td>\n",
       "    </tr>\n",
       "    <tr>\n",
       "      <th>23</th>\n",
       "      <td>وغاب شعاع الشمس في غير جلبة ولا غمرة إلا وشيكا...</td>\n",
       "      <td>الطويل</td>\n",
       "    </tr>\n",
       "    <tr>\n",
       "      <th>24</th>\n",
       "      <td>وهاج عماء مقشعر كأنه نقيلة نعل بان منها سريحها</td>\n",
       "      <td>الطويل</td>\n",
       "    </tr>\n",
       "    <tr>\n",
       "      <th>25</th>\n",
       "      <td>إذا عدم المحلوب عادت عليهم قدور كثير في القصاع...</td>\n",
       "      <td>الطويل</td>\n",
       "    </tr>\n",
       "    <tr>\n",
       "      <th>26</th>\n",
       "      <td>يثوب إليها كل ضيف وجانب كما رد دهداه القلاص نض...</td>\n",
       "      <td>الطويل</td>\n",
       "    </tr>\n",
       "    <tr>\n",
       "      <th>27</th>\n",
       "      <td>بأيديهم مقرومة ومغالق يعود بأرزاق العيال منيحها</td>\n",
       "      <td>الطويل</td>\n",
       "    </tr>\n",
       "    <tr>\n",
       "      <th>28</th>\n",
       "      <td>وملمومة لا يخرق الطرف عرضها لها كوكب فخم شديد ...</td>\n",
       "      <td>الطويل</td>\n",
       "    </tr>\n",
       "    <tr>\n",
       "      <th>29</th>\n",
       "      <td>تسير وتزجي السم تحت نحورها كريه إلى من فاجأته ...</td>\n",
       "      <td>الطويل</td>\n",
       "    </tr>\n",
       "    <tr>\n",
       "      <th>...</th>\n",
       "      <td>...</td>\n",
       "      <td>...</td>\n",
       "    </tr>\n",
       "    <tr>\n",
       "      <th>970</th>\n",
       "      <td>أناس إذا لاقوا عدى فكأنما سلاح الذي لاقوا غبار...</td>\n",
       "      <td>الطويل</td>\n",
       "    </tr>\n",
       "    <tr>\n",
       "      <th>971</th>\n",
       "      <td>رموا بنواصيها القسي فجئنها دوامي الهوادي سالما...</td>\n",
       "      <td>الطويل</td>\n",
       "    </tr>\n",
       "    <tr>\n",
       "      <th>972</th>\n",
       "      <td>أولئك أحلى من حياة معادة وأكثر ذكرا من دهور ال...</td>\n",
       "      <td>الطويل</td>\n",
       "    </tr>\n",
       "    <tr>\n",
       "      <th>973</th>\n",
       "      <td>نصرت عليا يا ابنه ببواتر من الفعل لا فل لها في...</td>\n",
       "      <td>الطويل</td>\n",
       "    </tr>\n",
       "    <tr>\n",
       "      <th>974</th>\n",
       "      <td>وأبهر آيات التهامي أنه أبوك وأجدى مالكم من مناقب</td>\n",
       "      <td>الطويل</td>\n",
       "    </tr>\n",
       "    <tr>\n",
       "      <th>975</th>\n",
       "      <td>إذا لم تكن نفس النسيب كأصله فماذا الذي تغني كر...</td>\n",
       "      <td>الطويل</td>\n",
       "    </tr>\n",
       "    <tr>\n",
       "      <th>976</th>\n",
       "      <td>وما قربت أشباه قوم أباعد ولا بعدت أشباه قوم أقارب</td>\n",
       "      <td>الطويل</td>\n",
       "    </tr>\n",
       "    <tr>\n",
       "      <th>977</th>\n",
       "      <td>إذا علوي لم يكن مثل طاهر فما هو إلا حجة للنواصب</td>\n",
       "      <td>الطويل</td>\n",
       "    </tr>\n",
       "    <tr>\n",
       "      <th>978</th>\n",
       "      <td>يقولون تأثير الكواكب في الورى فما باله تأثيره ...</td>\n",
       "      <td>الطويل</td>\n",
       "    </tr>\n",
       "    <tr>\n",
       "      <th>979</th>\n",
       "      <td>علا كتد الدنيا إلى كل غاية تسير به سير الذلول ...</td>\n",
       "      <td>الطويل</td>\n",
       "    </tr>\n",
       "    <tr>\n",
       "      <th>980</th>\n",
       "      <td>وحق له أن يسبق الناس جالسا ويدرك مالم يدركوا غ...</td>\n",
       "      <td>الطويل</td>\n",
       "    </tr>\n",
       "    <tr>\n",
       "      <th>981</th>\n",
       "      <td>ويحذى عرانين الملوك وإنها لمن قدميه في أجل الم...</td>\n",
       "      <td>الطويل</td>\n",
       "    </tr>\n",
       "    <tr>\n",
       "      <th>982</th>\n",
       "      <td>يد للزمان الجمع بيني وبينه لتفريقه بيني وبين ا...</td>\n",
       "      <td>الطويل</td>\n",
       "    </tr>\n",
       "    <tr>\n",
       "      <th>983</th>\n",
       "      <td>هو ابن رسول الله وابن وصيه وشبههما شبهت بعد ال...</td>\n",
       "      <td>الطويل</td>\n",
       "    </tr>\n",
       "    <tr>\n",
       "      <th>984</th>\n",
       "      <td>يرى أن ما ما بان منك لضارب بأقتل مما بان منك ل...</td>\n",
       "      <td>الطويل</td>\n",
       "    </tr>\n",
       "    <tr>\n",
       "      <th>985</th>\n",
       "      <td>ألا أيها المال الذي قد أباده تعز فهذا فعله في ...</td>\n",
       "      <td>الطويل</td>\n",
       "    </tr>\n",
       "    <tr>\n",
       "      <th>986</th>\n",
       "      <td>لعلك في وقت شغلت فؤاده عن الجود أو كثرت جيش محارب</td>\n",
       "      <td>الطويل</td>\n",
       "    </tr>\n",
       "    <tr>\n",
       "      <th>987</th>\n",
       "      <td>حملت إليه من لساني حديقة سقاها الحجى سقي الريا...</td>\n",
       "      <td>الطويل</td>\n",
       "    </tr>\n",
       "    <tr>\n",
       "      <th>988</th>\n",
       "      <td>فحييت خير ابن لخير أب بها لأشرف بيت في لؤي بن ...</td>\n",
       "      <td>الطويل</td>\n",
       "    </tr>\n",
       "    <tr>\n",
       "      <th>989</th>\n",
       "      <td>من الجآذر في زي الأعاريب حمر الحلى والمطايا وا...</td>\n",
       "      <td>البسيط</td>\n",
       "    </tr>\n",
       "    <tr>\n",
       "      <th>990</th>\n",
       "      <td>إن كنت تسأل شكا في معارفها فمن بلاك بتسهيد وتعذيب</td>\n",
       "      <td>البسيط</td>\n",
       "    </tr>\n",
       "    <tr>\n",
       "      <th>991</th>\n",
       "      <td>لا تجزني بضنا بي بعدها بقر تجزي دموعي مسكوبا ب...</td>\n",
       "      <td>البسيط</td>\n",
       "    </tr>\n",
       "    <tr>\n",
       "      <th>992</th>\n",
       "      <td>سوائر ربما سارت هوادجها منيعة بين مطعون ومضروب</td>\n",
       "      <td>البسيط</td>\n",
       "    </tr>\n",
       "    <tr>\n",
       "      <th>993</th>\n",
       "      <td>وربما وخدت أيدي المطي بها على نجيع من الفرسان ...</td>\n",
       "      <td>البسيط</td>\n",
       "    </tr>\n",
       "    <tr>\n",
       "      <th>994</th>\n",
       "      <td>كم زورة لك في الأعراب خافية أدهى وقد رقدوا من ...</td>\n",
       "      <td>البسيط</td>\n",
       "    </tr>\n",
       "    <tr>\n",
       "      <th>995</th>\n",
       "      <td>أزورهم وسواد الليل يشفع لي وأنثني وبياض الصبح ...</td>\n",
       "      <td>البسيط</td>\n",
       "    </tr>\n",
       "    <tr>\n",
       "      <th>996</th>\n",
       "      <td>قد وافقوا الوحش في سكنى مراتعها وخالفوها بتقوي...</td>\n",
       "      <td>البسيط</td>\n",
       "    </tr>\n",
       "    <tr>\n",
       "      <th>997</th>\n",
       "      <td>جيرانها وهم شر الجوار لها وصحبها وهم شر الأصاحيب</td>\n",
       "      <td>البسيط</td>\n",
       "    </tr>\n",
       "    <tr>\n",
       "      <th>998</th>\n",
       "      <td>فؤاد كل محب في بيوتهم ومال كل أخيذ المال محروب</td>\n",
       "      <td>البسيط</td>\n",
       "    </tr>\n",
       "    <tr>\n",
       "      <th>999</th>\n",
       "      <td>ما أوجه الحضر المستحسنات به كأوجه البدويات الر...</td>\n",
       "      <td>البسيط</td>\n",
       "    </tr>\n",
       "  </tbody>\n",
       "</table>\n",
       "<p>1000 rows × 2 columns</p>\n",
       "</div>"
      ],
      "text/plain": [
       "                                                 البيت   البحر\n",
       "0    خليلي لا تستعجلا أن تزودا وأن تجمعا شملي وتنتظ...  الطويل\n",
       "1    فما لبث يوما بسابق مغنم ولا سرعتي يوما بسابقة ...  الطويل\n",
       "2    وإن تنظراني اليوم أقض لبانة وتستوجبا منا علي و...  الطويل\n",
       "3       لعمرك ما نفس بجد رشيدة تؤامرني سرا لأصرم مرثدا  الطويل\n",
       "4    وإن ظهرت منه قوارص جمة وأفرع في لومي مرارا وأصعدا  الطويل\n",
       "5    على غير ذنب أن أكون جنيته سوى قول باغ كادني فت...  الطويل\n",
       "6    لعمري لنعم المرء تدعو بحبله إذا ما المنادي في ...  الطويل\n",
       "7    عظيم رماد القدر لا متعبس ولا مؤيس منها إذا هو ...  الطويل\n",
       "8    وإن صرحت كحل وهبت عرية من الريح لم تترك لذي ال...  الطويل\n",
       "9    صبرت على وطء الموالي وحطمهم إذا ضن ذو القربى ع...  الطويل\n",
       "10   ولم يحم فرج الحي إلا محافظ كريم المحيا ماجد غي...  الطويل\n",
       "11   أرى جارتي خفت وخف نصيحها وحب بها لولا النوى وط...  الطويل\n",
       "12   فبيني على نجم شخيس نحوسه وأشأم طير الزاجرين سن...  الطويل\n",
       "13   فإن تشغبي فالشغب مني سجية إذا شيمتي لم يؤت منه...  الطويل\n",
       "14   أقارض أقواما فأوفي قروضهم وعف إذا أردى النفوس ...  الطويل\n",
       "15   على أن قومي أشقذوني فأصبحت دياري بأرض غير دان ...  الطويل\n",
       "16     تنفذ منهم نافذات فسؤنني وأضمر أضغانا علي كشوحها  الطويل\n",
       "17   فقلت فراق الدار أجمل بيننا وقد ينتئي عن دار سو...  الطويل\n",
       "18   على أنني قد أدعي بأبيهم إذا عمت الدعوى وثاب صر...  الطويل\n",
       "19   وأني أرى ديني يوافق دينهم إذا نسكوا أفراعها وذ...  الطويل\n",
       "20   ومنزلة بالحج أخرى عرفتها لها بقعة لا يستطاع بر...  الطويل\n",
       "21   بودك ما قومي على أن تركتهم سليمى إذا هبت شمال ...  الطويل\n",
       "22   إذا النجم أمسى مغرب الشمس رائبا ولم يك برق في ...  الطويل\n",
       "23   وغاب شعاع الشمس في غير جلبة ولا غمرة إلا وشيكا...  الطويل\n",
       "24      وهاج عماء مقشعر كأنه نقيلة نعل بان منها سريحها  الطويل\n",
       "25   إذا عدم المحلوب عادت عليهم قدور كثير في القصاع...  الطويل\n",
       "26   يثوب إليها كل ضيف وجانب كما رد دهداه القلاص نض...  الطويل\n",
       "27     بأيديهم مقرومة ومغالق يعود بأرزاق العيال منيحها  الطويل\n",
       "28   وملمومة لا يخرق الطرف عرضها لها كوكب فخم شديد ...  الطويل\n",
       "29   تسير وتزجي السم تحت نحورها كريه إلى من فاجأته ...  الطويل\n",
       "..                                                 ...     ...\n",
       "970  أناس إذا لاقوا عدى فكأنما سلاح الذي لاقوا غبار...  الطويل\n",
       "971  رموا بنواصيها القسي فجئنها دوامي الهوادي سالما...  الطويل\n",
       "972  أولئك أحلى من حياة معادة وأكثر ذكرا من دهور ال...  الطويل\n",
       "973  نصرت عليا يا ابنه ببواتر من الفعل لا فل لها في...  الطويل\n",
       "974   وأبهر آيات التهامي أنه أبوك وأجدى مالكم من مناقب  الطويل\n",
       "975  إذا لم تكن نفس النسيب كأصله فماذا الذي تغني كر...  الطويل\n",
       "976  وما قربت أشباه قوم أباعد ولا بعدت أشباه قوم أقارب  الطويل\n",
       "977    إذا علوي لم يكن مثل طاهر فما هو إلا حجة للنواصب  الطويل\n",
       "978  يقولون تأثير الكواكب في الورى فما باله تأثيره ...  الطويل\n",
       "979  علا كتد الدنيا إلى كل غاية تسير به سير الذلول ...  الطويل\n",
       "980  وحق له أن يسبق الناس جالسا ويدرك مالم يدركوا غ...  الطويل\n",
       "981  ويحذى عرانين الملوك وإنها لمن قدميه في أجل الم...  الطويل\n",
       "982  يد للزمان الجمع بيني وبينه لتفريقه بيني وبين ا...  الطويل\n",
       "983  هو ابن رسول الله وابن وصيه وشبههما شبهت بعد ال...  الطويل\n",
       "984  يرى أن ما ما بان منك لضارب بأقتل مما بان منك ل...  الطويل\n",
       "985  ألا أيها المال الذي قد أباده تعز فهذا فعله في ...  الطويل\n",
       "986  لعلك في وقت شغلت فؤاده عن الجود أو كثرت جيش محارب  الطويل\n",
       "987  حملت إليه من لساني حديقة سقاها الحجى سقي الريا...  الطويل\n",
       "988  فحييت خير ابن لخير أب بها لأشرف بيت في لؤي بن ...  الطويل\n",
       "989  من الجآذر في زي الأعاريب حمر الحلى والمطايا وا...  البسيط\n",
       "990  إن كنت تسأل شكا في معارفها فمن بلاك بتسهيد وتعذيب  البسيط\n",
       "991  لا تجزني بضنا بي بعدها بقر تجزي دموعي مسكوبا ب...  البسيط\n",
       "992     سوائر ربما سارت هوادجها منيعة بين مطعون ومضروب  البسيط\n",
       "993  وربما وخدت أيدي المطي بها على نجيع من الفرسان ...  البسيط\n",
       "994  كم زورة لك في الأعراب خافية أدهى وقد رقدوا من ...  البسيط\n",
       "995  أزورهم وسواد الليل يشفع لي وأنثني وبياض الصبح ...  البسيط\n",
       "996  قد وافقوا الوحش في سكنى مراتعها وخالفوها بتقوي...  البسيط\n",
       "997   جيرانها وهم شر الجوار لها وصحبها وهم شر الأصاحيب  البسيط\n",
       "998     فؤاد كل محب في بيوتهم ومال كل أخيذ المال محروب  البسيط\n",
       "999  ما أوجه الحضر المستحسنات به كأوجه البدويات الر...  البسيط\n",
       "\n",
       "[1000 rows x 2 columns]"
      ]
     },
     "execution_count": 67,
     "metadata": {},
     "output_type": "execute_result"
    }
   ],
   "source": [
    "# some_values = [u'البسيط',u'الخفيف',u'السريع',u'الرمل',u'الوافر',u'الكامل',u'الرجز',u'الطويل']\n",
    "# filtered_data = data.loc[data[u'البحر'].isin(some_values)]\n",
    "filtered_data = data.loc[data[u'البحر'].isin(classic_bohor)]\n",
    "filtered_data.iloc[:, 1].value_counts()\n",
    "filtered_data"
   ]
  },
  {
   "cell_type": "code",
   "execution_count": 57,
   "metadata": {},
   "outputs": [
    {
     "name": "stdout",
     "output_type": "stream",
     "text": [
      "Number of bohor : 10\n",
      "الطويل\n",
      "المنسرح\n",
      "المتقارب\n",
      "الخفيف\n",
      "الكامل\n",
      "السريع\n",
      "الوافر\n",
      "الرجز\n",
      "البسيط\n",
      "الرمل\n",
      "الطويل      291\n",
      "الوافر      208\n",
      "المتقارب    158\n",
      "الكامل      146\n",
      "البسيط      101\n",
      "الخفيف       50\n",
      "الرجز        13\n",
      "السريع       13\n",
      "المنسرح      11\n",
      "الرمل         9\n",
      "Name: البحر, dtype: int64\n"
     ]
    }
   ],
   "source": [
    "# TESTING\n",
    "print(\"Number of bohor : \"+str(len(filtered_data[u'البحر'].unique())))\n",
    "for i in filtered_data[u'البحر'].unique():\n",
    "    print(i)\n",
    "print(filtered_data.iloc[:, 1].value_counts())"
   ]
  },
  {
   "cell_type": "code",
   "execution_count": 58,
   "metadata": {},
   "outputs": [
    {
     "data": {
      "text/html": [
       "<div>\n",
       "<style scoped>\n",
       "    .dataframe tbody tr th:only-of-type {\n",
       "        vertical-align: middle;\n",
       "    }\n",
       "\n",
       "    .dataframe tbody tr th {\n",
       "        vertical-align: top;\n",
       "    }\n",
       "\n",
       "    .dataframe thead th {\n",
       "        text-align: right;\n",
       "    }\n",
       "</style>\n",
       "<table border=\"1\" class=\"dataframe\">\n",
       "  <thead>\n",
       "    <tr style=\"text-align: right;\">\n",
       "      <th></th>\n",
       "      <th>البيت</th>\n",
       "      <th>البحر</th>\n",
       "    </tr>\n",
       "  </thead>\n",
       "  <tbody>\n",
       "    <tr>\n",
       "      <th>0</th>\n",
       "      <td>خليلي لا تستعجلا أن تزودا وأن تجمعا شملي وتنتظ...</td>\n",
       "      <td>الطويل</td>\n",
       "    </tr>\n",
       "    <tr>\n",
       "      <th>1</th>\n",
       "      <td>فما لبث يوما بسابق مغنم ولا سرعتي يوما بسابقة ...</td>\n",
       "      <td>الطويل</td>\n",
       "    </tr>\n",
       "    <tr>\n",
       "      <th>2</th>\n",
       "      <td>وإن تنظراني اليوم أقض لبانة وتستوجبا منا علي و...</td>\n",
       "      <td>الطويل</td>\n",
       "    </tr>\n",
       "    <tr>\n",
       "      <th>3</th>\n",
       "      <td>لعمرك ما نفس بجد رشيدة تؤامرني سرا لأصرم مرثدا</td>\n",
       "      <td>الطويل</td>\n",
       "    </tr>\n",
       "    <tr>\n",
       "      <th>4</th>\n",
       "      <td>وإن ظهرت منه قوارص جمة وأفرع في لومي مرارا وأصعدا</td>\n",
       "      <td>الطويل</td>\n",
       "    </tr>\n",
       "    <tr>\n",
       "      <th>5</th>\n",
       "      <td>على غير ذنب أن أكون جنيته سوى قول باغ كادني فت...</td>\n",
       "      <td>الطويل</td>\n",
       "    </tr>\n",
       "    <tr>\n",
       "      <th>6</th>\n",
       "      <td>لعمري لنعم المرء تدعو بحبله إذا ما المنادي في ...</td>\n",
       "      <td>الطويل</td>\n",
       "    </tr>\n",
       "    <tr>\n",
       "      <th>7</th>\n",
       "      <td>عظيم رماد القدر لا متعبس ولا مؤيس منها إذا هو ...</td>\n",
       "      <td>الطويل</td>\n",
       "    </tr>\n",
       "    <tr>\n",
       "      <th>8</th>\n",
       "      <td>وإن صرحت كحل وهبت عرية من الريح لم تترك لذي ال...</td>\n",
       "      <td>الطويل</td>\n",
       "    </tr>\n",
       "    <tr>\n",
       "      <th>9</th>\n",
       "      <td>صبرت على وطء الموالي وحطمهم إذا ضن ذو القربى ع...</td>\n",
       "      <td>الطويل</td>\n",
       "    </tr>\n",
       "  </tbody>\n",
       "</table>\n",
       "</div>"
      ],
      "text/plain": [
       "                                               البيت   البحر\n",
       "0  خليلي لا تستعجلا أن تزودا وأن تجمعا شملي وتنتظ...  الطويل\n",
       "1  فما لبث يوما بسابق مغنم ولا سرعتي يوما بسابقة ...  الطويل\n",
       "2  وإن تنظراني اليوم أقض لبانة وتستوجبا منا علي و...  الطويل\n",
       "3     لعمرك ما نفس بجد رشيدة تؤامرني سرا لأصرم مرثدا  الطويل\n",
       "4  وإن ظهرت منه قوارص جمة وأفرع في لومي مرارا وأصعدا  الطويل\n",
       "5  على غير ذنب أن أكون جنيته سوى قول باغ كادني فت...  الطويل\n",
       "6  لعمري لنعم المرء تدعو بحبله إذا ما المنادي في ...  الطويل\n",
       "7  عظيم رماد القدر لا متعبس ولا مؤيس منها إذا هو ...  الطويل\n",
       "8  وإن صرحت كحل وهبت عرية من الريح لم تترك لذي ال...  الطويل\n",
       "9  صبرت على وطء الموالي وحطمهم إذا ضن ذو القربى ع...  الطويل"
      ]
     },
     "execution_count": 58,
     "metadata": {},
     "output_type": "execute_result"
    }
   ],
   "source": [
    "filtered_data[0:10]"
   ]
  },
  {
   "cell_type": "code",
   "execution_count": 59,
   "metadata": {
    "collapsed": true
   },
   "outputs": [],
   "source": [
    "filtered_data[u'البيت'] = filtered_data[u'البيت'].apply(pyarabic.araby.strip_tatweel)\n",
    "#filtered_data = filtered_data.apply(pyarabic.araby.strip_tatweel)"
   ]
  },
  {
   "cell_type": "code",
   "execution_count": 61,
   "metadata": {},
   "outputs": [
    {
     "name": "stderr",
     "output_type": "stream",
     "text": [
      "/usr/lib/python2.7/site-packages/h5py/__init__.py:36: FutureWarning: Conversion of the second argument of issubdtype from `float` to `np.floating` is deprecated. In future, it will be treated as `np.float64 == np.dtype(float).type`.\n",
      "  from ._conv import register_converters as _register_converters\n"
     ]
    }
   ],
   "source": [
    "import h5py\n",
    "\n",
    "def save(nameOfFile,nameOfDataset,dataVar):\n",
    "    h5f = h5py.File(nameOfFile, 'w')\n",
    "    h5f.create_dataset(nameOfDataset, data=dataVar)\n",
    "    h5f.close()\n"
   ]
  },
  {
   "cell_type": "markdown",
   "metadata": {},
   "source": [
    "# Encoding Bohor"
   ]
  },
  {
   "cell_type": "code",
   "execution_count": 68,
   "metadata": {
    "collapsed": true
   },
   "outputs": [],
   "source": [
    "label_encoder = LabelEncoder()\n",
    "integer_encoded = label_encoder.fit_transform(list(filtered_data[u\"البحر\"]))\n",
    "# binary encode\n",
    "onehot_encoder = OneHotEncoder(sparse=False)\n",
    "integer_encoded = integer_encoded.reshape(len(integer_encoded), 1)\n",
    "bohor_encoded = onehot_encoder.fit_transform(integer_encoded)"
   ]
  },
  {
   "cell_type": "code",
   "execution_count": 70,
   "metadata": {},
   "outputs": [
    {
     "name": "stdout",
     "output_type": "stream",
     "text": [
      "البسيط\n",
      "الخفيف\n",
      "السريع\n",
      "الرمل\n",
      "الوافر\n",
      "الكامل\n",
      "الرجز\n",
      "الطويل\n"
     ]
    }
   ],
   "source": [
    "for i in some_values:\n",
    "    print i"
   ]
  },
  {
   "cell_type": "code",
   "execution_count": 71,
   "metadata": {},
   "outputs": [
    {
     "ename": "IndexError",
     "evalue": "index 150000 is out of bounds for axis 0 with size 1000",
     "output_type": "error",
     "traceback": [
      "\u001b[0;31m---------------------------------------------------------------------------\u001b[0m",
      "\u001b[0;31mIndexError\u001b[0m                                Traceback (most recent call last)",
      "\u001b[0;32m<ipython-input-71-5c13a962e4a8>\u001b[0m in \u001b[0;36m<module>\u001b[0;34m()\u001b[0m\n\u001b[0;32m----> 1\u001b[0;31m \u001b[0mbohor_encoded\u001b[0m\u001b[0;34m[\u001b[0m\u001b[0;36m150000\u001b[0m\u001b[0;34m]\u001b[0m\u001b[0;34m\u001b[0m\u001b[0m\n\u001b[0m\u001b[1;32m      2\u001b[0m \u001b[0minteger_encoded\u001b[0m\u001b[0;34m[\u001b[0m\u001b[0;36m150000\u001b[0m\u001b[0;34m]\u001b[0m\u001b[0;34m\u001b[0m\u001b[0m\n",
      "\u001b[0;31mIndexError\u001b[0m: index 150000 is out of bounds for axis 0 with size 1000"
     ]
    }
   ],
   "source": [
    "bohor_encoded[150000]\n",
    "integer_encoded[150000]"
   ]
  },
  {
   "cell_type": "code",
   "execution_count": null,
   "metadata": {
    "collapsed": true
   },
   "outputs": [],
   "source": [
    "filtered_data.iloc[150000]"
   ]
  },
  {
   "cell_type": "code",
   "execution_count": 72,
   "metadata": {},
   "outputs": [
    {
     "name": "stdout",
     "output_type": "stream",
     "text": [
      "(1000, 10)\n",
      "[[0. 0. 0. ... 0. 0. 0.]\n",
      " [0. 0. 0. ... 0. 0. 0.]\n",
      " [0. 0. 0. ... 0. 0. 0.]\n",
      " ...\n",
      " [1. 0. 0. ... 0. 0. 0.]\n",
      " [1. 0. 0. ... 0. 0. 0.]\n",
      " [1. 0. 0. ... 0. 0. 0.]]\n"
     ]
    },
    {
     "data": {
      "text/plain": [
       "numpy.ndarray"
      ]
     },
     "execution_count": 72,
     "metadata": {},
     "output_type": "execute_result"
    }
   ],
   "source": [
    "print(bohor_encoded.shape)\n",
    "print(bohor_encoded)\n",
    "#save('Y_Meters_Without_LowerClasses_OldData.h5', 'Y', bohor_encoded)\n",
    "\n",
    "type(bohor_encoded)"
   ]
  },
  {
   "cell_type": "markdown",
   "metadata": {},
   "source": [
    "# Encoding Abyat"
   ]
  },
  {
   "cell_type": "code",
   "execution_count": 73,
   "metadata": {
    "collapsed": true
   },
   "outputs": [],
   "source": [
    "#data_without_Tashkeel = filtered_data['البيت'].apply(pyarabic.araby.strip_tashkeel)\n",
    "data_with_Tashkeel = filtered_data[u'البيت']"
   ]
  },
  {
   "cell_type": "code",
   "execution_count": 74,
   "metadata": {},
   "outputs": [
    {
     "data": {
      "text/plain": [
       "0      خليلي لا تستعجلا أن تزودا وأن تجمعا شملي وتنتظ...\n",
       "1      فما لبث يوما بسابق مغنم ولا سرعتي يوما بسابقة ...\n",
       "2      وإن تنظراني اليوم أقض لبانة وتستوجبا منا علي و...\n",
       "3         لعمرك ما نفس بجد رشيدة تؤامرني سرا لأصرم مرثدا\n",
       "4      وإن ظهرت منه قوارص جمة وأفرع في لومي مرارا وأصعدا\n",
       "5      على غير ذنب أن أكون جنيته سوى قول باغ كادني فت...\n",
       "6      لعمري لنعم المرء تدعو بحبله إذا ما المنادي في ...\n",
       "7      عظيم رماد القدر لا متعبس ولا مؤيس منها إذا هو ...\n",
       "8      وإن صرحت كحل وهبت عرية من الريح لم تترك لذي ال...\n",
       "9      صبرت على وطء الموالي وحطمهم إذا ضن ذو القربى ع...\n",
       "10     ولم يحم فرج الحي إلا محافظ كريم المحيا ماجد غي...\n",
       "11     أرى جارتي خفت وخف نصيحها وحب بها لولا النوى وط...\n",
       "12     فبيني على نجم شخيس نحوسه وأشأم طير الزاجرين سن...\n",
       "13     فإن تشغبي فالشغب مني سجية إذا شيمتي لم يؤت منه...\n",
       "14     أقارض أقواما فأوفي قروضهم وعف إذا أردى النفوس ...\n",
       "15     على أن قومي أشقذوني فأصبحت دياري بأرض غير دان ...\n",
       "16       تنفذ منهم نافذات فسؤنني وأضمر أضغانا علي كشوحها\n",
       "17     فقلت فراق الدار أجمل بيننا وقد ينتئي عن دار سو...\n",
       "18     على أنني قد أدعي بأبيهم إذا عمت الدعوى وثاب صر...\n",
       "19     وأني أرى ديني يوافق دينهم إذا نسكوا أفراعها وذ...\n",
       "20     ومنزلة بالحج أخرى عرفتها لها بقعة لا يستطاع بر...\n",
       "21     بودك ما قومي على أن تركتهم سليمى إذا هبت شمال ...\n",
       "22     إذا النجم أمسى مغرب الشمس رائبا ولم يك برق في ...\n",
       "23     وغاب شعاع الشمس في غير جلبة ولا غمرة إلا وشيكا...\n",
       "24        وهاج عماء مقشعر كأنه نقيلة نعل بان منها سريحها\n",
       "25     إذا عدم المحلوب عادت عليهم قدور كثير في القصاع...\n",
       "26     يثوب إليها كل ضيف وجانب كما رد دهداه القلاص نض...\n",
       "27       بأيديهم مقرومة ومغالق يعود بأرزاق العيال منيحها\n",
       "28     وملمومة لا يخرق الطرف عرضها لها كوكب فخم شديد ...\n",
       "29     تسير وتزجي السم تحت نحورها كريه إلى من فاجأته ...\n",
       "                             ...                        \n",
       "970    أناس إذا لاقوا عدى فكأنما سلاح الذي لاقوا غبار...\n",
       "971    رموا بنواصيها القسي فجئنها دوامي الهوادي سالما...\n",
       "972    أولئك أحلى من حياة معادة وأكثر ذكرا من دهور ال...\n",
       "973    نصرت عليا يا ابنه ببواتر من الفعل لا فل لها في...\n",
       "974     وأبهر آيات التهامي أنه أبوك وأجدى مالكم من مناقب\n",
       "975    إذا لم تكن نفس النسيب كأصله فماذا الذي تغني كر...\n",
       "976    وما قربت أشباه قوم أباعد ولا بعدت أشباه قوم أقارب\n",
       "977      إذا علوي لم يكن مثل طاهر فما هو إلا حجة للنواصب\n",
       "978    يقولون تأثير الكواكب في الورى فما باله تأثيره ...\n",
       "979    علا كتد الدنيا إلى كل غاية تسير به سير الذلول ...\n",
       "980    وحق له أن يسبق الناس جالسا ويدرك مالم يدركوا غ...\n",
       "981    ويحذى عرانين الملوك وإنها لمن قدميه في أجل الم...\n",
       "982    يد للزمان الجمع بيني وبينه لتفريقه بيني وبين ا...\n",
       "983    هو ابن رسول الله وابن وصيه وشبههما شبهت بعد ال...\n",
       "984    يرى أن ما ما بان منك لضارب بأقتل مما بان منك ل...\n",
       "985    ألا أيها المال الذي قد أباده تعز فهذا فعله في ...\n",
       "986    لعلك في وقت شغلت فؤاده عن الجود أو كثرت جيش محارب\n",
       "987    حملت إليه من لساني حديقة سقاها الحجى سقي الريا...\n",
       "988    فحييت خير ابن لخير أب بها لأشرف بيت في لؤي بن ...\n",
       "989    من الجآذر في زي الأعاريب حمر الحلى والمطايا وا...\n",
       "990    إن كنت تسأل شكا في معارفها فمن بلاك بتسهيد وتعذيب\n",
       "991    لا تجزني بضنا بي بعدها بقر تجزي دموعي مسكوبا ب...\n",
       "992       سوائر ربما سارت هوادجها منيعة بين مطعون ومضروب\n",
       "993    وربما وخدت أيدي المطي بها على نجيع من الفرسان ...\n",
       "994    كم زورة لك في الأعراب خافية أدهى وقد رقدوا من ...\n",
       "995    أزورهم وسواد الليل يشفع لي وأنثني وبياض الصبح ...\n",
       "996    قد وافقوا الوحش في سكنى مراتعها وخالفوها بتقوي...\n",
       "997     جيرانها وهم شر الجوار لها وصحبها وهم شر الأصاحيب\n",
       "998       فؤاد كل محب في بيوتهم ومال كل أخيذ المال محروب\n",
       "999    ما أوجه الحضر المستحسنات به كأوجه البدويات الر...\n",
       "Name: البيت, Length: 1000, dtype: object"
      ]
     },
     "execution_count": 74,
     "metadata": {},
     "output_type": "execute_result"
    }
   ],
   "source": [
    "data_with_Tashkeel"
   ]
  },
  {
   "cell_type": "code",
   "execution_count": 75,
   "metadata": {},
   "outputs": [
    {
     "data": {
      "text/plain": [
       "(1000,)"
      ]
     },
     "execution_count": 75,
     "metadata": {},
     "output_type": "execute_result"
    }
   ],
   "source": [
    "data_with_Tashkeel.shape"
   ]
  },
  {
   "cell_type": "code",
   "execution_count": 76,
   "metadata": {},
   "outputs": [
    {
     "data": {
      "text/plain": [
       "62"
      ]
     },
     "execution_count": 76,
     "metadata": {},
     "output_type": "execute_result"
    }
   ],
   "source": [
    "maximum_bayt_len = np.max((data_with_Tashkeel.apply(helpers.separate_token_with_dicrites).apply(len)))\n",
    "maximum_bayt_len"
   ]
  },
  {
   "cell_type": "code",
   "execution_count": 77,
   "metadata": {},
   "outputs": [
    {
     "data": {
      "text/plain": [
       "62"
      ]
     },
     "execution_count": 77,
     "metadata": {},
     "output_type": "execute_result"
    }
   ],
   "source": [
    "#encoded_byot = data_with_Tashkeel.apply(lambda x: helpers.string_with_tashkeel_vectorizer(x, maximum_bayt_len))\n",
    "encoded_byot = data_with_Tashkeel.apply(lambda x: helpers.string_with_tashkeel_vectorizer_OneHot(x, maximum_bayt_len))\n",
    "len(encoded_byot[1])\n"
   ]
  },
  {
   "cell_type": "code",
   "execution_count": 78,
   "metadata": {},
   "outputs": [
    {
     "data": {
      "text/plain": [
       "(62, 183)"
      ]
     },
     "execution_count": 78,
     "metadata": {},
     "output_type": "execute_result"
    }
   ],
   "source": [
    "encoded_byot[1].shape"
   ]
  },
  {
   "cell_type": "code",
   "execution_count": 79,
   "metadata": {},
   "outputs": [
    {
     "name": "stdout",
     "output_type": "stream",
     "text": [
      "على أن قومي أسلموني وعرتي وقوم الفتى أظفاره ودعائمه\n"
     ]
    }
   ],
   "source": [
    "encoded_byot[1]\n",
    "encoded_byot.shape\n",
    "print(data_with_Tashkeel[100])"
   ]
  },
  {
   "cell_type": "code",
   "execution_count": 80,
   "metadata": {
    "collapsed": true
   },
   "outputs": [],
   "source": [
    "# Reshaping the heck!!\n",
    "reshaped_data_matrix_with_tashkeel = np.stack(encoded_byot, axis=0)\n",
    "#reshaped_data_matrix_without_tashkeel = np.stack(encoded_byot[0:1000000], axis=0)"
   ]
  },
  {
   "cell_type": "code",
   "execution_count": 81,
   "metadata": {},
   "outputs": [
    {
     "data": {
      "text/plain": [
       "array([[[0, 0, 0, ..., 0, 0, 0],\n",
       "        [0, 0, 0, ..., 0, 0, 0],\n",
       "        [0, 0, 0, ..., 0, 0, 0],\n",
       "        ...,\n",
       "        [0, 0, 0, ..., 0, 0, 0],\n",
       "        [0, 0, 0, ..., 0, 0, 0],\n",
       "        [0, 0, 0, ..., 0, 0, 0]],\n",
       "\n",
       "       [[0, 0, 0, ..., 0, 0, 0],\n",
       "        [0, 0, 0, ..., 0, 0, 0],\n",
       "        [0, 1, 0, ..., 0, 0, 0],\n",
       "        ...,\n",
       "        [0, 0, 0, ..., 0, 0, 0],\n",
       "        [0, 0, 0, ..., 0, 0, 0],\n",
       "        [0, 0, 0, ..., 0, 0, 0]],\n",
       "\n",
       "       [[0, 0, 0, ..., 0, 0, 0],\n",
       "        [0, 0, 0, ..., 0, 0, 0],\n",
       "        [0, 0, 0, ..., 0, 0, 0],\n",
       "        ...,\n",
       "        [0, 0, 0, ..., 0, 0, 0],\n",
       "        [0, 0, 0, ..., 0, 0, 0],\n",
       "        [0, 0, 0, ..., 0, 0, 0]],\n",
       "\n",
       "       ...,\n",
       "\n",
       "       [[0, 0, 0, ..., 0, 0, 0],\n",
       "        [0, 0, 0, ..., 0, 0, 0],\n",
       "        [0, 0, 0, ..., 0, 0, 0],\n",
       "        ...,\n",
       "        [0, 0, 0, ..., 0, 0, 0],\n",
       "        [0, 0, 0, ..., 0, 0, 0],\n",
       "        [0, 0, 0, ..., 0, 0, 0]],\n",
       "\n",
       "       [[0, 0, 0, ..., 0, 0, 0],\n",
       "        [0, 0, 0, ..., 0, 0, 0],\n",
       "        [0, 1, 0, ..., 0, 0, 0],\n",
       "        ...,\n",
       "        [0, 0, 0, ..., 0, 0, 0],\n",
       "        [0, 0, 0, ..., 0, 0, 0],\n",
       "        [0, 0, 0, ..., 0, 0, 0]],\n",
       "\n",
       "       [[0, 0, 0, ..., 0, 0, 0],\n",
       "        [0, 1, 0, ..., 0, 0, 0],\n",
       "        [0, 0, 0, ..., 0, 0, 0],\n",
       "        ...,\n",
       "        [0, 0, 0, ..., 0, 0, 0],\n",
       "        [0, 0, 0, ..., 0, 0, 0],\n",
       "        [0, 0, 0, ..., 0, 0, 0]]])"
      ]
     },
     "execution_count": 81,
     "metadata": {},
     "output_type": "execute_result"
    }
   ],
   "source": [
    "# Dimensions\n",
    "reshaped_data_matrix_with_tashkeel"
   ]
  },
  {
   "cell_type": "markdown",
   "metadata": {},
   "source": [
    "# Saving Abyat"
   ]
  },
  {
   "cell_type": "code",
   "execution_count": null,
   "metadata": {
    "collapsed": true
   },
   "outputs": [],
   "source": [
    "save('old_data_matrix_with_tashkeel_OneHotEncodingWithTashkeel.h5', 'X', reshaped_data_matrix_with_tashkeel)"
   ]
  },
  {
   "cell_type": "code",
   "execution_count": 82,
   "metadata": {},
   "outputs": [
    {
     "data": {
      "text/plain": [
       "(1000,)"
      ]
     },
     "execution_count": 82,
     "metadata": {},
     "output_type": "execute_result"
    }
   ],
   "source": [
    "encoded_byot.shape"
   ]
  },
  {
   "cell_type": "code",
   "execution_count": 83,
   "metadata": {},
   "outputs": [
    {
     "data": {
      "text/plain": [
       "(62, 183)"
      ]
     },
     "execution_count": 83,
     "metadata": {},
     "output_type": "execute_result"
    }
   ],
   "source": [
    "X = np.array(encoded_byot)\n",
    "X[1].shape"
   ]
  },
  {
   "cell_type": "code",
   "execution_count": 84,
   "metadata": {},
   "outputs": [
    {
     "data": {
      "text/plain": [
       "array([[[0, 0, 0, ..., 0, 0, 0],\n",
       "        [0, 0, 0, ..., 0, 0, 0],\n",
       "        [0, 0, 0, ..., 0, 0, 0],\n",
       "        ...,\n",
       "        [0, 0, 0, ..., 0, 0, 0],\n",
       "        [0, 0, 0, ..., 0, 0, 0],\n",
       "        [0, 0, 0, ..., 0, 0, 0]],\n",
       "\n",
       "       [[0, 0, 0, ..., 0, 0, 0],\n",
       "        [0, 0, 0, ..., 0, 0, 0],\n",
       "        [0, 1, 0, ..., 0, 0, 0],\n",
       "        ...,\n",
       "        [0, 0, 0, ..., 0, 0, 0],\n",
       "        [0, 0, 0, ..., 0, 0, 0],\n",
       "        [0, 0, 0, ..., 0, 0, 0]],\n",
       "\n",
       "       [[0, 0, 0, ..., 0, 0, 0],\n",
       "        [0, 0, 0, ..., 0, 0, 0],\n",
       "        [0, 0, 0, ..., 0, 0, 0],\n",
       "        ...,\n",
       "        [0, 0, 0, ..., 0, 0, 0],\n",
       "        [0, 0, 0, ..., 0, 0, 0],\n",
       "        [0, 0, 0, ..., 0, 0, 0]],\n",
       "\n",
       "       ...,\n",
       "\n",
       "       [[0, 0, 0, ..., 0, 0, 0],\n",
       "        [0, 0, 0, ..., 0, 0, 0],\n",
       "        [0, 0, 0, ..., 0, 0, 0],\n",
       "        ...,\n",
       "        [0, 0, 0, ..., 0, 0, 0],\n",
       "        [0, 0, 0, ..., 0, 0, 0],\n",
       "        [0, 0, 0, ..., 0, 0, 0]],\n",
       "\n",
       "       [[0, 0, 0, ..., 0, 0, 0],\n",
       "        [0, 0, 0, ..., 0, 0, 0],\n",
       "        [0, 1, 0, ..., 0, 0, 0],\n",
       "        ...,\n",
       "        [0, 0, 0, ..., 0, 0, 0],\n",
       "        [0, 0, 0, ..., 0, 0, 0],\n",
       "        [0, 0, 0, ..., 0, 0, 0]],\n",
       "\n",
       "       [[0, 0, 0, ..., 0, 0, 0],\n",
       "        [0, 1, 0, ..., 0, 0, 0],\n",
       "        [0, 0, 0, ..., 0, 0, 0],\n",
       "        ...,\n",
       "        [0, 0, 0, ..., 0, 0, 0],\n",
       "        [0, 0, 0, ..., 0, 0, 0],\n",
       "        [0, 0, 0, ..., 0, 0, 0]]])"
      ]
     },
     "execution_count": 84,
     "metadata": {},
     "output_type": "execute_result"
    }
   ],
   "source": [
    "nono = encoded_byot.as_matrix()\n",
    "np.stack(nono)"
   ]
  },
  {
   "cell_type": "code",
   "execution_count": 85,
   "metadata": {
    "collapsed": true
   },
   "outputs": [],
   "source": [
    "test = encoded_byot"
   ]
  },
  {
   "cell_type": "code",
   "execution_count": 86,
   "metadata": {},
   "outputs": [
    {
     "data": {
      "text/plain": [
       "0    [[0, 0, 0, 0, 0, 0, 0, 1, 0, 0, 0, 0, 0, 0, 0,...\n",
       "1    [[0, 0, 0, 0, 0, 0, 0, 0, 0, 0, 0, 0, 0, 0, 0,...\n",
       "Name: البيت, dtype: object"
      ]
     },
     "execution_count": 86,
     "metadata": {},
     "output_type": "execute_result"
    }
   ],
   "source": [
    "test = test[0:2]\n",
    "test"
   ]
  },
  {
   "cell_type": "code",
   "execution_count": 87,
   "metadata": {},
   "outputs": [
    {
     "name": "stdout",
     "output_type": "stream",
     "text": [
      "(2, 62, 183)\n",
      "[[[0 0 0 ... 0 0 0]\n",
      "  [0 0 0 ... 0 0 0]\n",
      "  [0 0 0 ... 0 0 0]\n",
      "  ...\n",
      "  [0 0 0 ... 0 0 0]\n",
      "  [0 0 0 ... 0 0 0]\n",
      "  [0 0 0 ... 0 0 0]]\n",
      "\n",
      " [[0 0 0 ... 0 0 0]\n",
      "  [0 0 0 ... 0 0 0]\n",
      "  [0 1 0 ... 0 0 0]\n",
      "  ...\n",
      "  [0 0 0 ... 0 0 0]\n",
      "  [0 0 0 ... 0 0 0]\n",
      "  [0 0 0 ... 0 0 0]]]\n"
     ]
    }
   ],
   "source": [
    "resualt = np.stack(test, axis=0)\n",
    "print(resualt.shape)\n",
    "print(resualt)"
   ]
  },
  {
   "cell_type": "code",
   "execution_count": null,
   "metadata": {
    "collapsed": true
   },
   "outputs": [],
   "source": [
    "bayt_encoded_without_tashkeel"
   ]
  },
  {
   "cell_type": "code",
   "execution_count": null,
   "metadata": {
    "collapsed": true
   },
   "outputs": [],
   "source": [
    "import helpers \n",
    "import pandas as pd"
   ]
  },
  {
   "cell_type": "code",
   "execution_count": null,
   "metadata": {
    "collapsed": true
   },
   "outputs": [],
   "source": [
    "d = pd.read_csv('../../../data/All_clean_data.csv')"
   ]
  },
  {
   "cell_type": "code",
   "execution_count": null,
   "metadata": {
    "collapsed": true
   },
   "outputs": [],
   "source": [
    "helpers.Clean_data(d,84)"
   ]
  },
  {
   "cell_type": "code",
   "execution_count": null,
   "metadata": {
    "collapsed": true
   },
   "outputs": [],
   "source": [
    "import helpers\n",
    "import pandas as pd"
   ]
  },
  {
   "cell_type": "code",
   "execution_count": null,
   "metadata": {
    "collapsed": true
   },
   "outputs": [],
   "source": [
    "dd = pd.read_csv('../../../data/All_clean_data.csv')"
   ]
  },
  {
   "cell_type": "code",
   "execution_count": null,
   "metadata": {
    "collapsed": true
   },
   "outputs": [],
   "source": [
    "a = helpers.Clean_data(dd,84)"
   ]
  },
  {
   "cell_type": "code",
   "execution_count": null,
   "metadata": {
    "collapsed": true
   },
   "outputs": [],
   "source": []
  },
  {
   "cell_type": "code",
   "execution_count": null,
   "metadata": {
    "collapsed": true
   },
   "outputs": [],
   "source": []
  }
 ],
 "metadata": {
  "kernelspec": {
   "display_name": "Python 2",
   "language": "python2",
   "name": "python2"
  },
  "language_info": {
   "codemirror_mode": {
    "name": "ipython",
    "version": 2
   },
   "file_extension": ".py",
   "mimetype": "text/x-python",
   "name": "python",
   "nbconvert_exporter": "python",
   "pygments_lexer": "ipython2",
   "version": "2.7.13"
  }
 },
 "nbformat": 4,
 "nbformat_minor": 2
}
