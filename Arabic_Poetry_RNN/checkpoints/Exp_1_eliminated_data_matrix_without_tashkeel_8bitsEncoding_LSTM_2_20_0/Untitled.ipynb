{
 "cells": [
  {
   "cell_type": "code",
   "execution_count": 5,
   "metadata": {},
   "outputs": [],
   "source": [
    "from os import listdir\n",
    "from os.path import isfile, join\n",
    "onlyfiles = [f for f in listdir('.') if isfile(join('.', f))]\n"
   ]
  },
  {
   "cell_type": "code",
   "execution_count": 4,
   "metadata": {},
   "outputs": [
    {
     "data": {
      "text/plain": [
       "['Untitled.ipynb',\n",
       " 'weights-improvement-01-0.38.hdf5',\n",
       " 'weights-improvement-01-0.39.hdf5',\n",
       " 'weights-improvement-01-0.60.hdf5',\n",
       " 'weights-improvement-01-0.73.hdf5',\n",
       " 'weights-improvement-01-0.88.hdf5',\n",
       " 'weights-improvement-01-0.92.hdf5',\n",
       " 'weights-improvement-01-0.93.hdf5',\n",
       " 'weights-improvement-02-0.41.hdf5',\n",
       " 'weights-improvement-02-0.63.hdf5',\n",
       " 'weights-improvement-02-0.76.hdf5',\n",
       " 'weights-improvement-02-0.89.hdf5',\n",
       " 'weights-improvement-02-0.93.hdf5',\n",
       " 'weights-improvement-03-0.43.hdf5',\n",
       " 'weights-improvement-03-0.67.hdf5',\n",
       " 'weights-improvement-03-0.78.hdf5',\n",
       " 'weights-improvement-03-0.92.hdf5',\n",
       " 'weights-improvement-03-0.93.hdf5',\n",
       " 'weights-improvement-04-0.48.hdf5',\n",
       " 'weights-improvement-04-0.70.hdf5',\n",
       " 'weights-improvement-04-0.81.hdf5',\n",
       " 'weights-improvement-04-0.89.hdf5',\n",
       " 'weights-improvement-04-0.92.hdf5',\n",
       " 'weights-improvement-04-0.93.hdf5',\n",
       " 'weights-improvement-05-0.54.hdf5',\n",
       " 'weights-improvement-05-0.82.hdf5',\n",
       " 'weights-improvement-05-0.90.hdf5',\n",
       " 'weights-improvement-05-0.93.hdf5',\n",
       " 'weights-improvement-06-0.83.hdf5',\n",
       " 'weights-improvement-07-0.85.hdf5',\n",
       " 'weights-improvement-08-0.85.hdf5',\n",
       " 'weights-improvement-08-0.91.hdf5',\n",
       " 'weights-improvement-09-0.85.hdf5',\n",
       " 'weights-improvement-09-0.91.hdf5',\n",
       " 'weights-improvement-10-0.87.hdf5',\n",
       " 'weights-improvement-10-0.92.hdf5',\n",
       " 'weights-improvement-last-epoch.hdf5']"
      ]
     },
     "execution_count": 4,
     "metadata": {},
     "output_type": "execute_result"
    }
   ],
   "source": [
    "weights-improvement-01-0.38.hdf5"
   ]
  },
  {
   "cell_type": "code",
   "execution_count": null,
   "metadata": {},
   "outputs": [],
   "source": []
  }
 ],
 "metadata": {
  "kernelspec": {
   "display_name": "Python 3",
   "language": "python",
   "name": "python3"
  },
  "language_info": {
   "codemirror_mode": {
    "name": "ipython",
    "version": 3
   },
   "file_extension": ".py",
   "mimetype": "text/x-python",
   "name": "python",
   "nbconvert_exporter": "python",
   "pygments_lexer": "ipython3",
   "version": "3.5.2"
  }
 },
 "nbformat": 4,
 "nbformat_minor": 2
}
