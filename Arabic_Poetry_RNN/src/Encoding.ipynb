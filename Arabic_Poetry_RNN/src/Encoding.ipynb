{
 "cells": [
  {
   "cell_type": "code",
   "execution_count": 77,
   "metadata": {},
   "outputs": [],
   "source": [
    "import pandas as pd\n",
    "import arabic\n",
    "import pyarabic\n",
    "import helpers\n",
    "from sklearn.preprocessing import LabelEncoder, OneHotEncoder\n",
    "#########################\n",
    "from numpy import array, argmax\n",
    "import numpy as np\n",
    "##########################"
   ]
  },
  {
   "cell_type": "code",
   "execution_count": 2,
   "metadata": {},
   "outputs": [
    {
     "name": "stderr",
     "output_type": "stream",
     "text": [
      "c:\\users\\taha\\appdata\\local\\programs\\python\\python36\\lib\\site-packages\\IPython\\core\\interactiveshell.py:2728: DtypeWarning: Columns (1,3,4) have mixed types. Specify dtype option on import or set low_memory=False.\n",
      "  interactivity=interactivity, compiler=compiler, result=result)\n",
      "c:\\users\\taha\\appdata\\local\\programs\\python\\python36\\lib\\site-packages\\numpy\\lib\\arraysetops.py:463: FutureWarning: elementwise comparison failed; returning scalar instead, but in the future will perform elementwise comparison\n",
      "  mask |= (ar1 == a)\n"
     ]
    }
   ],
   "source": [
    "data = pd.read_csv('All_clean_data.csv', index_col=0)"
   ]
  },
  {
   "cell_type": "code",
   "execution_count": 3,
   "metadata": {},
   "outputs": [],
   "source": [
    "def string_with_tashkeel_vectorizer(string, tashkeel=arabic.shortharakat):\n",
    "  '''\n",
    "      return: 8*1 vector representation for each letter in string\n",
    "  '''\n",
    "\n",
    "  # 0* change string to list of letters \n",
    "  '''\n",
    "      * where tshkeel is not considerd a letter\n",
    "      > Harakah will no be a single member in list\n",
    "      > it will be concatinated with its previous letter or not exist\n",
    "  '''\n",
    "  # factor shaddah and tanwin\n",
    "  string = helpers.factor_shadda_tanwin(string)\n",
    "\n",
    "  string_clean = [] # harakah is concatinated with previous latter.\n",
    "  i = 0\n",
    "  while True:\n",
    "      # it is the last item?!\n",
    "      if i == len(string) - 1:\n",
    "          string_clean.append(string[i])\n",
    "          break\n",
    "      elif i > len(string)-1:\n",
    "          break\n",
    "      elif string[i+1] not in tashkeel:\n",
    "          string_clean.append(string[i])\n",
    "          i += 1\n",
    "      elif string[i+1] in tashkeel:\n",
    "          string_clean.append(string[i] + string[i+1])\n",
    "          i += 2\n",
    "\n",
    "\n",
    "  # 1* Building letter and taskell compinations\n",
    "  arabic_alphabet_tashkeel = helpers.lettersTashkeelCombination\n",
    "\n",
    "  encoding_combination = array(helpers.encoding_combination)\n",
    "\n",
    "  # 4* getting encoding for each letter from input string\n",
    "  representation = []\n",
    "  for x in string_clean:\n",
    "      index = string_clean.index(x)\n",
    "      # Shift index by one \n",
    "      representation.append(encoding_combination[index+1])\n",
    "  \n",
    "  \n",
    "  reminder = 111 - len(representation)\n",
    "  for i in range(reminder):\n",
    "        representation.append([0,0,0,0,0,0,0,0])\n",
    "  return np.asarray(representation)\n"
   ]
  },
  {
   "cell_type": "code",
   "execution_count": 4,
   "metadata": {},
   "outputs": [
    {
     "data": {
      "text/plain": [
       "111"
      ]
     },
     "execution_count": 4,
     "metadata": {},
     "output_type": "execute_result"
    }
   ],
   "source": [
    "len(string_with_tashkeel_vectorizer('الحمد لله رب العالمين'))"
   ]
  },
  {
   "cell_type": "code",
   "execution_count": 5,
   "metadata": {},
   "outputs": [
    {
     "data": {
      "text/plain": [
       "Index(['العصر', 'الشاعر', 'الديوان', 'القافية', 'البحر', 'الشطر الايسر',\n",
       "       'الشطر الايمن', 'البيت'],\n",
       "      dtype='object')"
      ]
     },
     "execution_count": 5,
     "metadata": {},
     "output_type": "execute_result"
    }
   ],
   "source": [
    "data.columns"
   ]
  },
  {
   "cell_type": "markdown",
   "metadata": {},
   "source": [
    "bahr = 'البحر'\n",
    "bayt = 'البيت'\n",
    "data  = data[[bayt, bahr]]\n",
    "data"
   ]
  },
  {
   "cell_type": "markdown",
   "metadata": {},
   "source": [
    "# Getting Unique Bohor"
   ]
  },
  {
   "cell_type": "code",
   "execution_count": 6,
   "metadata": {},
   "outputs": [
    {
     "data": {
      "text/plain": [
       "array(['الطويل', 'المنسرح', 'المتقارب', 'الخفيف', 'الكامل', 'السريع',\n",
       "       'الوافر', 'الرجز', 'البسيط', 'الرمل', 'المجتث', 'المديد', 'الهزج',\n",
       "       'المتدارك', 'المقتضب', 'المضارع'], dtype=object)"
      ]
     },
     "execution_count": 6,
     "metadata": {},
     "output_type": "execute_result"
    }
   ],
   "source": [
    "classic_bohor = data.البحر.unique()[0:16]\n",
    "classic_bohor"
   ]
  },
  {
   "cell_type": "markdown",
   "metadata": {},
   "source": [
    "# Filtering on the 16 Bahr"
   ]
  },
  {
   "cell_type": "code",
   "execution_count": 7,
   "metadata": {},
   "outputs": [
    {
     "name": "stdout",
     "output_type": "stream",
     "text": [
      "['الطويل' 'المنسرح' 'المتقارب' 'الخفيف' 'الكامل' 'السريع' 'الوافر' 'الرجز'\n",
      " 'البسيط' 'الرمل' 'المجتث' 'المديد' 'الهزج' 'المتدارك' 'المقتضب' 'المضارع']\n",
      "16\n"
     ]
    }
   ],
   "source": [
    "is_classic_bahr = data.البحر.isin(classic_bohor)\n",
    "filtered_data = data[is_classic_bahr]\n",
    "\n",
    "# TESTING\n",
    "print(filtered_data.البحر.unique())\n",
    "print(len(filtered_data.البحر.unique()))"
   ]
  },
  {
   "cell_type": "code",
   "execution_count": 8,
   "metadata": {},
   "outputs": [
    {
     "data": {
      "text/plain": [
       "111"
      ]
     },
     "execution_count": 8,
     "metadata": {},
     "output_type": "execute_result"
    }
   ],
   "source": [
    "maximum_bayt_len = np.max((filtered_data['البيت'].apply(len)))\n",
    "maximum_bayt_len"
   ]
  },
  {
   "cell_type": "code",
   "execution_count": 9,
   "metadata": {},
   "outputs": [],
   "source": [
    "import h5py\n",
    "\n",
    "def save(nameOfFile,nameOfDataset,dataVar):\n",
    "    h5f = h5py.File(nameOfFile, 'w')\n",
    "    h5f.create_dataset(nameOfDataset, data=dataVar)\n",
    "    h5f.close()\n"
   ]
  },
  {
   "cell_type": "markdown",
   "metadata": {},
   "source": [
    "# Encoding Bohor"
   ]
  },
  {
   "cell_type": "code",
   "execution_count": 10,
   "metadata": {},
   "outputs": [],
   "source": [
    "label_encoder = LabelEncoder()\n",
    "integer_encoded = label_encoder.fit_transform(classic_bohor)\n",
    "# binary encode\n",
    "onehot_encoder = OneHotEncoder(sparse=False)\n",
    "integer_encoded = integer_encoded.reshape(len(integer_encoded), 1)\n",
    "bohor_encoded = onehot_encoder.fit_transform(integer_encoded)"
   ]
  },
  {
   "cell_type": "code",
   "execution_count": 11,
   "metadata": {
    "scrolled": true
   },
   "outputs": [
    {
     "name": "stdout",
     "output_type": "stream",
     "text": [
      "(16, 16)\n",
      "[[ 0.  0.  0.  0.  0.  1.  0.  0.  0.  0.  0.  0.  0.  0.  0.  0.]\n",
      " [ 0.  0.  0.  0.  0.  0.  0.  0.  0.  0.  0.  0.  0.  1.  0.  0.]\n",
      " [ 0.  0.  0.  0.  0.  0.  0.  0.  1.  0.  0.  0.  0.  0.  0.  0.]\n",
      " [ 0.  1.  0.  0.  0.  0.  0.  0.  0.  0.  0.  0.  0.  0.  0.  0.]\n",
      " [ 0.  0.  0.  0.  0.  0.  1.  0.  0.  0.  0.  0.  0.  0.  0.  0.]\n",
      " [ 0.  0.  0.  0.  1.  0.  0.  0.  0.  0.  0.  0.  0.  0.  0.  0.]\n",
      " [ 0.  0.  0.  0.  0.  0.  0.  0.  0.  0.  0.  0.  0.  0.  0.  1.]\n",
      " [ 0.  0.  1.  0.  0.  0.  0.  0.  0.  0.  0.  0.  0.  0.  0.  0.]\n",
      " [ 1.  0.  0.  0.  0.  0.  0.  0.  0.  0.  0.  0.  0.  0.  0.  0.]\n",
      " [ 0.  0.  0.  1.  0.  0.  0.  0.  0.  0.  0.  0.  0.  0.  0.  0.]\n",
      " [ 0.  0.  0.  0.  0.  0.  0.  0.  0.  1.  0.  0.  0.  0.  0.  0.]\n",
      " [ 0.  0.  0.  0.  0.  0.  0.  0.  0.  0.  1.  0.  0.  0.  0.  0.]\n",
      " [ 0.  0.  0.  0.  0.  0.  0.  0.  0.  0.  0.  0.  0.  0.  1.  0.]\n",
      " [ 0.  0.  0.  0.  0.  0.  0.  1.  0.  0.  0.  0.  0.  0.  0.  0.]\n",
      " [ 0.  0.  0.  0.  0.  0.  0.  0.  0.  0.  0.  0.  1.  0.  0.  0.]\n",
      " [ 0.  0.  0.  0.  0.  0.  0.  0.  0.  0.  0.  1.  0.  0.  0.  0.]]\n"
     ]
    },
    {
     "data": {
      "text/plain": [
       "numpy.ndarray"
      ]
     },
     "execution_count": 11,
     "metadata": {},
     "output_type": "execute_result"
    }
   ],
   "source": [
    "print(bohor_encoded.shape)\n",
    "print(bohor_encoded)\n",
    "# save('Y_All_Meters', 'Y', bohor_encoded)\n",
    "type(bohor_encoded)"
   ]
  },
  {
   "cell_type": "markdown",
   "metadata": {},
   "source": [
    "# Encoding Abyat"
   ]
  },
  {
   "cell_type": "code",
   "execution_count": 12,
   "metadata": {
    "scrolled": true
   },
   "outputs": [],
   "source": [
    "# filtered_data.columns[]\n",
    "byot = filtered_data['البيت']\n",
    "bayt_encoded_with_tashkeel = byot.apply(string_with_tashkeel_vectorizer)\n",
    "#len(bayt_encoded_with_tashkeel[1])\n"
   ]
  },
  {
   "cell_type": "code",
   "execution_count": 61,
   "metadata": {},
   "outputs": [],
   "source": [
    "# Reshaping the heck!!\n",
    "#reshaped_data_matrix_with_tashkeel = np.stack(bayt_encoded_with_tashkeel, axis=0)"
   ]
  },
  {
   "cell_type": "markdown",
   "metadata": {},
   "source": [
    "# Saving Abyat"
   ]
  },
  {
   "cell_type": "code",
   "execution_count": 62,
   "metadata": {
    "scrolled": true
   },
   "outputs": [
    {
     "data": {
      "text/plain": [
       "(1722321, 111, 8)"
      ]
     },
     "execution_count": 62,
     "metadata": {},
     "output_type": "execute_result"
    }
   ],
   "source": [
    "# Dimensions\n",
    "reshaped_data_matrix_with_tashkeel.shape"
   ]
  },
  {
   "cell_type": "code",
   "execution_count": 65,
   "metadata": {},
   "outputs": [],
   "source": [
    "save('dataMatrix_withTahkeel', 'X', reshaped_data_matrix_with_tashkeel)"
   ]
  },
  {
   "cell_type": "code",
   "execution_count": 69,
   "metadata": {
    "scrolled": true
   },
   "outputs": [
    {
     "data": {
      "text/plain": [
       "(1722321,)"
      ]
     },
     "execution_count": 69,
     "metadata": {},
     "output_type": "execute_result"
    }
   ],
   "source": [
    "bayt_encoded_with_tashkeel.shape"
   ]
  },
  {
   "cell_type": "code",
   "execution_count": 72,
   "metadata": {},
   "outputs": [
    {
     "data": {
      "text/plain": [
       "(111, 8)"
      ]
     },
     "execution_count": 72,
     "metadata": {},
     "output_type": "execute_result"
    }
   ],
   "source": [
    "X = np.array(bayt_encoded_with_tashkeel)\n",
    "X[1].shape"
   ]
  },
  {
   "cell_type": "code",
   "execution_count": null,
   "metadata": {},
   "outputs": [],
   "source": []
  },
  {
   "cell_type": "code",
   "execution_count": null,
   "metadata": {},
   "outputs": [],
   "source": [
    "nono = bayt_encoded_with_tashkeel.as_matrix()\n",
    "np.stack(nono)"
   ]
  },
  {
   "cell_type": "code",
   "execution_count": 17,
   "metadata": {},
   "outputs": [],
   "source": [
    "test = bayt_encoded_with_tashkeel"
   ]
  },
  {
   "cell_type": "code",
   "execution_count": 44,
   "metadata": {
    "scrolled": true
   },
   "outputs": [
    {
     "data": {
      "text/plain": [
       "0    [[0, 0, 0, 0, 0, 0, 0, 1], [0, 0, 0, 0, 0, 0, ...\n",
       "1    [[0, 0, 0, 0, 0, 0, 0, 1], [0, 0, 0, 0, 0, 0, ...\n",
       "Name: البيت, dtype: object"
      ]
     },
     "execution_count": 44,
     "metadata": {},
     "output_type": "execute_result"
    }
   ],
   "source": [
    "test = test[0:2]\n",
    "test"
   ]
  },
  {
   "cell_type": "code",
   "execution_count": 59,
   "metadata": {
    "scrolled": false
   },
   "outputs": [
    {
     "name": "stdout",
     "output_type": "stream",
     "text": [
      "(2, 111, 8)\n",
      "[[[0 0 0 ..., 0 0 1]\n",
      "  [0 0 0 ..., 0 1 0]\n",
      "  [0 0 0 ..., 0 1 1]\n",
      "  ..., \n",
      "  [0 0 0 ..., 0 0 0]\n",
      "  [0 0 0 ..., 0 0 0]\n",
      "  [0 0 0 ..., 0 0 0]]\n",
      "\n",
      " [[0 0 0 ..., 0 0 1]\n",
      "  [0 0 0 ..., 0 1 0]\n",
      "  [0 0 0 ..., 0 1 1]\n",
      "  ..., \n",
      "  [0 0 0 ..., 0 0 0]\n",
      "  [0 0 0 ..., 0 0 0]\n",
      "  [0 0 0 ..., 0 0 0]]]\n"
     ]
    }
   ],
   "source": [
    "resualt = np.stack(test, axis=0)\n",
    "print(resualt.shape)\n",
    "print(resualt)"
   ]
  },
  {
   "cell_type": "code",
   "execution_count": 70,
   "metadata": {
    "scrolled": true
   },
   "outputs": [],
   "source": [
    "byot_without_tashkeel = byot.apply(pyarabic.araby.strip_tashkeel)"
   ]
  },
  {
   "cell_type": "code",
   "execution_count": 72,
   "metadata": {},
   "outputs": [],
   "source": [
    "bayt_encoded_without_tashkeel = byot_without_tashkeel.apply(string_with_tashkeel_vectorizer)"
   ]
  },
  {
   "cell_type": "code",
   "execution_count": 73,
   "metadata": {
    "scrolled": true
   },
   "outputs": [
    {
     "data": {
      "text/plain": [
       "0          [[0, 0, 0, 0, 0, 0, 0, 1], [0, 0, 0, 0, 0, 0, ...\n",
       "1          [[0, 0, 0, 0, 0, 0, 0, 1], [0, 0, 0, 0, 0, 0, ...\n",
       "2          [[0, 0, 0, 0, 0, 0, 0, 1], [0, 0, 0, 0, 0, 0, ...\n",
       "3          [[0, 0, 0, 0, 0, 0, 0, 1], [0, 0, 0, 0, 0, 0, ...\n",
       "4          [[0, 0, 0, 0, 0, 0, 0, 1], [0, 0, 0, 0, 0, 0, ...\n",
       "5          [[0, 0, 0, 0, 0, 0, 0, 1], [0, 0, 0, 0, 0, 0, ...\n",
       "6          [[0, 0, 0, 0, 0, 0, 0, 1], [0, 0, 0, 0, 0, 0, ...\n",
       "7          [[0, 0, 0, 0, 0, 0, 0, 1], [0, 0, 0, 0, 0, 0, ...\n",
       "8          [[0, 0, 0, 0, 0, 0, 0, 1], [0, 0, 0, 0, 0, 0, ...\n",
       "9          [[0, 0, 0, 0, 0, 0, 0, 1], [0, 0, 0, 0, 0, 0, ...\n",
       "10         [[0, 0, 0, 0, 0, 0, 0, 1], [0, 0, 0, 0, 0, 0, ...\n",
       "11         [[0, 0, 0, 0, 0, 0, 0, 1], [0, 0, 0, 0, 0, 0, ...\n",
       "12         [[0, 0, 0, 0, 0, 0, 0, 1], [0, 0, 0, 0, 0, 0, ...\n",
       "13         [[0, 0, 0, 0, 0, 0, 0, 1], [0, 0, 0, 0, 0, 0, ...\n",
       "14         [[0, 0, 0, 0, 0, 0, 0, 1], [0, 0, 0, 0, 0, 0, ...\n",
       "15         [[0, 0, 0, 0, 0, 0, 0, 1], [0, 0, 0, 0, 0, 0, ...\n",
       "16         [[0, 0, 0, 0, 0, 0, 0, 1], [0, 0, 0, 0, 0, 0, ...\n",
       "17         [[0, 0, 0, 0, 0, 0, 0, 1], [0, 0, 0, 0, 0, 0, ...\n",
       "18         [[0, 0, 0, 0, 0, 0, 0, 1], [0, 0, 0, 0, 0, 0, ...\n",
       "19         [[0, 0, 0, 0, 0, 0, 0, 1], [0, 0, 0, 0, 0, 0, ...\n",
       "20         [[0, 0, 0, 0, 0, 0, 0, 1], [0, 0, 0, 0, 0, 0, ...\n",
       "21         [[0, 0, 0, 0, 0, 0, 0, 1], [0, 0, 0, 0, 0, 0, ...\n",
       "22         [[0, 0, 0, 0, 0, 0, 0, 1], [0, 0, 0, 0, 0, 0, ...\n",
       "23         [[0, 0, 0, 0, 0, 0, 0, 1], [0, 0, 0, 0, 0, 0, ...\n",
       "24         [[0, 0, 0, 0, 0, 0, 0, 1], [0, 0, 0, 0, 0, 0, ...\n",
       "25         [[0, 0, 0, 0, 0, 0, 0, 1], [0, 0, 0, 0, 0, 0, ...\n",
       "26         [[0, 0, 0, 0, 0, 0, 0, 1], [0, 0, 0, 0, 0, 0, ...\n",
       "27         [[0, 0, 0, 0, 0, 0, 0, 1], [0, 0, 0, 0, 0, 0, ...\n",
       "28         [[0, 0, 0, 0, 0, 0, 0, 1], [0, 0, 0, 0, 0, 0, ...\n",
       "29         [[0, 0, 0, 0, 0, 0, 0, 1], [0, 0, 0, 0, 0, 0, ...\n",
       "                                 ...                        \n",
       "2057763    [[0, 0, 0, 0, 0, 0, 0, 1], [0, 0, 0, 0, 0, 0, ...\n",
       "2057764    [[0, 0, 0, 0, 0, 0, 0, 1], [0, 0, 0, 0, 0, 0, ...\n",
       "2057765    [[0, 0, 0, 0, 0, 0, 0, 1], [0, 0, 0, 0, 0, 0, ...\n",
       "2057766    [[0, 0, 0, 0, 0, 0, 0, 1], [0, 0, 0, 0, 0, 0, ...\n",
       "2057767    [[0, 0, 0, 0, 0, 0, 0, 1], [0, 0, 0, 0, 0, 0, ...\n",
       "2057768    [[0, 0, 0, 0, 0, 0, 0, 1], [0, 0, 0, 0, 0, 0, ...\n",
       "2057769    [[0, 0, 0, 0, 0, 0, 0, 1], [0, 0, 0, 0, 0, 0, ...\n",
       "2057770    [[0, 0, 0, 0, 0, 0, 0, 1], [0, 0, 0, 0, 0, 0, ...\n",
       "2057771    [[0, 0, 0, 0, 0, 0, 0, 1], [0, 0, 0, 0, 0, 0, ...\n",
       "2057772    [[0, 0, 0, 0, 0, 0, 0, 1], [0, 0, 0, 0, 0, 0, ...\n",
       "2057773    [[0, 0, 0, 0, 0, 0, 0, 1], [0, 0, 0, 0, 0, 0, ...\n",
       "2057774    [[0, 0, 0, 0, 0, 0, 0, 1], [0, 0, 0, 0, 0, 0, ...\n",
       "2057775    [[0, 0, 0, 0, 0, 0, 0, 1], [0, 0, 0, 0, 0, 0, ...\n",
       "2057776    [[0, 0, 0, 0, 0, 0, 0, 1], [0, 0, 0, 0, 0, 0, ...\n",
       "2057777    [[0, 0, 0, 0, 0, 0, 0, 1], [0, 0, 0, 0, 0, 0, ...\n",
       "2057778    [[0, 0, 0, 0, 0, 0, 0, 1], [0, 0, 0, 0, 0, 0, ...\n",
       "2057779    [[0, 0, 0, 0, 0, 0, 0, 1], [0, 0, 0, 0, 0, 0, ...\n",
       "2057780    [[0, 0, 0, 0, 0, 0, 0, 1], [0, 0, 0, 0, 0, 0, ...\n",
       "2057781    [[0, 0, 0, 0, 0, 0, 0, 1], [0, 0, 0, 0, 0, 0, ...\n",
       "2057782    [[0, 0, 0, 0, 0, 0, 0, 1], [0, 0, 0, 0, 0, 0, ...\n",
       "2057783    [[0, 0, 0, 0, 0, 0, 0, 1], [0, 0, 0, 0, 0, 0, ...\n",
       "2057784    [[0, 0, 0, 0, 0, 0, 0, 1], [0, 0, 0, 0, 0, 0, ...\n",
       "2057785    [[0, 0, 0, 0, 0, 0, 0, 1], [0, 0, 0, 0, 0, 0, ...\n",
       "2057794    [[0, 0, 0, 0, 0, 0, 0, 1], [0, 0, 0, 0, 0, 0, ...\n",
       "2057795    [[0, 0, 0, 0, 0, 0, 0, 1], [0, 0, 0, 0, 0, 0, ...\n",
       "2057796    [[0, 0, 0, 0, 0, 0, 0, 1], [0, 0, 0, 0, 0, 0, ...\n",
       "2057797    [[0, 0, 0, 0, 0, 0, 0, 1], [0, 0, 0, 0, 0, 0, ...\n",
       "2057798    [[0, 0, 0, 0, 0, 0, 0, 1], [0, 0, 0, 0, 0, 0, ...\n",
       "2057799    [[0, 0, 0, 0, 0, 0, 0, 1], [0, 0, 0, 0, 0, 0, ...\n",
       "2057800    [[0, 0, 0, 0, 0, 0, 0, 1], [0, 0, 0, 0, 0, 0, ...\n",
       "Name: البيت, Length: 1722321, dtype: object"
      ]
     },
     "execution_count": 73,
     "metadata": {},
     "output_type": "execute_result"
    }
   ],
   "source": [
    "bayt_encoded_without_tashkeel"
   ]
  },
  {
   "cell_type": "code",
   "execution_count": 76,
   "metadata": {},
   "outputs": [
    {
     "ename": "MemoryError",
     "evalue": "",
     "output_type": "error",
     "traceback": [
      "\u001b[1;31m---------------------------------------------------------------------------\u001b[0m",
      "\u001b[1;31mMemoryError\u001b[0m                               Traceback (most recent call last)",
      "\u001b[1;32m<ipython-input-76-1c97650819bb>\u001b[0m in \u001b[0;36m<module>\u001b[1;34m()\u001b[0m\n\u001b[1;32m----> 1\u001b[1;33m \u001b[0mreshaped_data_matrix_without_tashkeel\u001b[0m \u001b[1;33m=\u001b[0m \u001b[0mnp\u001b[0m\u001b[1;33m.\u001b[0m\u001b[0mstack\u001b[0m\u001b[1;33m(\u001b[0m\u001b[0mbayt_encoded_without_tashkeel\u001b[0m\u001b[1;33m,\u001b[0m \u001b[0maxis\u001b[0m\u001b[1;33m=\u001b[0m\u001b[1;36m0\u001b[0m\u001b[1;33m)\u001b[0m\u001b[1;33m\u001b[0m\u001b[0m\n\u001b[0m",
      "\u001b[1;32mc:\\users\\taha\\appdata\\local\\programs\\python\\python36\\lib\\site-packages\\numpy\\core\\shape_base.py\u001b[0m in \u001b[0;36mstack\u001b[1;34m(arrays, axis)\u001b[0m\n\u001b[0;32m    359\u001b[0m     \u001b[0msl\u001b[0m \u001b[1;33m=\u001b[0m \u001b[1;33m(\u001b[0m\u001b[0mslice\u001b[0m\u001b[1;33m(\u001b[0m\u001b[1;32mNone\u001b[0m\u001b[1;33m)\u001b[0m\u001b[1;33m,\u001b[0m\u001b[1;33m)\u001b[0m \u001b[1;33m*\u001b[0m \u001b[0maxis\u001b[0m \u001b[1;33m+\u001b[0m \u001b[1;33m(\u001b[0m\u001b[0m_nx\u001b[0m\u001b[1;33m.\u001b[0m\u001b[0mnewaxis\u001b[0m\u001b[1;33m,\u001b[0m\u001b[1;33m)\u001b[0m\u001b[1;33m\u001b[0m\u001b[0m\n\u001b[0;32m    360\u001b[0m     \u001b[0mexpanded_arrays\u001b[0m \u001b[1;33m=\u001b[0m \u001b[1;33m[\u001b[0m\u001b[0marr\u001b[0m\u001b[1;33m[\u001b[0m\u001b[0msl\u001b[0m\u001b[1;33m]\u001b[0m \u001b[1;32mfor\u001b[0m \u001b[0marr\u001b[0m \u001b[1;32min\u001b[0m \u001b[0marrays\u001b[0m\u001b[1;33m]\u001b[0m\u001b[1;33m\u001b[0m\u001b[0m\n\u001b[1;32m--> 361\u001b[1;33m     \u001b[1;32mreturn\u001b[0m \u001b[0m_nx\u001b[0m\u001b[1;33m.\u001b[0m\u001b[0mconcatenate\u001b[0m\u001b[1;33m(\u001b[0m\u001b[0mexpanded_arrays\u001b[0m\u001b[1;33m,\u001b[0m \u001b[0maxis\u001b[0m\u001b[1;33m=\u001b[0m\u001b[0maxis\u001b[0m\u001b[1;33m)\u001b[0m\u001b[1;33m\u001b[0m\u001b[0m\n\u001b[0m\u001b[0;32m    362\u001b[0m \u001b[1;33m\u001b[0m\u001b[0m\n\u001b[0;32m    363\u001b[0m \u001b[1;33m\u001b[0m\u001b[0m\n",
      "\u001b[1;31mMemoryError\u001b[0m: "
     ]
    }
   ],
   "source": [
    "reshaped_data_matrix_without_tashkeel = np.stack(bayt_encoded_without_tashkeel, axis=0)"
   ]
  },
  {
   "cell_type": "code",
   "execution_count": null,
   "metadata": {},
   "outputs": [],
   "source": []
  }
 ],
 "metadata": {
  "kernelspec": {
   "display_name": "Python 3",
   "language": "python",
   "name": "python3"
  },
  "language_info": {
   "codemirror_mode": {
    "name": "ipython",
    "version": 3
   },
   "file_extension": ".py",
   "mimetype": "text/x-python",
   "name": "python",
   "nbconvert_exporter": "python",
   "pygments_lexer": "ipython3",
   "version": "3.6.4"
  }
 },
 "nbformat": 4,
 "nbformat_minor": 2
}
