{
 "cells": [
  {
   "cell_type": "code",
   "execution_count": 2,
   "metadata": {
    "collapsed": true
   },
   "outputs": [],
   "source": [
    "import tensorflow as tf\n",
    "from sklearn.cross_validation import train_test_split\n",
    "import sys\n",
    "from sklearn.utils import shuffle\n",
    "import h5py\n",
    "import time\n",
    "import seaborn as ses\n",
    "\n",
    "from IPython import display\n",
    "import pylab as pl\n",
    "\n",
    "%matplotlib inline"
   ]
  },
  {
   "cell_type": "markdown",
   "metadata": {},
   "source": [
    "# Model of one layer GRU\n"
   ]
  },
  {
   "cell_type": "markdown",
   "metadata": {},
   "source": [
    "### load X,Y Data from folder /Data"
   ]
  },
  {
   "cell_type": "code",
   "execution_count": 3,
   "metadata": {
    "collapsed": true
   },
   "outputs": [],
   "source": [
    "def restore (nameOfFile,nameOfDataset):\n",
    "    h5f = h5py.File(nameOfFile,'r')\n",
    "    matrix = h5f[nameOfDataset][:]\n",
    "    h5f.close()\n",
    "    return matrix"
   ]
  },
  {
   "cell_type": "code",
   "execution_count": 4,
   "metadata": {
    "collapsed": true
   },
   "outputs": [],
   "source": [
    "X = restore(\"Data/data_matrix_X.h5\",\"X\")\n",
    "Y = restore(\"Data/data_matrix_Y.h5\",\"Y\")\n",
    "\n",
    "x_train,x_test,y_train,y_test = train_test_split(X,Y,test_size=0.40,random_state=42)\n",
    "x_validate,x_test,y_validate,y_test = train_test_split(x_test,y_test,test_size=0.50,random_state=42)"
   ]
  },
  {
   "cell_type": "code",
   "execution_count": 5,
   "metadata": {},
   "outputs": [
    {
     "name": "stdout",
     "output_type": "stream",
     "text": [
      "(700, 83, 27)\n",
      "(700, 2)\n",
      "(234, 83, 27)\n",
      "(234, 2)\n",
      "(233, 83, 27)\n",
      "(233, 2)\n"
     ]
    }
   ],
   "source": [
    "print(x_train.shape)\n",
    "print(y_train.shape)\n",
    "print(x_test.shape)\n",
    "print(y_test.shape)\n",
    "print(x_validate.shape)\n",
    "print(y_validate.shape)"
   ]
  },
  {
   "cell_type": "markdown",
   "metadata": {},
   "source": [
    "### model tuning parameters"
   ]
  },
  {
   "cell_type": "code",
   "execution_count": 6,
   "metadata": {
    "collapsed": true
   },
   "outputs": [],
   "source": [
    "# size of input vector\n",
    "input_size = 27\n",
    "# nimber of hidden unit\n",
    "hidden_size = 160\n",
    "# number of output vector\n",
    "output_size = 2\n",
    "\n",
    "learn_rate = 0.001\n",
    "\n",
    "batch_size = 700\n",
    "epoch_number = 1300"
   ]
  },
  {
   "cell_type": "markdown",
   "metadata": {},
   "source": [
    "## Design of RGU cell"
   ]
  },
  {
   "cell_type": "code",
   "execution_count": 7,
   "metadata": {
    "collapsed": true
   },
   "outputs": [],
   "source": [
    "class GruCell(object):\n",
    "    \n",
    "    def __init__(self,input_size , hidden_size , output_size):\n",
    "        self.input_size = input_size\n",
    "        self.hidden_size = hidden_size\n",
    "        self.output_size = output_size\n",
    "        \n",
    "        #weight of input vector\n",
    "        self.ui = tf.Variable(\n",
    "            tf.random_normal([self.input_size,self.hidden_size],\n",
    "                             mean=0,stddev=0.01,seed=1),name='ui')\n",
    "        \n",
    "        #weight of rest gate\n",
    "        self.wr = tf.Variable(\n",
    "            tf.random_normal([self.input_size,self.hidden_size],\n",
    "                             mean=0,stddev=0.01,seed=1),name='wr')\n",
    "        self.br = tf.Variable(\n",
    "            tf.ones([self.hidden_size]),name='br')\n",
    "        \n",
    "        #weight of update gate\n",
    "        self.wz = tf.Variable(\n",
    "            tf.random_normal([self.input_size,self.hidden_size],\n",
    "                             mean=0,stddev=0.01,seed=1),name='wz')\n",
    "        self.bz = tf.Variable(\n",
    "            tf.ones([self.hidden_size]),name='bz')\n",
    "\n",
    "        #weight of hidden layer\n",
    "        self.wh = tf.Variable(\n",
    "            tf.random_normal([self.hidden_size,self.hidden_size],\n",
    "                             mean=0,stddev=0.01,seed=1),name='wh')\n",
    "        \n",
    "        #weight of output layer\n",
    "        self.vo = tf.Variable(\n",
    "            tf.random_normal([self.hidden_size,output_size],\n",
    "                             mean=0,stddev=0.01,seed=1),name='vo')\n",
    "        self.bo = tf.Variable(\n",
    "            tf.ones([self.output_size]),name='bo')\n",
    "        \n",
    "        #define shape of input matrix  \n",
    "        \n",
    "        self.inputs_matrix = tf.placeholder(\n",
    "            dtype=tf.float32 ,shape=[None,None,self.input_size],name='inputs_matrix')\n",
    "        \n",
    "        #prepare input matrix to feed model \n",
    "        # it will make matrix as [m,t,n] --> [t,m,n]\n",
    "        # t : number of time\n",
    "        # n : length of input vector\n",
    "        # m : number of sentences\n",
    "        self.feed_marix = tf.transpose(\n",
    "            self.inputs_matrix,perm=[1,0,2],name='feed_marix')\n",
    "        \n",
    "        #prepare initial state as matrix of zerose (batch_size,hidden_size)\n",
    "        self.initial_state = tf.matmul(\n",
    "            self.feed_marix[0],\n",
    "            tf.zeros([self.input_size,self.hidden_size]),name='initial_state')\n",
    "        \n",
    "        self.a1 = tf.placeholder(tf.float32,name='a1')\n",
    "        \n",
    "        \n",
    "    def gru(self, previous_hidden_state, x):\n",
    "        \"\"\"gur cell that compute  curent state at time t using\n",
    "           previous state at t-1 and input vector x\n",
    "    \n",
    "        Args:\n",
    "            previous_hidden_state (matrix): previous_state at (t-1) .\n",
    "            x (vector): input vector of char.\n",
    "\n",
    "        Returns:\n",
    "            current_hidden_state: current state\n",
    "\n",
    "        Note:\n",
    "            returned matrix size (batch_number , hidden_unit_size)\n",
    "        \"\"\"\n",
    "        #compute update gate that update state_at_(t-1)\n",
    "        z= tf.sigmoid(tf.matmul(x,self.wz)+ self.bz)\n",
    "        #compute reset gate \n",
    "        r= tf.sigmoid(tf.matmul(x,self.wr)+ self.br)  \n",
    "        #compute internal memory\n",
    "        h_= tf.tanh(tf.matmul(x,self.ui) + tf.matmul(previous_hidden_state,self.wh)*r)\n",
    "        #compute current state\n",
    "        current_hidden_state = tf.multiply((1-z),h_) + tf.multiply(previous_hidden_state,z)\n",
    "        return current_hidden_state  \n",
    "        \n",
    "    def get_states(self):\n",
    "        \"\"\"get all state of batch_number example it accumulate \n",
    "           all states of one sentence matrix like :\n",
    "           S0 = initial_state + x0\n",
    "           S1 = S0 + x1\n",
    "           S2 = S1 + x2\n",
    "                .\n",
    "                .\n",
    "           Sn = Sn-1 + xn\n",
    "           \n",
    "           and for batch_number\n",
    "    \n",
    "        Returns:\n",
    "            all_stats: all state of m example\n",
    "\n",
    "        Note:\n",
    "            returned matrix size (number_time_steps ,batch_number , input_size )\n",
    "        \"\"\"\n",
    "        # apply gru function on all matrix of all batch like\n",
    "        #   state_0 =  gru(initial_state,feed_marix[0])\n",
    "        #   state_1 =  gru(state_0,feed_matrix[1])\n",
    "        all_stats = tf.scan(self.gru,self.feed_marix,self.initial_state,name=\"stats\")\n",
    "        return all_stats        \n",
    "        \n",
    "    def get_output(self,hidden_stat):\n",
    "        \"\"\"apply the hidden_state on RELU activation \n",
    "           function to compute output\n",
    "        \n",
    "        Args:\n",
    "            hidden_stat (matrix): state at time t\n",
    "        \n",
    "        Returns:\n",
    "            output: output matrix\n",
    "\n",
    "        Note:\n",
    "            returned matrix size (batch_number , output_size )\n",
    "        \"\"\"\n",
    "        output = tf.nn.relu(tf.matmul(hidden_stat,self.vo)+self.bo,name='output')\n",
    "        return output\n",
    "    \n",
    "        \n",
    "    def get_outputs(self):\n",
    "        \"\"\"get all output for all states\n",
    "    \n",
    "        Returns:\n",
    "            all_outputs: output matrix for all state  \n",
    "\n",
    "        Note:\n",
    "            returned matrix size (state_numbers , batch_number , output_size )\n",
    "        \"\"\"\n",
    "        #get all states for every time step \n",
    "        all_stats = self.get_states()\n",
    "        #compute output matrix for all states\n",
    "        all_outputs = tf.map_fn(self.get_output,all_stats,name='all_outputs')\n",
    "        return all_outputs\n",
    "    "
   ]
  },
  {
   "cell_type": "markdown",
   "metadata": {},
   "source": [
    "## Define Model"
   ]
  },
  {
   "cell_type": "code",
   "execution_count": 8,
   "metadata": {
    "collapsed": true
   },
   "outputs": [],
   "source": [
    "# define GruCell class\n",
    "rnn = GruCell(hidden_size=hidden_size,input_size=input_size,output_size=output_size)\n",
    "\n",
    "#get all outputs \n",
    "outputs = rnn.get_outputs()\n",
    "\n",
    "#get last state for batch\n",
    "last_output = outputs[-1]\n",
    "\n",
    "#apply softmax on all last states\n",
    "output = tf.nn.softmax(last_output)\n",
    "\n",
    "#define shape of y\n",
    "y = tf.placeholder(tf.float32,shape=[None,output_size])\n",
    "\n",
    "#compute Cost_function \n",
    "cross_entropy = -tf.reduce_sum(y * tf.log(output))/batch_size\n",
    "\n",
    "#use AdamOptmizer to reduece error\n",
    "optmizer_step = tf.train.AdamOptimizer(learning_rate=learn_rate).minimize(cross_entropy)\n",
    "\n",
    "#compute accuracy\n",
    "correct_prediction = tf.equal(tf.argmax(y,1),tf.argmax(output,1))\n",
    "accuracy = (tf.reduce_sum(tf.cast(correct_prediction,tf.float32)))*100"
   ]
  },
  {
   "cell_type": "markdown",
   "metadata": {},
   "source": [
    "## Train Model"
   ]
  },
  {
   "cell_type": "code",
   "execution_count": 9,
   "metadata": {},
   "outputs": [
    {
     "name": "stdout",
     "output_type": "stream",
     "text": [
      "WARNING:tensorflow:From /home/moroclash/anaconda3/lib/python3.6/site-packages/tensorflow/python/util/tf_should_use.py:175: initialize_all_variables (from tensorflow.python.ops.variables) is deprecated and will be removed after 2017-03-02.\n",
      "Instructions for updating:\n",
      "Use `tf.global_variables_initializer` instead.\n"
     ]
    }
   ],
   "source": [
    "sess = tf.Session()\n",
    "sess.run(tf.initialize_all_variables())\n",
    "saver = tf.train.Saver()"
   ]
  },
  {
   "cell_type": "code",
   "execution_count": 10,
   "metadata": {},
   "outputs": [
    {
     "data": {
      "image/png": "[encoded data removed]",
      "text/plain": [
       "<matplotlib.figure.Figure at 0x7f9f8cdd33c8>"
      ]
     },
     "metadata": {},
     "output_type": "display_data"
    },
    {
     "name": "stdout",
     "output_type": "stream",
     "text": [
      "         Iteration:      1299 \n",
      "               Loss:      38.0153208971 \n",
      "     Train-Accuracy:      82.7142857143 \n",
      "  Validate-Accuracy:      72.1030042918 \n",
      "      test-Accuracy:      73.9316239316 \n",
      "\n",
      "Improve count :: 14\n",
      "\n",
      "--- 137.6681249300639 minute ---\n"
     ]
    }
   ],
   "source": [
    "start_time = time.time()\n",
    "loss_fig=[]\n",
    "test_accuracy_fig=[]\n",
    "train_accuracy_fig=[]\n",
    "validate_accuracy_fig=[]\n",
    "epoch_fig=[]\n",
    "\n",
    "best_validate_accuracy =0\n",
    "improve_count = 0\n",
    "\n",
    "def print_info():\n",
    "    pl.figure(figsize=(15,6))\n",
    "    pl.plot(epoch_fig,loss_fig,'b')\n",
    "    pl.plot(epoch_fig,train_accuracy_fig,'r')\n",
    "    pl.plot(epoch_fig,validate_accuracy_fig,'g')\n",
    "    pl.plot(epoch_fig,test_accuracy_fig,'y')\n",
    "    pl.show()\n",
    "\n",
    "    sys.stdout.flush()\n",
    "    print(\"\\r         Iteration:      %s \\n\" \n",
    "          \"               Loss:      %s \\n\"  \n",
    "          \"     Train-Accuracy:      %s \\n\"\n",
    "          \"  Validate-Accuracy:      %s \\n\"\n",
    "          \"      test-Accuracy:      %s \\n\"%(epoch,loss,train_accuracy,validate_acuuracy,test_acuuracy))\n",
    "    print(\"Improve count :: %s     %s \"%(improve_count,best_validate_accuracy))\n",
    "    sys.stdout.flush()\n",
    "\n",
    "\n",
    "\n",
    "pl.ion() \n",
    "for epoch in range(epoch_number):\n",
    "    start = 0\n",
    "    end = batch_size\n",
    "    batchs_num = int(x_train.shape[0]/batch_size)\n",
    "    for i in range(batchs_num):\n",
    "        X = x_train[start:end]\n",
    "        Y = y_train[start:end]\n",
    "        start=end\n",
    "        end=end+batch_size\n",
    "        sess.run(optmizer_step,feed_dict={rnn.inputs_matrix:X,y:Y})\n",
    "    \n",
    "    loss = sess.run(cross_entropy,feed_dict={rnn.inputs_matrix:X,y:Y})*100\n",
    "    train_accuracy = sess.run(accuracy,feed_dict={rnn.inputs_matrix:x_train,y:y_train}) / len(x_train)\n",
    "    validate_acuuracy = sess.run(accuracy,feed_dict={rnn.inputs_matrix:x_validate,y:y_validate}) / len(x_validate)\n",
    "    test_acuuracy = sess.run(accuracy,feed_dict={rnn.inputs_matrix:x_test,y:y_test}) / len(x_test)\n",
    "\n",
    "    #check best accuracy to save best pramaters\n",
    "    if(best_validate_accuracy < validate_acuuracy):\n",
    "        best_validate_accuracy=validate_acuuracy\n",
    "        saver.save(sess, 'Pramaters/Model_1_using_GRU')\n",
    "        improve_count = improve_count+1\n",
    "    \n",
    "    epoch_fig.append(epoch)\n",
    "    loss_fig.append(loss)\n",
    "    train_accuracy_fig.append(train_accuracy)\n",
    "    validate_accuracy_fig.append(validate_acuuracy)\n",
    "    test_accuracy_fig.append(test_acuuracy)\n",
    "    \n",
    "\n",
    "    print_info()\n",
    "    display.clear_output(wait=True)\n",
    "\n",
    "    \n",
    "print_info()\n",
    "print(\"\\n--- %s minute ---\" % ((time.time() - start_time)/60))\n",
    "sess.close()"
   ]
  },
  {
   "cell_type": "markdown",
   "metadata": {},
   "source": [
    "# Model Info\n",
    "\n",
    " * input layer :: 27\n",
    " * hidden layer units :: 160\n",
    " * output layer :: 2\n",
    " \n",
    " * one-layer GRU\n",
    " * epoch : 1300\n",
    " * batch size : 700  \"all training set\"\n",
    " * Train-Accuracy:      54.7142857143 \n",
    " * Validate-Accuracy:      56.2231759657 \n",
    " * test-Accuracy:      50.8547008547\n",
    " \n",
    " \n",
    "  after 1300 epoch :    there is over fiting\n",
    " * Train-Accuracy:      82.7142857143 \n",
    " * Validate-Accuracy:      72.1030042918 \n",
    " * test-Accuracy:      73.9316239316\n",
    " \n",
    " \n",
    " #### note : we save pramaters after reach to the best Validate accurecy aftert 14 improvement \n",
    " ####            best Validate accuracy : 79.828%"
   ]
  },
  {
   "cell_type": "markdown",
   "metadata": {},
   "source": [
    "## Test model "
   ]
  },
  {
   "cell_type": "code",
   "execution_count": 12,
   "metadata": {
    "collapsed": true
   },
   "outputs": [],
   "source": [
    "#get all outputs of test set\n",
    "test_outputs = rnn.get_outputs()\n",
    "sess.run(test_outputs,feed_dict={rnn.inputs_matrix:x_test})\n",
    "#get last state of last time step\n",
    "last_test_output = test_outputs[-1]\n"
   ]
  },
  {
   "cell_type": "code",
   "execution_count": 13,
   "metadata": {
    "collapsed": true
   },
   "outputs": [],
   "source": [
    "#apply softmax on last_test_output\n",
    "y_predict = sess.run(tf.nn.softmax(last_test_output),feed_dict={rnn.inputs_matrix:x_test})"
   ]
  },
  {
   "cell_type": "code",
   "execution_count": 14,
   "metadata": {},
   "outputs": [
    {
     "name": "stdout",
     "output_type": "stream",
     "text": [
      "Accuracy of test set :: 73.9316 \n"
     ]
    }
   ],
   "source": [
    "#compute accuracy\n",
    "correct_prediction = tf.equal(tf.argmax(y_predict,1),tf.argmax(y_test,1))\n",
    "accuracy = (tf.reduce_sum(tf.cast(correct_prediction,tf.float32))*100)/len(x_test)\n",
    "print(\"Accuracy of test set :: %s \"%(sess.run(accuracy)))\n"
   ]
  },
  {
   "cell_type": "code",
   "execution_count": 16,
   "metadata": {},
   "outputs": [
    {
     "name": "stdout",
     "output_type": "stream",
     "text": [
      "[ 1.  0.]\n",
      "[ 0.19206938  0.80793065]\n"
     ]
    }
   ],
   "source": [
    "num = 44\n",
    "print(y_test[num])\n",
    "print(y_predict[num])"
   ]
  },
  {
   "cell_type": "markdown",
   "metadata": {},
   "source": [
    "## Retrive pramaters from Pramaters folder and test data"
   ]
  },
  {
   "cell_type": "code",
   "execution_count": 12,
   "metadata": {},
   "outputs": [
    {
     "name": "stdout",
     "output_type": "stream",
     "text": [
      "WARNING:tensorflow:From /home/moroclash/anaconda3/lib/python3.6/site-packages/tensorflow/python/util/tf_should_use.py:175: initialize_all_variables (from tensorflow.python.ops.variables) is deprecated and will be removed after 2017-03-02.\n",
      "Instructions for updating:\n",
      "Use `tf.global_variables_initializer` instead.\n",
      "INFO:tensorflow:Restoring parameters from Pramaters/Model_1_using_GRU\n",
      "Accuracy of test set :: 51.7094 \n"
     ]
    }
   ],
   "source": [
    "import tensorflow as tf\n",
    "\n",
    "#define new graph\n",
    "new_graph = tf.Graph()\n",
    "#start new session called sess2\n",
    "with tf.Session(graph=new_graph) as sess2:  \n",
    "    #define new_rnn\n",
    "    new_rnn = GruCell(hidden_size=hidden_size,input_size=input_size,output_size=output_size)\n",
    "    #get all outputs\n",
    "    predicted_outputs = new_rnn.get_outputs()\n",
    "    #initialize pramaters of new_rnn\n",
    "    sess2.run(tf.initialize_all_variables())\n",
    "    #define saver\n",
    "    saver = tf.train.Saver()\n",
    "    #get saved pramaters\n",
    "    tf.train.import_meta_graph('Pramaters/Model_1_using_GRU.meta')\n",
    "    #get last checkpoint\n",
    "    saver.restore(sess2,tf.train.latest_checkpoint('Pramaters/'))\n",
    "    #run graph\n",
    "    predicted_outputs = sess2.run(predicted_outputs,feed_dict={new_rnn.inputs_matrix:x_test})\n",
    "    #get last time step\n",
    "    last_test_output = predicted_outputs[-1]\n",
    "    #apply softmax layer\n",
    "    y_predict = sess2.run(tf.nn.softmax(last_test_output),feed_dict={new_rnn.inputs_matrix:x_test})\n",
    "    #compute accuracy of test set\n",
    "    correct_prediction = tf.equal(tf.argmax(y_predict,1),tf.argmax(y_test,1))\n",
    "    accuracy = (tf.reduce_sum(tf.cast(correct_prediction,tf.float32))*100)/len(x_test)\n",
    "    print(\"Accuracy of test set :: %s \"%(sess2.run(accuracy)))\n",
    "\n"
   ]
  },
  {
   "cell_type": "code",
   "execution_count": null,
   "metadata": {
    "collapsed": true
   },
   "outputs": [],
   "source": []
  }
 ],
 "metadata": {
  "kernelspec": {
   "display_name": "Python 3",
   "language": "python",
   "name": "python3"
  },
  "language_info": {
   "codemirror_mode": {
    "name": "ipython",
    "version": 3
   },
   "file_extension": ".py",
   "mimetype": "text/x-python",
   "name": "python",
   "nbconvert_exporter": "python",
   "pygments_lexer": "ipython3",
   "version": "3.6.1"
  }
 },
 "nbformat": 4,
 "nbformat_minor": 2
}
