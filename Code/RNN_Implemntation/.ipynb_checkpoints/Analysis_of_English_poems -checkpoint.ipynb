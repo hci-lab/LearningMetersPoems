{
 "cells": [
  {
   "cell_type": "markdown",
   "metadata": {},
   "source": [
    "# Visualise data to understand the deiffrent between to meter:\n",
    "\n",
    "## our data considered as tow meters \n",
    "* **Iambic**\n",
    "* **Dactyl** \n"
   ]
  },
  {
   "cell_type": "code",
   "execution_count": 1,
   "metadata": {
    "collapsed": true
   },
   "outputs": [],
   "source": [
    "import seaborn as ses\n",
    "import pandas as pd\n",
    "import numpy as np\n",
    "import matplotlib.pylab as plt \n",
    "from IPython import display\n",
    "import pylab as pl\n",
    "from sklearn.utils import shuffle\n",
    "import regex as re\n",
    "import tensorflow as tf\n",
    "from IPython.display import clear_output\n",
    "import time\n",
    "import h5py\n",
    "\n",
    "\n",
    "%matplotlib inline"
   ]
  },
  {
   "cell_type": "markdown",
   "metadata": {},
   "source": [
    "## load data from **Data** file:"
   ]
  },
  {
   "cell_type": "code",
   "execution_count": 2,
   "metadata": {
    "collapsed": true
   },
   "outputs": [],
   "source": [
    "#load data as DataFrame from dataset.csv file\n",
    "data = pd.read_csv('Data/dataset.csv')\n",
    "#shuffled data to be random\n",
    "data = shuffle(data)"
   ]
  },
  {
   "cell_type": "markdown",
   "metadata": {},
   "source": [
    "# Sample from data:"
   ]
  },
  {
   "cell_type": "code",
   "execution_count": 42,
   "metadata": {},
   "outputs": [
    {
     "data": {
      "text/html": [
       "<div>\n",
       "<style>\n",
       "    .dataframe thead tr:only-child th {\n",
       "        text-align: right;\n",
       "    }\n",
       "\n",
       "    .dataframe thead th {\n",
       "        text-align: left;\n",
       "    }\n",
       "\n",
       "    .dataframe tbody tr th {\n",
       "        vertical-align: top;\n",
       "    }\n",
       "</style>\n",
       "<table border=\"1\" class=\"dataframe\">\n",
       "  <thead>\n",
       "    <tr style=\"text-align: right;\">\n",
       "      <th></th>\n",
       "      <th>Poem_Line</th>\n",
       "      <th>Mater</th>\n",
       "    </tr>\n",
       "  </thead>\n",
       "  <tbody>\n",
       "    <tr>\n",
       "      <th>186</th>\n",
       "      <td>the making up must be complete in every way</td>\n",
       "      <td>Iambic</td>\n",
       "    </tr>\n",
       "    <tr>\n",
       "      <th>624</th>\n",
       "      <td>Their trembling buds awake beside my fench</td>\n",
       "      <td>Iambic</td>\n",
       "    </tr>\n",
       "    <tr>\n",
       "      <th>921</th>\n",
       "      <td>Wiggley jiggeldy</td>\n",
       "      <td>Dactyl</td>\n",
       "    </tr>\n",
       "    <tr>\n",
       "      <th>465</th>\n",
       "      <td>The sight   ineffable to say the least</td>\n",
       "      <td>Iambic</td>\n",
       "    </tr>\n",
       "    <tr>\n",
       "      <th>844</th>\n",
       "      <td>Then why is it no one ever does</td>\n",
       "      <td>Dactyl</td>\n",
       "    </tr>\n",
       "    <tr>\n",
       "      <th>978</th>\n",
       "      <td>Grandma Penelope</td>\n",
       "      <td>Dactyl</td>\n",
       "    </tr>\n",
       "    <tr>\n",
       "      <th>629</th>\n",
       "      <td>The diamond leaves  are unfurling now</td>\n",
       "      <td>Iambic</td>\n",
       "    </tr>\n",
       "    <tr>\n",
       "      <th>971</th>\n",
       "      <td>Grandfather Thaddeus</td>\n",
       "      <td>Dactyl</td>\n",
       "    </tr>\n",
       "    <tr>\n",
       "      <th>1090</th>\n",
       "      <td>They that had fought so well</td>\n",
       "      <td>Dactyl</td>\n",
       "    </tr>\n",
       "    <tr>\n",
       "      <th>976</th>\n",
       "      <td>unceremonious</td>\n",
       "      <td>Dactyl</td>\n",
       "    </tr>\n",
       "  </tbody>\n",
       "</table>\n",
       "</div>"
      ],
      "text/plain": [
       "                                        Poem_Line   Mater\n",
       "186   the making up must be complete in every way  Iambic\n",
       "624   Their trembling buds awake beside my fench   Iambic\n",
       "921                              Wiggley jiggeldy  Dactyl\n",
       "465        The sight   ineffable to say the least  Iambic\n",
       "844               Then why is it no one ever does  Dactyl\n",
       "978                              Grandma Penelope  Dactyl\n",
       "629        The diamond leaves  are unfurling now   Iambic\n",
       "971                          Grandfather Thaddeus  Dactyl\n",
       "1090                 They that had fought so well  Dactyl\n",
       "976                                 unceremonious  Dactyl"
      ]
     },
     "execution_count": 42,
     "metadata": {},
     "output_type": "execute_result"
    }
   ],
   "source": [
    "data.head(10)"
   ]
  },
  {
   "cell_type": "markdown",
   "metadata": {},
   "source": [
    "## View Size of Data\n",
    "* **Dactyl**  :  556\n",
    "* **Iambic**  :  634\n",
    "\n",
    "**Total Size** : 1190"
   ]
  },
  {
   "cell_type": "code",
   "execution_count": 43,
   "metadata": {},
   "outputs": [
    {
     "name": "stdout",
     "output_type": "stream",
     "text": [
      "        Poem_Line\n",
      "Mater            \n",
      "Dactyl        556\n",
      "Iambic        634\n"
     ]
    },
    {
     "name": "stderr",
     "output_type": "stream",
     "text": [
      "/home/moroclash/anaconda3/lib/python3.6/site-packages/matplotlib/font_manager.py:1297: UserWarning: findfont: Font family ['sans-serif'] not found. Falling back to DejaVu Sans\n",
      "  (prop.get_family(), self.defaultFamily[fontext]))\n"
     ]
    },
    {
     "data": {
      "image/png": "[encoded data removed]",
      "text/plain": [
       "<matplotlib.figure.Figure at 0x7f0c5b757908>"
      ]
     },
     "metadata": {},
     "output_type": "display_data"
    }
   ],
   "source": [
    "#plot size of every meter\n",
    "print(data.groupby('Mater').count())\n",
    "fig, axs = plt.subplots(figsize=(15,5))\n",
    "ses.countplot(y=\"Mater\", data=data, palette=\"Greens_d\",ax=axs);"
   ]
  },
  {
   "cell_type": "markdown",
   "metadata": {},
   "source": [
    "## Distrbution of count of characters poem  :"
   ]
  },
  {
   "cell_type": "code",
   "execution_count": 44,
   "metadata": {
    "collapsed": true
   },
   "outputs": [],
   "source": [
    "#count characters per poem\n",
    "data['char_count'] = [len(str(poem)) for poem in data['Poem_Line']]"
   ]
  },
  {
   "cell_type": "code",
   "execution_count": 45,
   "metadata": {},
   "outputs": [
    {
     "data": {
      "text/plain": [
       "<matplotlib.axes._subplots.AxesSubplot at 0x7f0c597a7c18>"
      ]
     },
     "execution_count": 45,
     "metadata": {},
     "output_type": "execute_result"
    },
    {
     "name": "stderr",
     "output_type": "stream",
     "text": [
      "/home/moroclash/anaconda3/lib/python3.6/site-packages/matplotlib/font_manager.py:1297: UserWarning: findfont: Font family ['sans-serif'] not found. Falling back to DejaVu Sans\n",
      "  (prop.get_family(), self.defaultFamily[fontext]))\n"
     ]
    },
    {
     "data": {
      "image/png": "[encoded data removed]",
      "text/plain": [
       "<matplotlib.figure.Figure at 0x7f0c5b7af198>"
      ]
     },
     "metadata": {},
     "output_type": "display_data"
    }
   ],
   "source": [
    "#plot distribution of char_counts 'f(x)' on all data\n",
    "\n",
    "fig, axs = plt.subplots(ncols=2,figsize=(17,8))\n",
    "ses.kdeplot(data['char_count'],shade=True,ax=axs[0])\n",
    "ses.distplot(data['char_count'],kde=False,ax=axs[1])"
   ]
  },
  {
   "cell_type": "markdown",
   "metadata": {},
   "source": [
    "#### we will found that denesity at  **30<=x<=50** very high and there is low probability at **x>70** and **x< 10** .\n",
    "#### there is two peak , so it may be because we have 2 Meters and everyone have it's own distribution"
   ]
  },
  {
   "cell_type": "markdown",
   "metadata": {},
   "source": [
    "## show outliers using Box plot :"
   ]
  },
  {
   "cell_type": "code",
   "execution_count": 46,
   "metadata": {},
   "outputs": [
    {
     "data": {
      "text/plain": [
       "<matplotlib.axes._subplots.AxesSubplot at 0x7f0c59479320>"
      ]
     },
     "execution_count": 46,
     "metadata": {},
     "output_type": "execute_result"
    },
    {
     "name": "stderr",
     "output_type": "stream",
     "text": [
      "/home/moroclash/anaconda3/lib/python3.6/site-packages/matplotlib/font_manager.py:1297: UserWarning: findfont: Font family ['sans-serif'] not found. Falling back to DejaVu Sans\n",
      "  (prop.get_family(), self.defaultFamily[fontext]))\n"
     ]
    },
    {
     "data": {
      "image/png": "[encoded data removed]",
      "text/plain": [
       "<matplotlib.figure.Figure at 0x7f0c5949d5c0>"
      ]
     },
     "metadata": {},
     "output_type": "display_data"
    }
   ],
   "source": [
    "fig,axs = plt.subplots(figsize=(15,5))\n",
    "ses.boxplot(data['char_count'],orient='h',ax=axs)"
   ]
  },
  {
   "cell_type": "markdown",
   "metadata": {},
   "source": [
    "## Show diffrent between tow distribution : "
   ]
  },
  {
   "cell_type": "code",
   "execution_count": 47,
   "metadata": {},
   "outputs": [
    {
     "data": {
      "text/plain": [
       "<matplotlib.axes._subplots.AxesSubplot at 0x7f0c598310f0>"
      ]
     },
     "execution_count": 47,
     "metadata": {},
     "output_type": "execute_result"
    },
    {
     "name": "stderr",
     "output_type": "stream",
     "text": [
      "/home/moroclash/anaconda3/lib/python3.6/site-packages/matplotlib/font_manager.py:1297: UserWarning: findfont: Font family ['sans-serif'] not found. Falling back to DejaVu Sans\n",
      "  (prop.get_family(), self.defaultFamily[fontext]))\n"
     ]
    },
    {
     "data": {
      "image/png": "[encoded data removed]",
      "text/plain": [
       "<matplotlib.figure.Figure at 0x7f0c5b799b38>"
      ]
     },
     "metadata": {},
     "output_type": "display_data"
    }
   ],
   "source": [
    "#get all Imbic poems\n",
    "Imbic = data.groupby('Mater').get_group('Iambic')['char_count']\n",
    "#get all Dactyl poems\n",
    "Dactyl = data.groupby('Mater').get_group('Dactyl')['char_count']\n",
    "\n",
    "#plot tow distribution with each other\n",
    "fig,axs =plt.subplots(figsize=(15,8))\n",
    "ses.distplot(Imbic,hist=False,label=\"Iambic\",ax=axs)\n",
    "ses.distplot(Dactyl,hist=False,label=\"Dactyl\",ax=axs)\n"
   ]
  },
  {
   "cell_type": "markdown",
   "metadata": {},
   "source": [
    "#### it's mean that every Meter has it's own distribution and most of **Iambic** poems is [35,45] and **Dactyl** poems have larger variance so it may be [15,55]  "
   ]
  },
  {
   "cell_type": "code",
   "execution_count": 48,
   "metadata": {},
   "outputs": [
    {
     "data": {
      "text/plain": [
       "<matplotlib.axes._subplots.AxesSubplot at 0x7f0c595cf860>"
      ]
     },
     "execution_count": 48,
     "metadata": {},
     "output_type": "execute_result"
    },
    {
     "name": "stderr",
     "output_type": "stream",
     "text": [
      "/home/moroclash/anaconda3/lib/python3.6/site-packages/matplotlib/font_manager.py:1297: UserWarning: findfont: Font family ['sans-serif'] not found. Falling back to DejaVu Sans\n",
      "  (prop.get_family(), self.defaultFamily[fontext]))\n"
     ]
    },
    {
     "data": {
      "image/png": "[encoded data removed]",
      "text/plain": [
       "<matplotlib.figure.Figure at 0x7f0c5949da90>"
      ]
     },
     "metadata": {},
     "output_type": "display_data"
    }
   ],
   "source": [
    "#plot tow distribution \n",
    "fig,axs =plt.subplots(ncols=2,figsize=(15,7))\n",
    "ses.distplot(Imbic ,hist=True,kde=False,label=\"Iambic\",ax=axs[0],bins=30)\n",
    "ses.distplot(Dactyl,hist=True,kde=False,label=\"Dactyl\",ax=axs[1],bins=30)"
   ]
  },
  {
   "cell_type": "markdown",
   "metadata": {},
   "source": [
    "# show outliers and clean noisy data"
   ]
  },
  {
   "cell_type": "code",
   "execution_count": 51,
   "metadata": {},
   "outputs": [
    {
     "name": "stdout",
     "output_type": "stream",
     "text": [
      "24\n"
     ]
    },
    {
     "data": {
      "text/html": [
       "<div>\n",
       "<style>\n",
       "    .dataframe thead tr:only-child th {\n",
       "        text-align: right;\n",
       "    }\n",
       "\n",
       "    .dataframe thead th {\n",
       "        text-align: left;\n",
       "    }\n",
       "\n",
       "    .dataframe tbody tr th {\n",
       "        vertical-align: top;\n",
       "    }\n",
       "</style>\n",
       "<table border=\"1\" class=\"dataframe\">\n",
       "  <thead>\n",
       "    <tr style=\"text-align: right;\">\n",
       "      <th></th>\n",
       "      <th>Poem_Line</th>\n",
       "      <th>Mater</th>\n",
       "      <th>char_count</th>\n",
       "    </tr>\n",
       "  </thead>\n",
       "  <tbody>\n",
       "    <tr>\n",
       "      <th>763</th>\n",
       "      <td>Yes Abbie</td>\n",
       "      <td>Dactyl</td>\n",
       "      <td>9</td>\n",
       "    </tr>\n",
       "    <tr>\n",
       "      <th>766</th>\n",
       "      <td>Yes Abbie</td>\n",
       "      <td>Dactyl</td>\n",
       "      <td>10</td>\n",
       "    </tr>\n",
       "    <tr>\n",
       "      <th>651</th>\n",
       "      <td>dead</td>\n",
       "      <td>Dactyl</td>\n",
       "      <td>4</td>\n",
       "    </tr>\n",
       "    <tr>\n",
       "      <th>1026</th>\n",
       "      <td>think i am</td>\n",
       "      <td>Dactyl</td>\n",
       "      <td>10</td>\n",
       "    </tr>\n",
       "    <tr>\n",
       "      <th>1030</th>\n",
       "      <td>of showing</td>\n",
       "      <td>Dactyl</td>\n",
       "      <td>10</td>\n",
       "    </tr>\n",
       "    <tr>\n",
       "      <th>1020</th>\n",
       "      <td>Heart</td>\n",
       "      <td>Dactyl</td>\n",
       "      <td>5</td>\n",
       "    </tr>\n",
       "    <tr>\n",
       "      <th>1022</th>\n",
       "      <td>girl i</td>\n",
       "      <td>Dactyl</td>\n",
       "      <td>6</td>\n",
       "    </tr>\n",
       "    <tr>\n",
       "      <th>644</th>\n",
       "      <td>this?</td>\n",
       "      <td>Dactyl</td>\n",
       "      <td>5</td>\n",
       "    </tr>\n",
       "    <tr>\n",
       "      <th>1024</th>\n",
       "      <td>suppose to</td>\n",
       "      <td>Dactyl</td>\n",
       "      <td>10</td>\n",
       "    </tr>\n",
       "    <tr>\n",
       "      <th>833</th>\n",
       "      <td>NaN</td>\n",
       "      <td>Dactyl</td>\n",
       "      <td>3</td>\n",
       "    </tr>\n",
       "  </tbody>\n",
       "</table>\n",
       "</div>"
      ],
      "text/plain": [
       "       Poem_Line   Mater  char_count\n",
       "763    Yes Abbie  Dactyl           9\n",
       "766   Yes Abbie   Dactyl          10\n",
       "651         dead  Dactyl           4\n",
       "1026  think i am  Dactyl          10\n",
       "1030  of showing  Dactyl          10\n",
       "1020       Heart  Dactyl           5\n",
       "1022      girl i  Dactyl           6\n",
       "644        this?  Dactyl           5\n",
       "1024  suppose to  Dactyl          10\n",
       "833          NaN  Dactyl           3"
      ]
     },
     "execution_count": 51,
     "metadata": {},
     "output_type": "execute_result"
    }
   ],
   "source": [
    "#this use to decide what's minimum number of chars in poem\n",
    "min_char_num = 10\n",
    "#get number of poems that hvae length <= char_num\n",
    "noisy_data = [1 if num<=min_char_num else 0  for i,num in enumerate(data['char_count'])]\n",
    "#print number of noisy\n",
    "print(np.sum(noisy_data))\n",
    "#show sample from this noisy\n",
    "noisy_data = data.loc[data['char_count']<=min_char_num]\n",
    "noisy_data[:10]"
   ]
  },
  {
   "cell_type": "markdown",
   "metadata": {},
   "source": [
    "#### have some of poem is one word but it's seem Wrong in getting data"
   ]
  },
  {
   "cell_type": "markdown",
   "metadata": {},
   "source": [
    "# remove noisy :"
   ]
  },
  {
   "cell_type": "code",
   "execution_count": 11,
   "metadata": {
    "collapsed": true
   },
   "outputs": [],
   "source": [
    "#remove poems that hvae length <= char_num\n",
    "data = data.drop(data.index[data['char_count'] <= 10].tolist())"
   ]
  },
  {
   "cell_type": "markdown",
   "metadata": {},
   "source": [
    "# Represent Data :"
   ]
  },
  {
   "cell_type": "markdown",
   "metadata": {},
   "source": [
    "### it's covert DataFrame to Big Matrix of **(m,t,n)** :\n",
    "* **m** : number of examples --> ('number of senteces')\n",
    "* **t** : time iteration --> ('number of chars at sentence')\n",
    "* **n** : fetures number  --> ('vector that represent a char')\n",
    "\n",
    "#### convert char to one-hot vector (27,1) . \n",
    "\n",
    "#### Notes : \n",
    "* get max count of sentence to use it to create\n",
    "  sentence matrix .\n",
    "* every sentence will be the same matrix size (t,n) ."
   ]
  },
  {
   "cell_type": "code",
   "execution_count": 43,
   "metadata": {
    "collapsed": true
   },
   "outputs": [],
   "source": [
    "#get max count of chars \n",
    "max_count_of_chars=data['char_count'].max()\n",
    "\n",
    "# define our alphabets\n",
    "alphabet = 'abcdefghijklmnopqrstuvwxyz '\n",
    "\n",
    "# define a mapping of chars to integers\n",
    "char_to_int = dict((c, i) for i, c in enumerate(alphabet))\n",
    "\n",
    "number_of_classes = len(alphabet)\n",
    "\n",
    "def remove_spectial_char(verse):\n",
    "    \"\"\"clean data from strange chars\n",
    "    \n",
    "    Args:\n",
    "        verse (string): uncleaned verse .\n",
    "        \n",
    "    Returns:\n",
    "        cleaned_verse: return cleaned verse after remove all strange chars.\n",
    "        \n",
    "    Example:\n",
    "            remove_spectial_char(\"abcde>? fgh\")\n",
    "            >>> abcde fgh\n",
    "    \"\"\"\n",
    "    cleaned_verse = re.sub('[^'+alphabet+']','', verse)\n",
    "    return cleaned_verse\n",
    "\n",
    "\n",
    "\n",
    "def represent_verse(verse,iterate_number):\n",
    "    \"\"\"convert verse to matrix (t,n)\n",
    "       n : one hot vector 27 dimantion\n",
    "       t : max count of chars\n",
    "       \n",
    "    Args:\n",
    "        verse (string): verse that will convert it to matrix\n",
    "        iterate_number (int) : number of rows \n",
    "        \n",
    "    Returns:\n",
    "        matrix: return matrix (t,n) that represent a verse.\n",
    "        \n",
    "    Example:\n",
    "            represent_verse(\"abc\",5)\n",
    "            >>> |------------->27\n",
    "                |   a,b,c,....,sp\n",
    "                |\n",
    "                | [[1,0,0,....,0],  a\n",
    "                |  [0,1,0,....,0],  b \n",
    "                |  [0,0,1,0,..,0],  c\n",
    "                |  [0,0,0,..,0,1],  sp\n",
    "                v  [0,0,0,..,0,1]]  sp\n",
    "                5\n",
    "                \n",
    "            * sp : is space\n",
    "    \"\"\"\n",
    "    #make verse as lower chares\n",
    "    verse = verse.lower()\n",
    "    #remove any strange char that don't in our alphabet\n",
    "    verse = remove_spectial_char(verse)\n",
    "\n",
    "    current_verse_length=len(verse)\n",
    "    #add number of spaces to make verse in same length with other verses \n",
    "    verse=verse + ' '*(max_count_of_chars-current_verse_length)\n",
    "    \n",
    "    # integer encode input data\n",
    "    integer_encoded = [char_to_int[char] for char in verse]\n",
    "    # convert integer_encoding to one-hot matrix\n",
    "    matrix=indices_to_one_hot(integer_encoded, number_of_classes)    \n",
    "    \n",
    "    #output number of itration\n",
    "    clear_output()\n",
    "    print(\"\\rIteration: %s\"%(iterate_number))\n",
    "    \n",
    "    return matrix\n",
    "  \n",
    "\n",
    "def indices_to_one_hot(data, nb_classes):\n",
    "    \"\"\"Convert list of classes number to one-hot vector.\n",
    "       \n",
    "    Args:\n",
    "        data (list): list of chars but every cahrs as number of his class\n",
    "                     like : abz  -->  [1,2,26]\n",
    "        nb_classes (int) : number of classes \n",
    "        \n",
    "    Returns:\n",
    "        matrix: matrix (data_length,nb_classes) as one-hot marix.\n",
    "        \n",
    "    Example:\n",
    "           indices_to_one_hot([0,1,13],15)\n",
    "           >>>  |--0----------->14\n",
    "                |\n",
    "                | [[1,0,0,....,0], \n",
    "                |  [0,1,0,....,0],   \n",
    "                v  [0,0,0,..,1,0]]  \n",
    "                3\n",
    "    \"\"\"\n",
    "    return tf.Session().run(tf.one_hot(indices=data,depth=nb_classes)).tolist()"
   ]
  },
  {
   "cell_type": "markdown",
   "metadata": {},
   "source": [
    "## represent all data as one-hot matrix (m,t,n)\n",
    "* note it will take long time becouse it loop m time"
   ]
  },
  {
   "cell_type": "code",
   "execution_count": 56,
   "metadata": {},
   "outputs": [
    {
     "name": "stdout",
     "output_type": "stream",
     "text": [
      "\r",
      "Iteration: 1166\n"
     ]
    }
   ],
   "source": [
    "start_time = time.time()\n",
    "# make all m example as 3D matrix \n",
    "X = np.asarray([represent_verse(poem,i) for i,poem in enumerate(data['Poem_Line'])])\n",
    "print(\"\\n--- %s minute ---\" % (time.time() - start_time)/60)"
   ]
  },
  {
   "cell_type": "code",
   "execution_count": 57,
   "metadata": {},
   "outputs": [
    {
     "data": {
      "text/plain": [
       "(1167, 83, 27)"
      ]
     },
     "execution_count": 57,
     "metadata": {},
     "output_type": "execute_result"
    }
   ],
   "source": [
    "X.shape"
   ]
  },
  {
   "cell_type": "code",
   "execution_count": 59,
   "metadata": {
    "collapsed": true
   },
   "outputs": [],
   "source": [
    "meter_dic = dict((meter, i) for i, meter in enumerate(data['Mater'].unique()))\n",
    "\n",
    "# Prepar output as one-hot vector\n",
    "data['lable'] = [meter_dic[poem_meter] for poem_meter in data['Mater']]\n",
    "Y = np.asarray(indices_to_one_hot(data['lable'],2))"
   ]
  },
  {
   "cell_type": "code",
   "execution_count": 60,
   "metadata": {},
   "outputs": [
    {
     "data": {
      "text/plain": [
       "(1167, 2)"
      ]
     },
     "execution_count": 60,
     "metadata": {},
     "output_type": "execute_result"
    }
   ],
   "source": [
    "Y.shape"
   ]
  },
  {
   "cell_type": "markdown",
   "metadata": {
    "collapsed": true
   },
   "source": [
    "## Save X,Y in file Data/data_matrix"
   ]
  },
  {
   "cell_type": "code",
   "execution_count": 96,
   "metadata": {
    "collapsed": true
   },
   "outputs": [],
   "source": [
    "def save(nameOfFile,nameOfDataset,dataVar):\n",
    "    h5f = h5py.File(nameOfFile, 'w')\n",
    "    h5f.create_dataset(nameOfDataset, data=dataVar)\n",
    "    h5f.close()"
   ]
  },
  {
   "cell_type": "code",
   "execution_count": 97,
   "metadata": {
    "collapsed": true
   },
   "outputs": [],
   "source": [
    "save(\"Data/data_matrix_X.h5\",\"X\",X)\n",
    "save(\"Data/data_matrix_Y.h5\",\"Y\",Y)"
   ]
  }
 ],
 "metadata": {
  "kernelspec": {
   "display_name": "Python 3",
   "language": "python",
   "name": "python3"
  },
  "language_info": {
   "codemirror_mode": {
    "name": "ipython",
    "version": 3
   },
   "file_extension": ".py",
   "mimetype": "text/x-python",
   "name": "python",
   "nbconvert_exporter": "python",
   "pygments_lexer": "ipython3",
   "version": "3.6.1"
  }
 },
 "nbformat": 4,
 "nbformat_minor": 2
}
